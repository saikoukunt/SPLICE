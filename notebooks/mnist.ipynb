{
 "cells": [
  {
   "cell_type": "code",
   "execution_count": 1,
   "metadata": {},
   "outputs": [
    {
     "name": "stdout",
     "output_type": "stream",
     "text": [
      "Device: cuda\n"
     ]
    }
   ],
   "source": [
    "import os\n",
    "import pickle\n",
    "import sys\n",
    "\n",
    "import matplotlib.colors as mcolors\n",
    "import matplotlib.pyplot as plt\n",
    "import numpy\n",
    "import numpy as np\n",
    "import seaborn as sns\n",
    "import torch\n",
    "import torch.nn.functional as F\n",
    "\n",
    "from splice.base import carlosPlus\n",
    "from splice.splice import SPLICE, SPLICECore\n",
    "\n",
    "device = torch.device(\"cuda\" if torch.cuda.is_available() else \"mps\" if torch.backends.mps.is_available() else \"cpu\")\n",
    "print(\"Device:\", device)"
   ]
  },
  {
   "cell_type": "code",
   "execution_count": 2,
   "metadata": {},
   "outputs": [
    {
     "data": {
      "text/plain": [
       "<All keys matched successfully>"
      ]
     },
     "execution_count": 2,
     "metadata": {},
     "output_type": "execute_result"
    }
   ],
   "source": [
    "model = SPLICE(784, 784, 30, 0, 2, [256,128,64,32], [256,128,64,32][::-1], [256,128,64,32][::-1], act_fn=carlosPlus).to(device)\n",
    "model.load_state_dict(torch.load(\"../results/models/mnist/splice_mnist_2D.pt\"))"
   ]
  },
  {
   "cell_type": "code",
   "execution_count": 57,
   "metadata": {},
   "outputs": [],
   "source": [
    "data = np.load(\n",
    "    r\"C:\\Users\\Harris_Lab\\Projects\\SPLICE\\data\\mnist\\mnist_rotated_shared-digit.npz\"\n",
    ")\n",
    "\n",
    "X = torch.Tensor(data[\"original\"][:50000]).to(device)\n",
    "Y = torch.Tensor(data[\"rotated\"][:50000]).to(device)\n",
    "\n",
    "X_val = torch.Tensor(data[\"original\"][50000:60000]).to(device)\n",
    "Y_val = torch.Tensor(data[\"rotated\"][50000:60000]).to(device)\n",
    "\n",
    "X_test = torch.Tensor(data[\"original\"][60000:]).to(device)\n",
    "Y_test = torch.Tensor(data[\"rotated\"][60000:]).to(device)\n",
    "angles_test = data[\"angles\"][60000:]\n",
    "labels_test = data[\"labels\"][60000:]"
   ]
  },
  {
   "cell_type": "code",
   "execution_count": 26,
   "metadata": {},
   "outputs": [],
   "source": [
    "a_shared_subm, b_shared_subm, a_private_subm, b_private_subm = SPLICE.project_to_submanifolds(model, X_test, Y_test)"
   ]
  },
  {
   "cell_type": "code",
   "execution_count": 27,
   "metadata": {},
   "outputs": [],
   "source": [
    "from sklearn.neighbors import NearestNeighbors\n",
    "\n",
    "nn = NearestNeighbors(n_neighbors=2)\n",
    "nn.fit(Y_test.detach().cpu().numpy())\n",
    "distances, indices = nn.kneighbors(Y_test.detach().cpu().numpy())\n",
    "data_nn = distances[:,1]\n",
    "\n",
    "distances, indices = nn.kneighbors(b_private_subm.detach().cpu().numpy())\n",
    "private_nn = distances[:,0]\n",
    "\n",
    "distances, indices = nn.kneighbors(b_shared_subm.detach().cpu().numpy())\n",
    "shared_nn = distances[:, 0]"
   ]
  },
  {
   "cell_type": "code",
   "execution_count": 58,
   "metadata": {},
   "outputs": [
    {
     "name": "stdout",
     "output_type": "stream",
     "text": [
      "0\n",
      "1\n",
      "2\n",
      "3\n",
      "4\n",
      "5\n",
      "6\n",
      "7\n",
      "8\n",
      "9\n"
     ]
    },
    {
     "data": {
      "text/plain": [
       "8.948847014728424"
      ]
     },
     "execution_count": 58,
     "metadata": {},
     "output_type": "execute_result"
    }
   ],
   "source": [
    "from scipy.spatial.distance import cdist\n",
    "X_test = X_test.detach().cpu().numpy()\n",
    "avg_within_class = 0\n",
    "for i in range(10):\n",
    "    print(i)\n",
    "    dists = cdist(X_test[labels_test == i], X_test[labels_test == i])\n",
    "    avg_within_class += dists.mean()/10\n",
    "\n",
    "avg_within_class"
   ]
  },
  {
   "cell_type": "code",
   "execution_count": 59,
   "metadata": {},
   "outputs": [
    {
     "name": "stdout",
     "output_type": "stream",
     "text": [
      "0\n",
      "1\n",
      "2\n",
      "3\n",
      "4\n",
      "5\n",
      "6\n",
      "7\n",
      "8\n",
      "9\n"
     ]
    },
    {
     "data": {
      "text/plain": [
       "10.334527444693878"
      ]
     },
     "execution_count": 59,
     "metadata": {},
     "output_type": "execute_result"
    }
   ],
   "source": [
    "from scipy.spatial.distance import cdist\n",
    "avg_cross_class = 0\n",
    "for i in range(10):\n",
    "    print(i)\n",
    "    dists = cdist(X_test[labels_test == i], X_test[labels_test != i])\n",
    "    avg_cross_class += dists.mean()/10\n",
    "\n",
    "avg_cross_class"
   ]
  },
  {
   "cell_type": "code",
   "execution_count": 60,
   "metadata": {},
   "outputs": [
    {
     "data": {
      "image/png": "[encoded data removed]",
      "text/plain": [
       "<Figure size 640x480 with 1 Axes>"
      ]
     },
     "metadata": {},
     "output_type": "display_data"
    }
   ],
   "source": [
    "sns.histplot([data_nn, private_nn, shared_nn], bins=np.arange(1,9,0.2), element='step', fill=False)\n",
    "ylim1 =  plt.ylim()[1]\n",
    "plt.vlines(avg_within_class, plt.ylim()[0], ylim1, color='r')\n",
    "plt.vlines(avg_cross_class, plt.ylim()[0], ylim1, color='r', linestyles='dashed')\n",
    "plt.savefig(\"../figures/arxiv_figures/mnist_nns.svg\", transparent=True, dpi=300)"
   ]
  }
 ],
 "metadata": {
  "kernelspec": {
   "display_name": "splice",
   "language": "python",
   "name": "python3"
  },
  "language_info": {
   "codemirror_mode": {
    "name": "ipython",
    "version": 3
   },
   "file_extension": ".py",
   "mimetype": "text/x-python",
   "name": "python",
   "nbconvert_exporter": "python",
   "pygments_lexer": "ipython3",
   "version": "3.11.4"
  }
 },
 "nbformat": 4,
 "nbformat_minor": 2
}
