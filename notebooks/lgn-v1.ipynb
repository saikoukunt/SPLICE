{
 "cells": [
  {
   "cell_type": "code",
   "execution_count": 1,
   "metadata": {},
   "outputs": [],
   "source": [
    "import os\n",
    "import pickle\n",
    "\n",
    "import matplotlib.pyplot as plt\n",
    "import numpy\n",
    "import torch\n",
    "\n",
    "from splice import splice_model\n",
    "\n",
    "device = torch.device(\"cuda\" if torch.cuda.is_available() else \"cpu\")"
   ]
  },
  {
   "cell_type": "code",
   "execution_count": 2,
   "metadata": {},
   "outputs": [],
   "source": [
    "sim_name = 'random_18.9k'\n",
    "train = pickle.load(\n",
    "        open(os.path.join(\"..\", \"data\", \"lgn-v1\", sim_name, f\"{sim_name}_train.pkl\"), \"rb\")\n",
    "    )\n",
    "test = pickle.load(\n",
    "    open(os.path.join(\"..\", \"data\", \"lgn-v1\", sim_name, f\"{sim_name}_test.pkl\"), \"rb\")\n",
    ")\n",
    "\n",
    "lgn_train = torch.Tensor(train[\"responses\"][\"lgn\"]).to(device)\n",
    "v1_train = torch.Tensor(train[\"responses\"][\"v1\"]).to(device)\n",
    "\n",
    "lgn_test = torch.Tensor(test[\"responses\"][\"lgn\"]).to(device)\n",
    "v1_test = torch.Tensor(test[\"responses\"][\"v1\"]).to(device)"
   ]
  },
  {
   "cell_type": "code",
   "execution_count": 12,
   "metadata": {},
   "outputs": [
    {
     "data": {
      "text/plain": [
       "{'x': array([57, 75, 83, ..., 34, 54, 55]),\n",
       " 'y': array([88, 92, 59, ..., 13, 24, 81]),\n",
       " 'lgn_p': array([ 6.57859424, 15.93220285, 14.03879414, ..., 14.45749954,\n",
       "         9.5201603 ,  2.838217  ]),\n",
       " 'v1_p': array([ 2.35645809, 17.46052906,  9.90654501, ..., 11.88604735,\n",
       "         9.0298937 ,  3.67505542]),\n",
       " 'stim_arr': array([[0., 0., 0., ..., 0., 0., 0.],\n",
       "        [0., 0., 0., ..., 0., 0., 0.],\n",
       "        [0., 0., 0., ..., 0., 0., 0.],\n",
       "        ...,\n",
       "        [0., 0., 0., ..., 0., 0., 0.],\n",
       "        [0., 0., 0., ..., 0., 0., 0.],\n",
       "        [0., 0., 0., ..., 0., 0., 0.]])}"
      ]
     },
     "execution_count": 12,
     "metadata": {},
     "output_type": "execute_result"
    }
   ],
   "source": [
    "train['stim_params']"
   ]
  },
  {
   "cell_type": "code",
   "execution_count": 3,
   "metadata": {},
   "outputs": [],
   "source": [
    "model = splice_model(\n",
    "    n_a = 400,\n",
    "    n_b = 800,\n",
    "    n_shared = 2,\n",
    "    n_priv_a = 1,\n",
    "    n_priv_b = 1,\n",
    "    layers_enc = [200,200,200,200,200,200],\n",
    "    layers_dec = [200,200,200,200,200,200],\n",
    "    layers_msr = [200,200,200,200,200,200],\n",
    ").to(device)"
   ]
  },
  {
   "cell_type": "code",
   "execution_count": 6,
   "metadata": {},
   "outputs": [
    {
     "name": "stdout",
     "output_type": "stream",
     "text": [
      "Epoch 0 \t source loss: 0.0540 | 0.0518 \t target loss: 0.0598 | 0.0574 \t disent loss: 1.0000 | 0.0000 \t msr loss: 0.0000 | 2.3973\n",
      "Epoch 500 \t source loss: 0.0094 | 0.0096 \t target loss: 0.0112 | 0.0113 \t disent loss: 1.0000 | 278.6162 \t msr loss: 0.0000 | 309.3709\n",
      "Epoch 1000 \t source loss: 0.0073 | 0.0078 \t target loss: 0.0085 | 0.0084 \t disent loss: 1.0000 | 272.5547 \t msr loss: 0.0000 | 306.6955\n",
      "Epoch 1500 \t source loss: 0.0061 | 0.0064 \t target loss: 0.0071 | 0.0072 \t disent loss: 1.0000 | 309.1671 \t msr loss: 0.0000 | 349.3489\n",
      "Epoch 2000 \t source loss: 0.0064 | 0.0067 \t target loss: 0.0071 | 0.0071 \t disent loss: 1.0000 | 88.2063 \t msr loss: 0.0000 | 103.7539\n",
      "Epoch 2500 \t source loss: 0.0058 | 0.0061 \t target loss: 0.0052 | 0.0053 \t disent loss: 1.0000 | 111.6041 \t msr loss: 0.0000 | 130.1685\n",
      "Epoch 3000 \t source loss: 0.0054 | 0.0058 \t target loss: 0.0036 | 0.0038 \t disent loss: 1.0000 | 121.1681 \t msr loss: 0.0000 | 141.4867\n",
      "Epoch 3500 \t source loss: 0.0050 | 0.0054 \t target loss: 0.0023 | 0.0025 \t disent loss: 1.0000 | 123.0387 \t msr loss: 0.0000 | 143.5213\n",
      "Epoch 4000 \t source loss: 0.0046 | 0.0050 \t target loss: 0.0017 | 0.0018 \t disent loss: 1.0000 | 94.7208 \t msr loss: 0.0000 | 111.6298\n",
      "Epoch 4500 \t source loss: 0.0044 | 0.0046 \t target loss: 0.0013 | 0.0014 \t disent loss: 1.0000 | 87.3933 \t msr loss: 0.0000 | 103.2474\n",
      "Epoch 5000 \t source loss: 0.0031 | 0.0034 \t target loss: 0.0012 | 0.0013 \t disent loss: 1.0000 | 49.1155 \t msr loss: 0.0000 | 59.8156\n",
      "Epoch 5500 \t source loss: 0.0025 | 0.0029 \t target loss: 0.0011 | 0.0011 \t disent loss: 1.0000 | 46.5953 \t msr loss: 0.0000 | 56.8589\n",
      "Epoch 6000 \t source loss: 0.0022 | 0.0025 \t target loss: 0.0009 | 0.0010 \t disent loss: 1.0000 | 42.8000 \t msr loss: 0.0000 | 52.5403\n",
      "Epoch 6500 \t source loss: 0.0020 | 0.0023 \t target loss: 0.0008 | 0.0009 \t disent loss: 1.0000 | 41.0342 \t msr loss: 0.0000 | 50.3859\n",
      "Epoch 7000 \t source loss: 0.0019 | 0.0022 \t target loss: 0.0008 | 0.0009 \t disent loss: 1.0000 | 39.9369 \t msr loss: 0.0000 | 49.1000\n",
      "Epoch 7500 \t source loss: 0.0018 | 0.0021 \t target loss: 0.0030 | 0.0031 \t disent loss: 1.0000 | 76.2930 \t msr loss: 0.0000 | 91.3704\n",
      "Epoch 8000 \t source loss: 0.0016 | 0.0020 \t target loss: 0.0007 | 0.0007 \t disent loss: 1.0000 | 46.5144 \t msr loss: 0.0000 | 57.1081\n",
      "Epoch 8500 \t source loss: 0.0015 | 0.0018 \t target loss: 0.0007 | 0.0007 \t disent loss: 1.0000 | 47.1094 \t msr loss: 0.0000 | 57.6269\n",
      "Epoch 9000 \t source loss: 0.0015 | 0.0018 \t target loss: 0.0006 | 0.0007 \t disent loss: 1.0000 | 46.6353 \t msr loss: 0.0000 | 57.0446\n",
      "Epoch 9500 \t source loss: 0.0014 | 0.0017 \t target loss: 0.0006 | 0.0007 \t disent loss: 1.0000 | 45.3257 \t msr loss: 0.0000 | 55.5820\n",
      "Epoch 10000 \t source loss: 0.0309 | 0.0497 \t target loss: 0.0006 | 0.0007 \t disent loss: 0.0000 | 0.0004 \t msr loss: 1.9996 | 2.0006\n",
      "Epoch 10500 \t source loss: 0.0015 | 0.0017 \t target loss: 0.0006 | 0.0008 \t disent loss: 0.0001 | 0.0010 \t msr loss: 1.9990 | 2.0014\n",
      "Epoch 11000 \t source loss: 0.0014 | 0.0015 \t target loss: 0.0006 | 0.0006 \t disent loss: 0.0000 | 0.0003 \t msr loss: 1.9997 | 2.0005\n",
      "Epoch 11500 \t source loss: 0.0013 | 0.0015 \t target loss: 0.0005 | 0.0007 \t disent loss: 0.0001 | 0.0007 \t msr loss: 1.9998 | 2.0011\n",
      "Epoch 12000 \t source loss: 0.0014 | 0.0015 \t target loss: 0.0005 | 0.0007 \t disent loss: 0.0000 | 0.0003 \t msr loss: 1.9995 | 2.0005\n",
      "Epoch 12500 \t source loss: 0.0012 | 0.0013 \t target loss: 0.0004 | 0.0005 \t disent loss: 0.0001 | 0.0009 \t msr loss: 1.9989 | 2.0012\n",
      "Epoch 13000 \t source loss: 0.0013 | 0.0013 \t target loss: 0.0004 | 0.0005 \t disent loss: 0.0000 | 0.0003 \t msr loss: 1.9996 | 2.0005\n",
      "Epoch 13500 \t source loss: 0.0012 | 0.0013 \t target loss: 0.0004 | 0.0005 \t disent loss: 0.0001 | 0.0009 \t msr loss: 1.9991 | 2.0013\n",
      "Epoch 14000 \t source loss: 0.0012 | 0.0015 \t target loss: 0.0004 | 0.0005 \t disent loss: 0.0000 | 0.0004 \t msr loss: 1.9995 | 2.0006\n",
      "Epoch 14500 \t source loss: 0.0011 | 0.0012 \t target loss: 0.0004 | 0.0004 \t disent loss: 0.0001 | 0.0010 \t msr loss: 1.9989 | 2.0013\n",
      "Epoch 15000 \t source loss: 0.0011 | 0.0012 \t target loss: 0.0004 | 0.0004 \t disent loss: 0.0000 | 0.0003 \t msr loss: 1.9995 | 2.0004\n",
      "Epoch 15500 \t source loss: 0.0010 | 0.0011 \t target loss: 0.0004 | 0.0004 \t disent loss: 0.0001 | 0.0009 \t msr loss: 1.9990 | 2.0012\n",
      "Epoch 16000 \t source loss: 0.0010 | 0.0013 \t target loss: 0.0004 | 0.0006 \t disent loss: 0.0000 | 0.0004 \t msr loss: 1.9997 | 2.0006\n",
      "Epoch 16500 \t source loss: 0.0010 | 0.0010 \t target loss: 0.0003 | 0.0004 \t disent loss: 0.0001 | 0.0009 \t msr loss: 1.9989 | 2.0011\n",
      "Epoch 17000 \t source loss: 0.0010 | 0.0011 \t target loss: 0.0003 | 0.0005 \t disent loss: 0.0000 | 0.0003 \t msr loss: 1.9995 | 2.0005\n",
      "Epoch 17500 \t source loss: 0.0009 | 0.0011 \t target loss: 0.0003 | 0.0004 \t disent loss: 0.0001 | 0.0009 \t msr loss: 1.9989 | 2.0011\n",
      "Epoch 18000 \t source loss: 0.0009 | 0.0010 \t target loss: 0.0003 | 0.0004 \t disent loss: 0.0000 | 0.0004 \t msr loss: 1.9995 | 2.0005\n",
      "Epoch 18500 \t source loss: 0.0009 | 0.0009 \t target loss: 0.0003 | 0.0004 \t disent loss: 0.0001 | 0.0010 \t msr loss: 1.9988 | 2.0012\n",
      "Epoch 19000 \t source loss: 0.0009 | 0.0011 \t target loss: 0.0003 | 0.0004 \t disent loss: 0.0000 | 0.0003 \t msr loss: 1.9996 | 2.0004\n",
      "Epoch 19500 \t source loss: 0.0008 | 0.0010 \t target loss: 0.0004 | 0.0006 \t disent loss: 0.0001 | 0.0009 \t msr loss: 1.9990 | 2.0010\n",
      "Epoch 20000 \t source loss: 0.0008 | 0.0008 \t target loss: 0.0003 | 0.0004 \t disent loss: 0.0000 | 0.0004 \t msr loss: 1.9994 | 2.0004\n",
      "Epoch 20500 \t source loss: 0.0008 | 0.0008 \t target loss: 0.0003 | 0.0004 \t disent loss: 0.0001 | 0.0009 \t msr loss: 1.9990 | 2.0010\n",
      "Epoch 21000 \t source loss: 0.0008 | 0.0009 \t target loss: 0.0003 | 0.0004 \t disent loss: 0.0000 | 0.0005 \t msr loss: 1.9994 | 2.0006\n",
      "Epoch 21500 \t source loss: 0.0007 | 0.0008 \t target loss: 0.0003 | 0.0004 \t disent loss: 0.0001 | 0.0010 \t msr loss: 1.9989 | 2.0011\n",
      "Epoch 22000 \t source loss: 0.0007 | 0.0008 \t target loss: 0.0003 | 0.0004 \t disent loss: 0.0001 | 0.0009 \t msr loss: 1.9998 | 2.0018\n",
      "Epoch 22500 \t source loss: 0.0007 | 0.0008 \t target loss: 0.0003 | 0.0004 \t disent loss: 0.0001 | 0.0011 \t msr loss: 1.9988 | 2.0013\n",
      "Epoch 23000 \t source loss: 0.0008 | 0.0009 \t target loss: 0.0003 | 0.0006 \t disent loss: 0.0001 | 0.0006 \t msr loss: 1.9993 | 2.0008\n",
      "Epoch 23500 \t source loss: 0.0007 | 0.0008 \t target loss: 0.0003 | 0.0004 \t disent loss: 0.0001 | 0.0013 \t msr loss: 1.9986 | 2.0018\n",
      "Epoch 24000 \t source loss: 0.0008 | 0.0009 \t target loss: 0.0002 | 0.0003 \t disent loss: 0.0001 | 0.0007 \t msr loss: 1.9991 | 2.0008\n",
      "Epoch 24500 \t source loss: 0.0007 | 0.0007 \t target loss: 0.0002 | 0.0003 \t disent loss: 0.0001 | 0.0013 \t msr loss: 1.9985 | 2.0014\n",
      "Epoch 25000 \t source loss: 0.0007 | 0.0007 \t target loss: 0.0002 | 0.0003 \t disent loss: 0.0001 | 0.0005 \t msr loss: 1.9993 | 2.0006\n",
      "Epoch 25500 \t source loss: 0.0006 | 0.0007 \t target loss: 0.0002 | 0.0003 \t disent loss: 0.0001 | 0.0012 \t msr loss: 1.9986 | 2.0014\n",
      "Epoch 26000 \t source loss: 0.0321 | 0.0322 \t target loss: 0.0002 | 0.0003 \t disent loss: 0.0000 | 0.0004 \t msr loss: 1.9995 | 2.0005\n",
      "Epoch 26500 \t source loss: 0.0015 | 0.0022 \t target loss: 0.0002 | 0.0003 \t disent loss: 0.0001 | 0.0010 \t msr loss: 1.9989 | 2.0013\n",
      "Epoch 27000 \t source loss: 0.0009 | 0.0015 \t target loss: 0.0002 | 0.0003 \t disent loss: 0.0001 | 0.0005 \t msr loss: 1.9993 | 2.0008\n",
      "Epoch 27500 \t source loss: 0.0008 | 0.0019 \t target loss: 0.0002 | 0.0003 \t disent loss: 0.0001 | 0.0011 \t msr loss: 1.9988 | 2.0014\n",
      "Epoch 28000 \t source loss: 0.0007 | 0.0013 \t target loss: 0.0002 | 0.0003 \t disent loss: 0.0000 | 0.0005 \t msr loss: 1.9994 | 2.0006\n",
      "Epoch 28500 \t source loss: 0.0007 | 0.0016 \t target loss: 0.0002 | 0.0003 \t disent loss: 0.0001 | 0.0010 \t msr loss: 1.9988 | 2.0013\n",
      "Epoch 29000 \t source loss: 0.0346 | 0.0349 \t target loss: 0.0002 | 0.0003 \t disent loss: 0.0000 | 0.0004 \t msr loss: 1.9995 | 2.0005\n",
      "Epoch 29500 \t source loss: 0.0010 | 0.0015 \t target loss: 0.0002 | 0.0002 \t disent loss: 0.0001 | 0.0011 \t msr loss: 1.9988 | 2.0014\n",
      "Epoch 30000 \t source loss: 0.0399 | 0.0401 \t target loss: 0.0002 | 0.0002 \t disent loss: 0.0000 | 0.0004 \t msr loss: 1.9995 | 2.0005\n",
      "Epoch 30500 \t source loss: 0.0014 | 0.0024 \t target loss: 0.0002 | 0.0005 \t disent loss: 0.0001 | 0.0005 \t msr loss: 1.9996 | 2.0006\n",
      "Epoch 31000 \t source loss: 0.0009 | 0.0013 \t target loss: 0.0002 | 0.0004 \t disent loss: 0.0000 | 0.0004 \t msr loss: 1.9995 | 2.0004\n",
      "Epoch 31500 \t source loss: 0.0008 | 0.0015 \t target loss: 0.0002 | 0.0003 \t disent loss: 0.0001 | 0.0007 \t msr loss: 1.9991 | 2.0008\n",
      "Epoch 32000 \t source loss: 0.0007 | 0.0010 \t target loss: 0.0002 | 0.0003 \t disent loss: 0.0000 | 0.0003 \t msr loss: 1.9995 | 2.0003\n",
      "Epoch 32500 \t source loss: 0.0007 | 0.0010 \t target loss: 0.0002 | 0.0003 \t disent loss: 0.0000 | 0.0004 \t msr loss: 1.9996 | 2.0009\n",
      "Epoch 33000 \t source loss: 0.0006 | 0.0011 \t target loss: 0.0002 | 0.0003 \t disent loss: 0.0000 | 0.0003 \t msr loss: 1.9995 | 2.0003\n",
      "Epoch 33500 \t source loss: 0.0006 | 0.0009 \t target loss: 0.0002 | 0.0002 \t disent loss: 0.0001 | 0.0006 \t msr loss: 1.9992 | 2.0006\n",
      "Epoch 34000 \t source loss: 0.0007 | 0.0011 \t target loss: 0.0002 | 0.0004 \t disent loss: 0.0000 | 0.0003 \t msr loss: 1.9995 | 2.0003\n",
      "Epoch 34500 \t source loss: 0.0006 | 0.0011 \t target loss: 0.0002 | 0.0002 \t disent loss: 0.0001 | 0.0006 \t msr loss: 1.9993 | 2.0006\n",
      "Epoch 35000 \t source loss: 0.0006 | 0.0010 \t target loss: 0.0002 | 0.0002 \t disent loss: 0.0000 | 0.0003 \t msr loss: 1.9995 | 2.0003\n",
      "Epoch 35500 \t source loss: 0.0006 | 0.0009 \t target loss: 0.0002 | 0.0002 \t disent loss: 0.0001 | 0.0005 \t msr loss: 1.9993 | 2.0005\n",
      "Epoch 36000 \t source loss: 0.0026 | 0.0029 \t target loss: 0.0002 | 0.0003 \t disent loss: 0.0000 | 0.0003 \t msr loss: 1.9996 | 2.0002\n",
      "Epoch 36500 \t source loss: 0.0011 | 0.0015 \t target loss: 0.0002 | 0.0002 \t disent loss: 0.0000 | 0.0003 \t msr loss: 1.9996 | 2.0003\n",
      "Epoch 37000 \t source loss: 0.0009 | 0.0012 \t target loss: 0.0002 | 0.0002 \t disent loss: 0.0000 | 0.0003 \t msr loss: 1.9996 | 2.0003\n",
      "Epoch 37500 \t source loss: 0.0008 | 0.0011 \t target loss: 0.0002 | 0.0003 \t disent loss: 0.0000 | 0.0004 \t msr loss: 1.9997 | 2.0005\n",
      "Epoch 38000 \t source loss: 0.0008 | 0.0012 \t target loss: 0.0002 | 0.0002 \t disent loss: 0.0000 | 0.0002 \t msr loss: 1.9996 | 2.0002\n",
      "Epoch 38500 \t source loss: 0.0007 | 0.0011 \t target loss: 0.0001 | 0.0002 \t disent loss: 0.0000 | 0.0005 \t msr loss: 2.0005 | 2.0013\n",
      "Epoch 39000 \t source loss: 0.0007 | 0.0010 \t target loss: 0.0002 | 0.0003 \t disent loss: 0.0000 | 0.0002 \t msr loss: 1.9996 | 2.0002\n",
      "Epoch 39500 \t source loss: 0.0007 | 0.0010 \t target loss: 0.0001 | 0.0002 \t disent loss: 0.0000 | 0.0003 \t msr loss: 1.9997 | 2.0003\n",
      "Epoch 40000 \t source loss: 0.0006 | 0.0010 \t target loss: 0.0001 | 0.0002 \t disent loss: 0.0000 | 0.0002 \t msr loss: 1.9997 | 2.0002\n",
      "Epoch 40500 \t source loss: 0.0006 | 0.0011 \t target loss: 0.0001 | 0.0002 \t disent loss: 0.0000 | 0.0003 \t msr loss: 1.9996 | 2.0002\n",
      "Epoch 41000 \t source loss: 0.0006 | 0.0010 \t target loss: 0.0001 | 0.0002 \t disent loss: 0.0000 | 0.0003 \t msr loss: 1.9996 | 2.0002\n",
      "Epoch 41500 \t source loss: 0.0006 | 0.0010 \t target loss: 0.0001 | 0.0002 \t disent loss: 0.0000 | 0.0003 \t msr loss: 1.9996 | 2.0003\n",
      "Epoch 42000 \t source loss: 0.0084 | 0.0088 \t target loss: 0.0001 | 0.0002 \t disent loss: 0.0000 | 0.0002 \t msr loss: 1.9998 | 2.0002\n",
      "Epoch 42500 \t source loss: 0.0022 | 0.0026 \t target loss: 0.0001 | 0.0002 \t disent loss: 0.0000 | 0.0003 \t msr loss: 1.9995 | 2.0004\n",
      "Epoch 43000 \t source loss: 0.0014 | 0.0018 \t target loss: 0.0001 | 0.0002 \t disent loss: 0.0000 | 0.0002 \t msr loss: 1.9997 | 2.0002\n",
      "Epoch 43500 \t source loss: 0.0012 | 0.0016 \t target loss: 0.0001 | 0.0002 \t disent loss: 0.0000 | 0.0002 \t msr loss: 1.9996 | 2.0003\n",
      "Epoch 44000 \t source loss: 0.0010 | 0.0013 \t target loss: 0.0001 | 0.0002 \t disent loss: 0.0000 | 0.0002 \t msr loss: 2.0005 | 2.0002\n",
      "Epoch 44500 \t source loss: 0.0009 | 0.0013 \t target loss: 0.0001 | 0.0002 \t disent loss: 0.0000 | 0.0003 \t msr loss: 1.9995 | 2.0003\n",
      "Epoch 45000 \t source loss: 0.0008 | 0.0011 \t target loss: 0.0001 | 0.0002 \t disent loss: 0.0000 | 0.0001 \t msr loss: 1.9998 | 2.0001\n",
      "Epoch 45500 \t source loss: 0.0043 | 0.0047 \t target loss: 0.0001 | 0.0002 \t disent loss: 0.0001 | 0.0011 \t msr loss: 2.0008 | 2.0013\n",
      "Epoch 46000 \t source loss: 0.0008 | 0.0011 \t target loss: 0.0003 | 0.0004 \t disent loss: 0.0000 | 0.0002 \t msr loss: 1.9997 | 2.0002\n",
      "Epoch 46500 \t source loss: 0.0007 | 0.0011 \t target loss: 0.0001 | 0.0002 \t disent loss: 0.0000 | 0.0001 \t msr loss: 1.9997 | 2.0002\n",
      "Epoch 47000 \t source loss: 0.0007 | 0.0010 \t target loss: 0.0001 | 0.0002 \t disent loss: 0.0000 | 0.0001 \t msr loss: 1.9997 | 2.0002\n",
      "Epoch 47500 \t source loss: 0.0007 | 0.0010 \t target loss: 0.0001 | 0.0002 \t disent loss: 0.0000 | 0.0001 \t msr loss: 1.9997 | 2.0002\n",
      "Epoch 48000 \t source loss: 0.0007 | 0.0010 \t target loss: 0.0001 | 0.0002 \t disent loss: 0.0000 | 0.0001 \t msr loss: 1.9997 | 2.0002\n",
      "Epoch 48500 \t source loss: 0.0007 | 0.0010 \t target loss: 0.0001 | 0.0002 \t disent loss: 0.0000 | 0.0002 \t msr loss: 1.9996 | 2.0003\n",
      "Epoch 49000 \t source loss: 0.0007 | 0.0010 \t target loss: 0.0001 | 0.0002 \t disent loss: 0.0000 | 0.0001 \t msr loss: 1.9997 | 2.0002\n",
      "Epoch 49500 \t source loss: 0.0006 | 0.0010 \t target loss: 0.0001 | 0.0002 \t disent loss: 0.0000 | 0.0003 \t msr loss: 1.9996 | 2.0002\n",
      "49999\r"
     ]
    }
   ],
   "source": [
    "model.fit(lgn_train, v1_train, lgn_test, v1_test, disent_start=10000, c_disent=0.1, epochs=50000)"
   ]
  },
  {
   "cell_type": "code",
   "execution_count": 14,
   "metadata": {},
   "outputs": [],
   "source": [
    "# torch.save(model.state_dict(), os.path.join(\"..\", \"results\", \"models\", \"lgn-v1\", f\"{sim_name}_splice.pt\"))"
   ]
  },
  {
   "cell_type": "code",
   "execution_count": 31,
   "metadata": {},
   "outputs": [
    {
     "data": {
      "text/plain": [
       "<All keys matched successfully>"
      ]
     },
     "execution_count": 31,
     "metadata": {},
     "output_type": "execute_result"
    }
   ],
   "source": [
    "model.load_state_dict(torch.load(os.path.join(\"..\", \"results\", \"models\", \"lgn-v1\", f\"{sim_name}_splice2.pt\")))"
   ]
  },
  {
   "cell_type": "code",
   "execution_count": 32,
   "metadata": {},
   "outputs": [
    {
     "name": "stdout",
     "output_type": "stream",
     "text": [
      "Epoch 0 \t source loss: 0.0003 | 0.3545 \t target loss: 0.0004 | 0.7365 \t disent loss: 1.0000 | 0.0012 \t msr loss: 0.0000 | 2.0015 \t iso a loss: 10.8428 | 33.8683 \t iso b loss: 18.5255 | 50.2707\n",
      "Epoch 500 \t source loss: 0.0173 | 0.0172 \t target loss: 0.0258 | 0.0234 \t disent loss: 1.0000 | 3996.9111 \t msr loss: 0.0000 | 12851.2812 \t iso a loss: 0.7252 | 0.1901 \t iso b loss: 0.3946 | 0.7968\n",
      "Epoch 1000 \t source loss: 0.0095 | 0.0095 \t target loss: 0.0185 | 0.0180 \t disent loss: 1.0000 | 4024.2949 \t msr loss: 0.0000 | 12946.2480 \t iso a loss: 0.7255 | 0.1581 \t iso b loss: 0.3734 | 0.5648\n",
      "Epoch 1500 \t source loss: 0.0079 | 0.0079 \t target loss: 0.0169 | 0.0170 \t disent loss: 1.0000 | 4160.4292 \t msr loss: 0.0000 | 13353.6045 \t iso a loss: 0.7244 | 0.1283 \t iso b loss: 0.3739 | 0.4891\n",
      "Epoch 2000 \t source loss: 0.0071 | 0.0071 \t target loss: 0.0141 | 0.0152 \t disent loss: 1.0000 | 4160.1792 \t msr loss: 0.0000 | 13350.4775 \t iso a loss: 0.7214 | 0.1283 \t iso b loss: 0.3705 | 0.4359\n",
      "Epoch 2500 \t source loss: 0.0066 | 0.0066 \t target loss: 0.0123 | 0.0146 \t disent loss: 1.0000 | 4152.6909 \t msr loss: 0.0000 | 13338.9434 \t iso a loss: 0.7194 | 0.1105 \t iso b loss: 0.3691 | 0.4275\n",
      "Epoch 3000 \t source loss: 0.0063 | 0.0063 \t target loss: 0.0103 | 0.0119 \t disent loss: 1.0000 | 4147.9248 \t msr loss: 0.0000 | 13324.7109 \t iso a loss: 0.7215 | 0.1053 \t iso b loss: 0.3629 | 0.4151\n",
      "Epoch 3500 \t source loss: 0.0057 | 0.0058 \t target loss: 0.0092 | 0.0114 \t disent loss: 1.0000 | 4146.1240 \t msr loss: 0.0000 | 13319.7949 \t iso a loss: 0.7191 | 0.0988 \t iso b loss: 0.3746 | 0.3920\n",
      "Epoch 4000 \t source loss: 0.0052 | 0.0053 \t target loss: 0.0071 | 0.0073 \t disent loss: 1.0000 | 4107.9839 \t msr loss: 0.0000 | 13202.6924 \t iso a loss: 0.7194 | 0.0944 \t iso b loss: 0.3640 | 0.2061\n",
      "Epoch 4500 \t source loss: 0.0050 | 0.0050 \t target loss: 0.0089 | 0.0074 \t disent loss: 1.0000 | 4144.8008 \t msr loss: 0.0000 | 13318.5635 \t iso a loss: 0.7201 | 0.1075 \t iso b loss: 0.3703 | 0.2530\n",
      "Epoch 5000 \t source loss: 0.0041 | 0.0042 \t target loss: 0.0071 | 0.0065 \t disent loss: 1.0000 | 4148.3799 \t msr loss: 0.0000 | 13337.6025 \t iso a loss: 0.7191 | 0.0985 \t iso b loss: 0.3627 | 0.2801\n",
      "Epoch 5500 \t source loss: 0.0036 | 0.0037 \t target loss: 0.0062 | 0.0055 \t disent loss: 1.0000 | 4136.5869 \t msr loss: 0.0000 | 13297.1143 \t iso a loss: 0.7192 | 0.0865 \t iso b loss: 0.3626 | 0.2051\n",
      "Epoch 6000 \t source loss: 0.0033 | 0.0034 \t target loss: 0.0059 | 0.0051 \t disent loss: 1.0000 | 4145.9819 \t msr loss: 0.0000 | 13329.7363 \t iso a loss: 0.7196 | 0.0922 \t iso b loss: 0.3608 | 0.2638\n",
      "Epoch 6500 \t source loss: 0.0029 | 0.0029 \t target loss: 0.0036 | 0.0036 \t disent loss: 1.0000 | 4089.6196 \t msr loss: 0.0000 | 13178.7471 \t iso a loss: 0.7186 | 0.0904 \t iso b loss: 0.3615 | 0.1276\n",
      "Epoch 7000 \t source loss: 0.0027 | 0.0027 \t target loss: 0.0046 | 0.0040 \t disent loss: 1.0000 | 4143.2725 \t msr loss: 0.0000 | 13318.4199 \t iso a loss: 0.7185 | 0.0888 \t iso b loss: 0.3626 | 0.2370\n",
      "Epoch 7500 \t source loss: 0.0025 | 0.0025 \t target loss: 0.0038 | 0.0034 \t disent loss: 1.0000 | 4139.3311 \t msr loss: 0.0000 | 13290.5645 \t iso a loss: 0.7185 | 0.0843 \t iso b loss: 0.3630 | 0.2435\n",
      "Epoch 8000 \t source loss: 0.0023 | 0.0023 \t target loss: 0.0027 | 0.0027 \t disent loss: 1.0000 | 4091.4270 \t msr loss: 0.0000 | 13189.2285 \t iso a loss: 0.7194 | 0.0820 \t iso b loss: 0.3621 | 0.1123\n",
      "Epoch 8500 \t source loss: 0.0022 | 0.0023 \t target loss: 0.0026 | 0.0026 \t disent loss: 1.0000 | 4089.1587 \t msr loss: 0.0000 | 13181.6729 \t iso a loss: 0.7185 | 0.0804 \t iso b loss: 0.3621 | 0.1056\n",
      "Epoch 9000 \t source loss: 0.0022 | 0.0023 \t target loss: 0.0024 | 0.0024 \t disent loss: 1.0000 | 4093.3984 \t msr loss: 0.0000 | 13201.7393 \t iso a loss: 0.7197 | 0.0708 \t iso b loss: 0.3635 | 0.1110\n",
      "Epoch 9500 \t source loss: 0.0020 | 0.0020 \t target loss: 0.0036 | 0.0050 \t disent loss: 1.0000 | 4064.4514 \t msr loss: 0.0000 | 13106.8223 \t iso a loss: 0.7182 | 0.0792 \t iso b loss: 0.3637 | 0.1756\n",
      "Epoch 10000 \t source loss: 0.0020 | 0.0022 \t target loss: 0.0023 | 0.0040 \t disent loss: 0.0002 | 0.0023 \t msr loss: 2.0035 | 2.0033 \t iso a loss: 0.7192 | 0.0738 \t iso b loss: 0.3586 | 0.1662\n",
      "Epoch 10500 \t source loss: 0.0021 | 0.0021 \t target loss: 0.0019 | 0.0019 \t disent loss: 0.0001 | 0.0007 \t msr loss: 2.0005 | 2.0015 \t iso a loss: 0.7182 | 0.1260 \t iso b loss: 0.3621 | 0.2227\n",
      "Epoch 11000 \t source loss: 0.0020 | 0.0021 \t target loss: 0.0019 | 0.0018 \t disent loss: 0.0002 | 0.0021 \t msr loss: 2.0032 | 2.0046 \t iso a loss: 0.7193 | 0.1626 \t iso b loss: 0.3616 | 0.2877\n",
      "Epoch 11500 \t source loss: 0.0020 | 0.0021 \t target loss: 0.0020 | 0.0019 \t disent loss: 0.0001 | 0.0006 \t msr loss: 2.0009 | 2.0018 \t iso a loss: 0.7213 | 0.1324 \t iso b loss: 0.3603 | 0.2562\n",
      "Epoch 12000 \t source loss: 0.0020 | 0.0022 \t target loss: 0.0017 | 0.0018 \t disent loss: 0.0002 | 0.0016 \t msr loss: 2.0018 | 2.0026 \t iso a loss: 0.7185 | 0.1418 \t iso b loss: 0.3627 | 0.2633\n",
      "Epoch 12500 \t source loss: 0.0019 | 0.0020 \t target loss: 0.0017 | 0.0016 \t disent loss: 0.0001 | 0.0005 \t msr loss: 2.0001 | 2.0010 \t iso a loss: 0.7182 | 0.1434 \t iso b loss: 0.3604 | 0.2328\n",
      "Epoch 13000 \t source loss: 0.0020 | 0.0021 \t target loss: 0.0014 | 0.0014 \t disent loss: 0.0001 | 0.0012 \t msr loss: 2.0010 | 2.0019 \t iso a loss: 0.7185 | 0.1355 \t iso b loss: 0.3595 | 0.2880\n",
      "Epoch 13500 \t source loss: 0.0020 | 0.0021 \t target loss: 0.0014 | 0.0013 \t disent loss: 0.0001 | 0.0006 \t msr loss: 2.0008 | 2.0013 \t iso a loss: 0.7237 | 0.1296 \t iso b loss: 0.3602 | 0.1532\n",
      "Epoch 14000 \t source loss: 0.0017 | 0.0019 \t target loss: 0.0023 | 0.0035 \t disent loss: 0.0002 | 0.0018 \t msr loss: 2.0019 | 2.0026 \t iso a loss: 0.7182 | 0.1288 \t iso b loss: 0.3602 | 0.2809\n",
      "Epoch 14500 \t source loss: 0.0017 | 0.0018 \t target loss: 0.0019 | 0.0023 \t disent loss: 0.0001 | 0.0006 \t msr loss: 2.0001 | 2.0011 \t iso a loss: 0.7182 | 0.1234 \t iso b loss: 0.3601 | 0.3275\n",
      "Epoch 15000 \t source loss: 0.0017 | 0.0017 \t target loss: 0.0024 | 0.0029 \t disent loss: 0.0003 | 0.0031 \t msr loss: 2.0057 | 2.0078 \t iso a loss: 0.7180 | 0.1194 \t iso b loss: 0.3641 | 0.5316\n",
      "Epoch 15500 \t source loss: 0.0017 | 0.0017 \t target loss: 0.0016 | 0.0021 \t disent loss: 0.0001 | 0.0006 \t msr loss: 2.0005 | 2.0012 \t iso a loss: 0.7180 | 0.1183 \t iso b loss: 0.3590 | 0.3930\n",
      "Epoch 16000 \t source loss: 0.0016 | 0.0017 \t target loss: 0.0021 | 0.0015 \t disent loss: 0.0002 | 0.0016 \t msr loss: 2.0018 | 2.0021 \t iso a loss: 0.7184 | 0.1095 \t iso b loss: 0.3600 | 0.3049\n",
      "Epoch 16500 \t source loss: 0.0016 | 0.0017 \t target loss: 0.0018 | 0.0015 \t disent loss: 0.0001 | 0.0008 \t msr loss: 2.0010 | 2.0020 \t iso a loss: 0.7182 | 0.1082 \t iso b loss: 0.3594 | 0.3753\n",
      "Epoch 17000 \t source loss: 0.0017 | 0.0019 \t target loss: 0.0013 | 0.0018 \t disent loss: 0.0001 | 0.0014 \t msr loss: 2.0012 | 2.0018 \t iso a loss: 0.7207 | 0.1058 \t iso b loss: 0.3591 | 0.4399\n",
      "Epoch 17500 \t source loss: 0.0016 | 0.0017 \t target loss: 0.0014 | 0.0019 \t disent loss: 0.0001 | 0.0005 \t msr loss: 2.0001 | 2.0010 \t iso a loss: 0.7181 | 0.1058 \t iso b loss: 0.3594 | 0.3662\n",
      "Epoch 18000 \t source loss: 0.0015 | 0.0016 \t target loss: 0.0009 | 0.0009 \t disent loss: 0.0003 | 0.0026 \t msr loss: 2.0037 | 2.0054 \t iso a loss: 0.7180 | 0.1001 \t iso b loss: 0.3589 | 0.1837\n",
      "Epoch 18500 \t source loss: 0.0015 | 0.0015 \t target loss: 0.0009 | 0.0009 \t disent loss: 0.0001 | 0.0007 \t msr loss: 2.0006 | 2.0017 \t iso a loss: 0.7182 | 0.0998 \t iso b loss: 0.3586 | 0.1749\n",
      "Epoch 19000 \t source loss: 0.0015 | 0.0015 \t target loss: 0.0009 | 0.0009 \t disent loss: 0.0001 | 0.0015 \t msr loss: 2.0015 | 2.0022 \t iso a loss: 0.7183 | 0.0976 \t iso b loss: 0.3587 | 0.1679\n",
      "Epoch 19500 \t source loss: 0.0015 | 0.0016 \t target loss: 0.0009 | 0.0009 \t disent loss: 0.0001 | 0.0006 \t msr loss: 2.0005 | 2.0014 \t iso a loss: 0.7201 | 0.0919 \t iso b loss: 0.3583 | 0.1745\n",
      "Epoch 20000 \t source loss: 0.0014 | 0.0015 \t target loss: 0.0009 | 0.0009 \t disent loss: 0.0002 | 0.0022 \t msr loss: 2.0030 | 2.0039 \t iso a loss: 0.7181 | 0.0938 \t iso b loss: 0.3596 | 0.1621\n",
      "Epoch 20500 \t source loss: 0.0014 | 0.0015 \t target loss: 0.0008 | 0.0009 \t disent loss: 0.0001 | 0.0008 \t msr loss: 2.0008 | 2.0018 \t iso a loss: 0.7180 | 0.0870 \t iso b loss: 0.3596 | 0.1593\n",
      "Epoch 21000 \t source loss: 0.0013 | 0.0014 \t target loss: 0.0008 | 0.0009 \t disent loss: 0.0002 | 0.0017 \t msr loss: 2.0024 | 2.0032 \t iso a loss: 0.7182 | 0.0838 \t iso b loss: 0.3591 | 0.1604\n",
      "Epoch 21500 \t source loss: 0.0014 | 0.0015 \t target loss: 0.0008 | 0.0008 \t disent loss: 0.0001 | 0.0005 \t msr loss: 2.0002 | 2.0011 \t iso a loss: 0.7192 | 0.0857 \t iso b loss: 0.3585 | 0.1546\n",
      "Epoch 22000 \t source loss: 0.0013 | 0.0014 \t target loss: 0.0008 | 0.0008 \t disent loss: 0.0002 | 0.0019 \t msr loss: 2.0021 | 2.0031 \t iso a loss: 0.7179 | 0.0790 \t iso b loss: 0.3582 | 0.1487\n",
      "Epoch 22500 \t source loss: 0.0013 | 0.0014 \t target loss: 0.0008 | 0.0008 \t disent loss: 0.0001 | 0.0007 \t msr loss: 2.0003 | 2.0014 \t iso a loss: 0.7182 | 0.0771 \t iso b loss: 0.3586 | 0.1499\n",
      "Epoch 23000 \t source loss: 0.0013 | 0.0014 \t target loss: 0.0007 | 0.0007 \t disent loss: 0.0002 | 0.0020 \t msr loss: 2.0018 | 2.0024 \t iso a loss: 0.7180 | 0.0764 \t iso b loss: 0.3582 | 0.1338\n",
      "Epoch 23500 \t source loss: 0.0012 | 0.0013 \t target loss: 0.0007 | 0.0008 \t disent loss: 0.0001 | 0.0014 \t msr loss: 2.0030 | 2.0042 \t iso a loss: 0.7180 | 0.0759 \t iso b loss: 0.3606 | 0.1393\n",
      "Epoch 24000 \t source loss: 0.0012 | 0.0013 \t target loss: 0.0007 | 0.0007 \t disent loss: 0.0002 | 0.0018 \t msr loss: 2.0015 | 2.0022 \t iso a loss: 0.7179 | 0.0741 \t iso b loss: 0.3584 | 0.1355\n",
      "Epoch 24500 \t source loss: 0.0012 | 0.0013 \t target loss: 0.0006 | 0.0007 \t disent loss: 0.0001 | 0.0007 \t msr loss: 2.0009 | 2.0016 \t iso a loss: 0.7186 | 0.0717 \t iso b loss: 0.3592 | 0.1296\n",
      "Epoch 25000 \t source loss: 0.0011 | 0.0013 \t target loss: 0.0006 | 0.0006 \t disent loss: 0.0002 | 0.0023 \t msr loss: 2.0032 | 2.0043 \t iso a loss: 0.7180 | 0.0752 \t iso b loss: 0.3592 | 0.1264\n",
      "Epoch 25500 \t source loss: 0.0011 | 0.0013 \t target loss: 0.0006 | 0.0007 \t disent loss: 0.0001 | 0.0006 \t msr loss: 2.0005 | 2.0014 \t iso a loss: 0.7180 | 0.0703 \t iso b loss: 0.3592 | 0.1281\n",
      "Epoch 26000 \t source loss: 0.0012 | 0.0013 \t target loss: 0.0006 | 0.0006 \t disent loss: 0.0001 | 0.0014 \t msr loss: 2.0015 | 2.0021 \t iso a loss: 0.7188 | 0.0692 \t iso b loss: 0.3581 | 0.1258\n",
      "Epoch 26500 \t source loss: 0.0011 | 0.0012 \t target loss: 0.0006 | 0.0006 \t disent loss: 0.0001 | 0.0009 \t msr loss: 2.0019 | 2.0027 \t iso a loss: 0.7182 | 0.0669 \t iso b loss: 0.3580 | 0.1162\n",
      "Epoch 27000 \t source loss: 0.0011 | 0.0012 \t target loss: 0.0006 | 0.0006 \t disent loss: 0.0002 | 0.0020 \t msr loss: 2.0028 | 2.0038 \t iso a loss: 0.7179 | 0.0657 \t iso b loss: 0.3597 | 0.1115\n",
      "Epoch 27500 \t source loss: 0.0011 | 0.0012 \t target loss: 0.0006 | 0.0006 \t disent loss: 0.0001 | 0.0005 \t msr loss: 2.0004 | 2.0009 \t iso a loss: 0.7179 | 0.0667 \t iso b loss: 0.3597 | 0.1151\n",
      "Epoch 28000 \t source loss: 0.0011 | 0.0012 \t target loss: 0.0005 | 0.0006 \t disent loss: 0.0001 | 0.0010 \t msr loss: 2.0007 | 2.0013 \t iso a loss: 0.7183 | 0.0658 \t iso b loss: 0.3578 | 0.1059\n",
      "Epoch 28500 \t source loss: 0.0010 | 0.0012 \t target loss: 0.0006 | 0.0006 \t disent loss: 0.0001 | 0.0006 \t msr loss: 2.0005 | 2.0013 \t iso a loss: 0.7180 | 0.0664 \t iso b loss: 0.3581 | 0.0880\n",
      "Epoch 29000 \t source loss: 0.0011 | 0.0012 \t target loss: 0.0005 | 0.0006 \t disent loss: 0.0001 | 0.0012 \t msr loss: 2.0017 | 2.0025 \t iso a loss: 0.7184 | 0.0621 \t iso b loss: 0.3580 | 0.0883\n",
      "Epoch 29500 \t source loss: 0.0010 | 0.0011 \t target loss: 0.0005 | 0.0006 \t disent loss: 0.0000 | 0.0004 \t msr loss: 2.0000 | 2.0008 \t iso a loss: 0.7180 | 0.0629 \t iso b loss: 0.3589 | 0.0853\n",
      "Epoch 30000 \t source loss: 0.0010 | 0.0012 \t target loss: 0.0005 | 0.0005 \t disent loss: 0.0002 | 0.0024 \t msr loss: 2.0034 | 2.0046 \t iso a loss: 0.7182 | 0.0605 \t iso b loss: 0.3579 | 0.0849\n",
      "Epoch 30500 \t source loss: 0.0010 | 0.0011 \t target loss: 0.0005 | 0.0005 \t disent loss: 0.0001 | 0.0007 \t msr loss: 2.0007 | 2.0018 \t iso a loss: 0.7179 | 0.0567 \t iso b loss: 0.3582 | 0.0800\n",
      "Epoch 31000 \t source loss: 0.0010 | 0.0011 \t target loss: 0.0005 | 0.0005 \t disent loss: 0.0002 | 0.0019 \t msr loss: 2.0024 | 2.0034 \t iso a loss: 0.7179 | 0.0566 \t iso b loss: 0.3596 | 0.0798\n",
      "Epoch 31500 \t source loss: 0.0010 | 0.0011 \t target loss: 0.0005 | 0.0005 \t disent loss: 0.0001 | 0.0007 \t msr loss: 2.0008 | 2.0020 \t iso a loss: 0.7180 | 0.0529 \t iso b loss: 0.3597 | 0.0763\n",
      "Epoch 32000 \t source loss: 0.0009 | 0.0011 \t target loss: 0.0005 | 0.0005 \t disent loss: 0.0002 | 0.0021 \t msr loss: 2.0028 | 2.0039 \t iso a loss: 0.7179 | 0.0510 \t iso b loss: 0.3578 | 0.0732\n",
      "Epoch 32500 \t source loss: 0.0009 | 0.0011 \t target loss: 0.0005 | 0.0005 \t disent loss: 0.0001 | 0.0008 \t msr loss: 2.0010 | 2.0022 \t iso a loss: 0.7179 | 0.0513 \t iso b loss: 0.3578 | 0.0709\n",
      "Epoch 33000 \t source loss: 0.0010 | 0.0011 \t target loss: 0.0004 | 0.0005 \t disent loss: 0.0002 | 0.0021 \t msr loss: 2.0059 | 2.0039 \t iso a loss: 0.7181 | 0.0472 \t iso b loss: 0.3580 | 0.0715\n",
      "Epoch 33500 \t source loss: 0.0009 | 0.0011 \t target loss: 0.0005 | 0.0005 \t disent loss: 0.0001 | 0.0013 \t msr loss: 2.0041 | 2.0040 \t iso a loss: 0.7179 | 0.0481 \t iso b loss: 0.3602 | 0.0668\n",
      "Epoch 34000 \t source loss: 0.0009 | 0.0011 \t target loss: 0.0005 | 0.0005 \t disent loss: 0.0003 | 0.0025 \t msr loss: 2.0058 | 2.0051 \t iso a loss: 0.7179 | 0.0468 \t iso b loss: 0.3588 | 0.0653\n",
      "Epoch 34500 \t source loss: 0.0010 | 0.0011 \t target loss: 0.0004 | 0.0005 \t disent loss: 0.0001 | 0.0008 \t msr loss: 2.0007 | 2.0018 \t iso a loss: 0.7187 | 0.0446 \t iso b loss: 0.3578 | 0.0631\n",
      "Epoch 35000 \t source loss: 0.0009 | 0.0011 \t target loss: 0.0004 | 0.0004 \t disent loss: 0.0002 | 0.0018 \t msr loss: 2.0022 | 2.0033 \t iso a loss: 0.7181 | 0.0423 \t iso b loss: 0.3577 | 0.0620\n",
      "Epoch 35500 \t source loss: 0.0009 | 0.0011 \t target loss: 0.0004 | 0.0005 \t disent loss: 0.0001 | 0.0010 \t msr loss: 2.0017 | 2.0030 \t iso a loss: 0.7179 | 0.0408 \t iso b loss: 0.3579 | 0.0600\n",
      "Epoch 36000 \t source loss: 0.0009 | 0.0010 \t target loss: 0.0004 | 0.0004 \t disent loss: 0.0002 | 0.0020 \t msr loss: 2.0037 | 2.0036 \t iso a loss: 0.7178 | 0.0411 \t iso b loss: 0.3578 | 0.0580\n",
      "Epoch 36500 \t source loss: 0.0009 | 0.0011 \t target loss: 0.0004 | 0.0004 \t disent loss: 0.0001 | 0.0005 \t msr loss: 2.0000 | 2.0009 \t iso a loss: 0.7179 | 0.0391 \t iso b loss: 0.3581 | 0.0564\n",
      "Epoch 37000 \t source loss: 0.0008 | 0.0010 \t target loss: 0.0004 | 0.0004 \t disent loss: 0.0002 | 0.0019 \t msr loss: 2.0025 | 2.0035 \t iso a loss: 0.7178 | 0.0367 \t iso b loss: 0.3581 | 0.0526\n",
      "Epoch 37500 \t source loss: 0.0008 | 0.0010 \t target loss: 0.0004 | 0.0004 \t disent loss: 0.0001 | 0.0009 \t msr loss: 2.0016 | 2.0024 \t iso a loss: 0.7178 | 0.0359 \t iso b loss: 0.3576 | 0.0536\n",
      "Epoch 38000 \t source loss: 0.0008 | 0.0010 \t target loss: 0.0004 | 0.0004 \t disent loss: 0.0001 | 0.0012 \t msr loss: 2.0010 | 2.0016 \t iso a loss: 0.7178 | 0.0345 \t iso b loss: 0.3583 | 0.0517\n",
      "Epoch 38500 \t source loss: 0.0008 | 0.0010 \t target loss: 0.0004 | 0.0004 \t disent loss: 0.0001 | 0.0006 \t msr loss: 2.0004 | 2.0013 \t iso a loss: 0.7178 | 0.0331 \t iso b loss: 0.3576 | 0.0484\n",
      "Epoch 39000 \t source loss: 0.0008 | 0.0010 \t target loss: 0.0004 | 0.0004 \t disent loss: 0.0002 | 0.0019 \t msr loss: 2.0041 | 2.0038 \t iso a loss: 0.7178 | 0.0317 \t iso b loss: 0.3577 | 0.0469\n",
      "Epoch 39500 \t source loss: 0.0008 | 0.0010 \t target loss: 0.0004 | 0.0004 \t disent loss: 0.0001 | 0.0006 \t msr loss: 2.0008 | 2.0014 \t iso a loss: 0.7178 | 0.0301 \t iso b loss: 0.3577 | 0.0457\n",
      "Epoch 40000 \t source loss: 0.0008 | 0.0010 \t target loss: 0.0004 | 0.0004 \t disent loss: 0.0004 | 0.0044 \t msr loss: 2.0120 | 2.0125 \t iso a loss: 0.7178 | 0.0284 \t iso b loss: 0.3576 | 0.0431\n",
      "Epoch 40500 \t source loss: 0.0008 | 0.0010 \t target loss: 0.0004 | 0.0004 \t disent loss: 0.0001 | 0.0009 \t msr loss: 2.0013 | 2.0024 \t iso a loss: 0.7178 | 0.0273 \t iso b loss: 0.3576 | 0.0417\n",
      "Epoch 41000 \t source loss: 0.0008 | 0.0010 \t target loss: 0.0004 | 0.0004 \t disent loss: 0.0002 | 0.0017 \t msr loss: 2.0029 | 2.0035 \t iso a loss: 0.7178 | 0.0261 \t iso b loss: 0.3576 | 0.0393\n",
      "Epoch 41500 \t source loss: 0.0008 | 0.0010 \t target loss: 0.0004 | 0.0004 \t disent loss: 0.0001 | 0.0005 \t msr loss: 2.0001 | 2.0009 \t iso a loss: 0.7180 | 0.0248 \t iso b loss: 0.3576 | 0.0369\n",
      "Epoch 42000 \t source loss: 0.0008 | 0.0010 \t target loss: 0.0004 | 0.0004 \t disent loss: 0.0002 | 0.0015 \t msr loss: 2.0018 | 2.0028 \t iso a loss: 0.7178 | 0.0234 \t iso b loss: 0.3580 | 0.0350\n",
      "Epoch 42500 \t source loss: 0.0008 | 0.0010 \t target loss: 0.0004 | 0.0004 \t disent loss: 0.0001 | 0.0009 \t msr loss: 2.0015 | 2.0028 \t iso a loss: 0.7179 | 0.0218 \t iso b loss: 0.3576 | 0.0331\n",
      "Epoch 43000 \t source loss: 0.0008 | 0.0010 \t target loss: 0.0003 | 0.0004 \t disent loss: 0.0003 | 0.0026 \t msr loss: 2.0051 | 2.0055 \t iso a loss: 0.7178 | 0.0206 \t iso b loss: 0.3576 | 0.0314\n",
      "Epoch 43500 \t source loss: 0.0008 | 0.0010 \t target loss: 0.0003 | 0.0004 \t disent loss: 0.0001 | 0.0008 \t msr loss: 2.0008 | 2.0017 \t iso a loss: 0.7178 | 0.0192 \t iso b loss: 0.3576 | 0.0294\n",
      "Epoch 44000 \t source loss: 0.0008 | 0.0010 \t target loss: 0.0003 | 0.0004 \t disent loss: 0.0002 | 0.0015 \t msr loss: 2.0015 | 2.0025 \t iso a loss: 0.7178 | 0.0180 \t iso b loss: 0.3577 | 0.0274\n",
      "Epoch 44500 \t source loss: 0.0008 | 0.0010 \t target loss: 0.0003 | 0.0004 \t disent loss: 0.0001 | 0.0007 \t msr loss: 2.0007 | 2.0017 \t iso a loss: 0.7178 | 0.0168 \t iso b loss: 0.3576 | 0.0255\n",
      "Epoch 45000 \t source loss: 0.0008 | 0.0010 \t target loss: 0.0003 | 0.0004 \t disent loss: 0.0001 | 0.0014 \t msr loss: 2.0012 | 2.0018 \t iso a loss: 0.7178 | 0.0154 \t iso b loss: 0.3576 | 0.0234\n",
      "Epoch 45500 \t source loss: 0.0008 | 0.0010 \t target loss: 0.0003 | 0.0004 \t disent loss: 0.0001 | 0.0009 \t msr loss: 2.0018 | 2.0027 \t iso a loss: 0.7178 | 0.0140 \t iso b loss: 0.3576 | 0.0214\n",
      "Epoch 46000 \t source loss: 0.0007 | 0.0010 \t target loss: 0.0003 | 0.0004 \t disent loss: 0.0002 | 0.0018 \t msr loss: 2.0014 | 2.0021 \t iso a loss: 0.7178 | 0.0128 \t iso b loss: 0.3576 | 0.0194\n",
      "Epoch 46500 \t source loss: 0.0007 | 0.0010 \t target loss: 0.0003 | 0.0004 \t disent loss: 0.0001 | 0.0006 \t msr loss: 2.0003 | 2.0012 \t iso a loss: 0.7178 | 0.0116 \t iso b loss: 0.3576 | 0.0174\n",
      "Epoch 47000 \t source loss: 0.0007 | 0.0010 \t target loss: 0.0003 | 0.0004 \t disent loss: 0.0001 | 0.0011 \t msr loss: 2.0013 | 2.0017 \t iso a loss: 0.7178 | 0.0103 \t iso b loss: 0.3576 | 0.0154\n",
      "Epoch 47500 \t source loss: 0.0007 | 0.0010 \t target loss: 0.0003 | 0.0004 \t disent loss: 0.0000 | 0.0005 \t msr loss: 2.0002 | 2.0010 \t iso a loss: 0.7178 | 0.0091 \t iso b loss: 0.3576 | 0.0134\n",
      "Epoch 48000 \t source loss: 0.0007 | 0.0010 \t target loss: 0.0003 | 0.0004 \t disent loss: 0.0002 | 0.0022 \t msr loss: 2.0042 | 2.0050 \t iso a loss: 0.7178 | 0.0079 \t iso b loss: 0.3576 | 0.0114\n",
      "Epoch 48500 \t source loss: 0.0007 | 0.0010 \t target loss: 0.0003 | 0.0003 \t disent loss: 0.0001 | 0.0007 \t msr loss: 2.0008 | 2.0016 \t iso a loss: 0.7178 | 0.0068 \t iso b loss: 0.3576 | 0.0095\n",
      "Epoch 49000 \t source loss: 0.0007 | 0.0010 \t target loss: 0.0003 | 0.0003 \t disent loss: 0.0002 | 0.0018 \t msr loss: 2.0018 | 2.0023 \t iso a loss: 0.7178 | 0.0057 \t iso b loss: 0.3576 | 0.0076\n",
      "Epoch 49500 \t source loss: 0.0007 | 0.0010 \t target loss: 0.0003 | 0.0003 \t disent loss: 0.0001 | 0.0006 \t msr loss: 2.0003 | 2.0010 \t iso a loss: 0.7178 | 0.0048 \t iso b loss: 0.3576 | 0.0060\n",
      "49999\r"
     ]
    }
   ],
   "source": [
    "model.fit_isomap_splice(lgn_train, v1_train, lgn_test, v1_test, disent_start=10000, c_disent=0.1, epochs=50000, n_neighbors=200)"
   ]
  },
  {
   "cell_type": "code",
   "execution_count": 33,
   "metadata": {},
   "outputs": [],
   "source": [
    "z_a, z_b2a, z_a2b, z_b, m_b2a, m_a2b, a_hat, b_hat = model(\n",
    "                        lgn_test, v1_test\n",
    "                    )"
   ]
  },
  {
   "cell_type": "code",
   "execution_count": 45,
   "metadata": {},
   "outputs": [
    {
     "data": {
      "text/plain": [
       "<matplotlib.collections.PathCollection at 0x2a0ea956a10>"
      ]
     },
     "execution_count": 45,
     "metadata": {},
     "output_type": "execute_result"
    },
    {
     "data": {
      "image/png": "[encoded data removed]",
      "text/plain": [
       "<Figure size 640x480 with 1 Axes>"
      ]
     },
     "metadata": {},
     "output_type": "display_data"
    }
   ],
   "source": [
    "plt.scatter(z_b.detach().cpu().numpy(), test['stim_params']['v1_p'], s=2)"
   ]
  },
  {
   "cell_type": "code",
   "execution_count": 34,
   "metadata": {},
   "outputs": [],
   "source": [
    "torch.save(model.state_dict(), os.path.join(\"..\", \"results\", \"models\", \"lgn-v1\", f\"{sim_name}_splice_isomap.pt\"))"
   ]
  },
  {
   "cell_type": "code",
   "execution_count": null,
   "metadata": {},
   "outputs": [],
   "source": []
  }
 ],
 "metadata": {
  "kernelspec": {
   "display_name": "splice",
   "language": "python",
   "name": "python3"
  },
  "language_info": {
   "codemirror_mode": {
    "name": "ipython",
    "version": 3
   },
   "file_extension": ".py",
   "mimetype": "text/x-python",
   "name": "python",
   "nbconvert_exporter": "python",
   "pygments_lexer": "ipython3",
   "version": "3.11.4"
  }
 },
 "nbformat": 4,
 "nbformat_minor": 2
}
