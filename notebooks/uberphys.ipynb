{
 "cells": [
  {
   "cell_type": "code",
   "execution_count": 2,
   "metadata": {},
   "outputs": [],
   "source": [
    "import os\n",
    "import pickle\n",
    "\n",
    "import matplotlib.pyplot as plt\n",
    "import numpy\n",
    "import torch\n",
    "import torch.nn.functional as F\n",
    "from sklearn.datasets import fetch_openml\n",
    "from sklearn.decomposition import PCA\n",
    "from torch.optim.lr_scheduler import LinearLR\n",
    "\n",
    "from splice import splice_model\n",
    "from splice.base import *\n",
    "from splice.loadCellsFile import *\n",
    "from splice.utilities import *\n",
    "\n",
    "device = torch.device(\"cuda\" if torch.cuda.is_available() else \"cpu\")"
   ]
  },
  {
   "cell_type": "markdown",
   "metadata": {},
   "source": [
    "## Uberphys"
   ]
  },
  {
   "cell_type": "markdown",
   "metadata": {},
   "source": [
    "### Data wrangling "
   ]
  },
  {
   "cell_type": "code",
   "execution_count": 2,
   "metadata": {},
   "outputs": [
    {
     "name": "stdout",
     "output_type": "stream",
     "text": [
      "No region found for cell 190, entering 'None'\n",
      "No region found for cell 191, entering 'None'\n",
      "No region found for cell 192, entering 'None'\n",
      "No region found for cell 193, entering 'None'\n",
      "No region found for cell 194, entering 'None'\n",
      "No region found for cell 195, entering 'None'\n",
      "No region found for cell 196, entering 'None'\n",
      "No region found for cell 197, entering 'None'\n",
      "No region found for cell 198, entering 'None'\n",
      "No region found for cell 199, entering 'None'\n",
      "No region found for cell 200, entering 'None'\n",
      "No region found for cell 201, entering 'None'\n",
      "No region found for cell 202, entering 'None'\n",
      "No region found for cell 203, entering 'None'\n",
      "No region found for cell 547, entering 'None'\n",
      "No region found for cell 2202, entering 'None'\n",
      "No region found for cell 2203, entering 'None'\n",
      "No region found for cell 2204, entering 'None'\n"
     ]
    }
   ],
   "source": [
    "G = mat2pyCellFileCleanup(\"../data/uberphys/A324_2023_07_21.mat\")"
   ]
  },
  {
   "cell_type": "code",
   "execution_count": 3,
   "metadata": {},
   "outputs": [],
   "source": [
    "region = np.array(G[\"region\"])\n",
    "\n",
    "ADS_inds_all = np.argwhere(region == 'ADS').flatten()\n",
    "M2_inds_all = np.argwhere(region == 'M2').flatten()\n",
    "TS_inds_all = np.argwhere(region == 'TS').flatten()\n",
    "\n",
    "incl_units = np.argwhere(G[\"standard_inclusion_criteria\"] == 1).flatten()\n",
    "excl_units =  [135, 981, 1660, 1664, 1952, 2028, 2222, 2230, 2232, 2260, 2261, 2263, 2265, 2266, 2267, 2268, 2460, 2549, 3079]\n",
    "\n",
    "ADS_inds = np.intersect1d(ADS_inds_all, incl_units)\n",
    "M2_inds = np.intersect1d(M2_inds_all, incl_units)\n",
    "TS_inds = np.intersect1d(TS_inds_all, incl_units)\n",
    "\n",
    "ADS_inds = np.setdiff1d(ADS_inds, excl_units)\n",
    "M2_inds = np.setdiff1d(M2_inds, excl_units)\n",
    "TS_inds = np.setdiff1d(TS_inds, excl_units)"
   ]
  },
  {
   "cell_type": "code",
   "execution_count": 4,
   "metadata": {},
   "outputs": [
    {
     "data": {
      "text/plain": [
       "((394,), (318,), (170,), (149,), (296,), (127,))"
      ]
     },
     "execution_count": 4,
     "metadata": {},
     "output_type": "execute_result"
    }
   ],
   "source": [
    "ADS_inds_all.shape, ADS_inds.shape, M2_inds_all.shape, M2_inds.shape, TS_inds_all.shape, TS_inds.shape"
   ]
  },
  {
   "cell_type": "code",
   "execution_count": 5,
   "metadata": {},
   "outputs": [],
   "source": [
    "# make per region dataframes w/ spike times\n",
    "ads_df = selectCells(G, ADS_inds)\n",
    "m2_df = selectCells(G, M2_inds)\n",
    "ts_df = selectCells(G, TS_inds)"
   ]
  },
  {
   "cell_type": "code",
   "execution_count": 6,
   "metadata": {},
   "outputs": [],
   "source": [
    "# calculate firing rates for each trial\n",
    "getSessionRates(ads_df, .05, .1, adaptive=False)\n",
    "getSessionRates(m2_df, .05, .1, adaptive=False)\n",
    "getSessionRates(ts_df, .05, .1, adaptive=False)"
   ]
  },
  {
   "cell_type": "code",
   "execution_count": 7,
   "metadata": {},
   "outputs": [],
   "source": [
    "m2_jagged_bins = []\n",
    "for i, bins in enumerate(m2_df['binned']):\n",
    "    m2_jagged_bins.append(bins)\n",
    "\n",
    "m2_bins = np.hstack(m2_jagged_bins).T\n",
    "\n",
    "\n",
    "ts_jagged_bins = []\n",
    "for i, bins in enumerate(ts_df['binned']):\n",
    "    ts_jagged_bins.append(bins)\n",
    "\n",
    "ts_bins = np.hstack(ts_jagged_bins).T\n",
    "\n",
    "ads_jagged_bins = []\n",
    "for i, bins in enumerate(ads_df['binned']):\n",
    "    ads_jagged_bins.append(bins)"
   ]
  },
  {
   "cell_type": "code",
   "execution_count": 8,
   "metadata": {},
   "outputs": [],
   "source": [
    "m2_jagged_rates = []\n",
    "for i, rates in enumerate(m2_df['rates']):\n",
    "    m2_jagged_rates.append(rates)\n",
    "\n",
    "ts_jagged_rates = []\n",
    "for i, rates in enumerate(ts_df['rates']):\n",
    "    ts_jagged_rates.append(rates)\n",
    "\n",
    "ads_jagged_rates = []\n",
    "for i, rates in enumerate(ads_df['rates']):\n",
    "    ads_jagged_rates.append(rates)\n"
   ]
  },
  {
   "cell_type": "code",
   "execution_count": 9,
   "metadata": {},
   "outputs": [],
   "source": [
    "# convert to numpy array so we can index witt lists\n",
    "m2_bins = np.zeros(714, dtype=\"object\")\n",
    "m2_rates = np.zeros(714, dtype=\"object\")\n",
    "for i in range(len(m2_jagged_bins)):\n",
    "    m2_bins[i] = m2_jagged_bins[i]\n",
    "    m2_rates[i] = m2_jagged_rates[i]\n",
    "\n",
    "ts_bins = np.zeros(714, dtype=\"object\")\n",
    "ts_rates = np.zeros(714, dtype=\"object\")\n",
    "for i in range(len(ts_jagged_bins)):\n",
    "    ts_bins[i] = ts_jagged_bins[i]\n",
    "    ts_rates[i] = ts_jagged_rates[i]\n",
    "\n",
    "ads_bins = np.zeros(714, dtype=\"object\")\n",
    "ads_rates = np.zeros(714, dtype=\"object\")\n",
    "for i in range(len(ads_jagged_bins)):\n",
    "    ads_bins[i] = ads_jagged_bins[i]\n",
    "    ads_rates[i] = ads_jagged_rates[i]"
   ]
  },
  {
   "cell_type": "code",
   "execution_count": 10,
   "metadata": {},
   "outputs": [],
   "source": [
    "test_inds = np.arange(0, len(m2_bins), 8)\n",
    "train_inds = [ind for ind in np.arange(0, len(m2_bins)) if (ind not in test_inds)]\n",
    "\n",
    "m2_train_bins = np.hstack((m2_bins[train_inds])).T  # type: ignore\n",
    "m2_test_bins = np.hstack((m2_bins[test_inds])).T  # type: ignore\n",
    "\n",
    "ads_train_bins = np.hstack((ads_bins[train_inds])).T  # type: ignore\n",
    "ads_test_bins = np.hstack((ads_bins[test_inds])).T  # type: ignore\n",
    "\n",
    "m2_train_rates = np.hstack((m2_rates[train_inds])).T  # type: ignore\n",
    "m2_test_rates = np.hstack((m2_rates[test_inds])).T  # type: ignore\n",
    "\n",
    "ads_train_rates = np.hstack((ads_rates[train_inds])).T  # type: ignore\n",
    "ads_test_rates = np.hstack((ads_rates[test_inds])).T  # type: ignore"
   ]
  },
  {
   "cell_type": "code",
   "execution_count": 11,
   "metadata": {},
   "outputs": [
    {
     "data": {
      "text/plain": [
       "(7209, 149)"
      ]
     },
     "execution_count": 11,
     "metadata": {},
     "output_type": "execute_result"
    }
   ],
   "source": [
    "m2_train_bins.shape"
   ]
  },
  {
   "cell_type": "markdown",
   "metadata": {},
   "source": [
    "### PCA"
   ]
  },
  {
   "cell_type": "code",
   "execution_count": 11,
   "metadata": {},
   "outputs": [],
   "source": [
    "dims = np.array([1,2,3,4,5,7,10,15, 20, 30 , 50, 75, 100])\n",
    "pca_bins_loss = np.zeros(len(dims))\n",
    "pca_rates_loss = np.zeros(len(dims))"
   ]
  },
  {
   "cell_type": "code",
   "execution_count": 12,
   "metadata": {},
   "outputs": [
    {
     "ename": "NameError",
     "evalue": "name 'm2_train_bins' is not defined",
     "output_type": "error",
     "traceback": [
      "\u001b[1;31m---------------------------------------------------------------------------\u001b[0m",
      "\u001b[1;31mNameError\u001b[0m                                 Traceback (most recent call last)",
      "Cell \u001b[1;32mIn[12], line 3\u001b[0m\n\u001b[0;32m      1\u001b[0m \u001b[38;5;28;01mfor\u001b[39;00m i,dim \u001b[38;5;129;01min\u001b[39;00m \u001b[38;5;28menumerate\u001b[39m(dims):\n\u001b[0;32m      2\u001b[0m     pca_bins \u001b[38;5;241m=\u001b[39m PCA(n_components\u001b[38;5;241m=\u001b[39mdim)\n\u001b[1;32m----> 3\u001b[0m     pca_bins\u001b[38;5;241m.\u001b[39mfit(m2_train_bins)\n\u001b[0;32m      4\u001b[0m     pca_bins_loss[i] \u001b[38;5;241m=\u001b[39m F\u001b[38;5;241m.\u001b[39mmse_loss(torch\u001b[38;5;241m.\u001b[39mTensor(pca_bins\u001b[38;5;241m.\u001b[39minverse_transform(pca_bins\u001b[38;5;241m.\u001b[39mtransform(m2_test_bins))), torch\u001b[38;5;241m.\u001b[39mTensor(m2_test_bins))\n\u001b[0;32m      6\u001b[0m     pca_rates \u001b[38;5;241m=\u001b[39m PCA(n_components\u001b[38;5;241m=\u001b[39mdim)\n",
      "\u001b[1;31mNameError\u001b[0m: name 'm2_train_bins' is not defined"
     ]
    }
   ],
   "source": [
    "for i,dim in enumerate(dims):\n",
    "    pca_bins = PCA(n_components=dim)\n",
    "    pca_bins.fit(m2_train_bins)\n",
    "    pca_bins_loss[i] = F.mse_loss(torch.Tensor(pca_bins.inverse_transform(pca_bins.transform(m2_test_bins))), torch.Tensor(m2_test_bins))\n",
    "\n",
    "    pca_rates = PCA(n_components=dim)\n",
    "    pca_rates.fit(m2_train_rates)\n",
    "    pca_rates_loss[i] = F.mse_loss(torch.Tensor(pca_rates.inverse_transform(pca_rates.transform(m2_test_rates))), torch.Tensor(m2_test_rates))"
   ]
  },
  {
   "cell_type": "code",
   "execution_count": null,
   "metadata": {},
   "outputs": [
    {
     "data": {
      "text/plain": [
       "[<matplotlib.lines.Line2D at 0x2ae161ead90>]"
      ]
     },
     "execution_count": 14,
     "metadata": {},
     "output_type": "execute_result"
    },
    {
     "data": {
      "image/png": "[encoded data removed]",
      "text/plain": [
       "<Figure size 640x480 with 1 Axes>"
      ]
     },
     "metadata": {},
     "output_type": "display_data"
    }
   ],
   "source": [
    "plt.plot(dims, np.cumsum(pca_bins.explained_variance_ratio_)[np.array(dims)-1], marker='o')\n",
    "plt.plot(dims, np.cumsum(pca_rates.explained_variance_ratio_)[np.array(dims)-1], marker='o')"
   ]
  },
  {
   "cell_type": "code",
   "execution_count": null,
   "metadata": {},
   "outputs": [
    {
     "data": {
      "text/plain": [
       "[<matplotlib.lines.Line2D at 0x2ae16298910>]"
      ]
     },
     "execution_count": 15,
     "metadata": {},
     "output_type": "execute_result"
    },
    {
     "data": {
      "image/png": "[encoded data removed]",
      "text/plain": [
       "<Figure size 640x480 with 1 Axes>"
      ]
     },
     "metadata": {},
     "output_type": "display_data"
    }
   ],
   "source": [
    "plt.plot(dims, pca_bins_loss, marker='o')\n",
    "plt.plot(dims, pca_rates_loss, marker='o')"
   ]
  },
  {
   "cell_type": "markdown",
   "metadata": {},
   "source": [
    "### Autoencoder"
   ]
  },
  {
   "cell_type": "code",
   "execution_count": 20,
   "metadata": {},
   "outputs": [],
   "source": [
    "class autoencoder(nn.Module):\n",
    "    def __init__(self, input_dim, bottleneck_dim, layers):\n",
    "        super(autoencoder, self).__init__()\n",
    "        self.encoder = encoder(input_dim, bottleneck_dim, layers)\n",
    "        self.decoder = decoder(bottleneck_dim, input_dim, layers)\n",
    "\n",
    "    def forward(self, x):\n",
    "        x = self.encoder(x)\n",
    "        x = self.decoder(x)\n",
    "        return x"
   ]
  },
  {
   "cell_type": "code",
   "execution_count": 27,
   "metadata": {},
   "outputs": [
    {
     "name": "stdout",
     "output_type": "stream",
     "text": [
      "------------ DIM = 1 -------------\n",
      "epoch 0, train loss: 0.22586, test loss: 0.21774\n",
      "epoch 500, train loss: 0.06083, test loss: 0.06152\n",
      "epoch 1000, train loss: 0.05770, test loss: 0.05798\n",
      "epoch 1500, train loss: 0.05637, test loss: 0.05695\n",
      "epoch 2000, train loss: 0.05561, test loss: 0.05709\n",
      "epoch 2500, train loss: 0.05499, test loss: 0.05729\n",
      "------------ DIM = 2 -------------\n",
      "epoch 0, train loss: 0.20661, test loss: 0.20015\n",
      "epoch 500, train loss: 0.05468, test loss: 0.05504\n",
      "epoch 1000, train loss: 0.05158, test loss: 0.05402\n",
      "epoch 1500, train loss: 0.04972, test loss: 0.05451\n",
      "epoch 2000, train loss: 0.04816, test loss: 0.05467\n",
      "epoch 2500, train loss: 0.04681, test loss: 0.05533\n",
      "------------ DIM = 3 -------------\n",
      "epoch 0, train loss: 0.19496, test loss: 0.18885\n",
      "epoch 500, train loss: 0.05311, test loss: 0.05381\n",
      "epoch 1000, train loss: 0.04864, test loss: 0.05241\n",
      "epoch 1500, train loss: 0.04620, test loss: 0.05318\n",
      "epoch 2000, train loss: 0.04489, test loss: 0.05437\n",
      "epoch 2500, train loss: 0.04301, test loss: 0.05508\n",
      "------------ DIM = 4 -------------\n",
      "epoch 0, train loss: 0.20448, test loss: 0.19795\n",
      "epoch 500, train loss: 0.05170, test loss: 0.05202\n",
      "epoch 1000, train loss: 0.04680, test loss: 0.05002\n",
      "epoch 1500, train loss: 0.04404, test loss: 0.05006\n",
      "epoch 2000, train loss: 0.04202, test loss: 0.05066\n",
      "epoch 2500, train loss: 0.04059, test loss: 0.05197\n",
      "------------ DIM = 5 -------------\n",
      "epoch 0, train loss: 0.20857, test loss: 0.20117\n",
      "epoch 500, train loss: 0.05148, test loss: 0.05180\n",
      "epoch 1000, train loss: 0.04552, test loss: 0.04824\n",
      "epoch 1500, train loss: 0.04281, test loss: 0.04785\n",
      "epoch 2000, train loss: 0.04077, test loss: 0.04859\n",
      "epoch 2500, train loss: 0.03937, test loss: 0.04951\n",
      "------------ DIM = 7 -------------\n",
      "epoch 0, train loss: 0.20778, test loss: 0.20150\n",
      "epoch 500, train loss: 0.04950, test loss: 0.05029\n",
      "epoch 1000, train loss: 0.04346, test loss: 0.04601\n",
      "epoch 1500, train loss: 0.04097, test loss: 0.04609\n",
      "epoch 2000, train loss: 0.03904, test loss: 0.04652\n",
      "epoch 2500, train loss: 0.03753, test loss: 0.04747\n",
      "------------ DIM = 10 -------------\n",
      "epoch 0, train loss: 0.20034, test loss: 0.19430\n",
      "epoch 500, train loss: 0.05119, test loss: 0.05177\n",
      "epoch 1000, train loss: 0.04467, test loss: 0.04736\n",
      "epoch 1500, train loss: 0.04057, test loss: 0.04541\n",
      "epoch 2000, train loss: 0.03797, test loss: 0.04431\n",
      "epoch 2500, train loss: 0.03594, test loss: 0.04372\n",
      "------------ DIM = 15 -------------\n",
      "epoch 0, train loss: 0.21683, test loss: 0.20969\n",
      "epoch 500, train loss: 0.04915, test loss: 0.04993\n",
      "epoch 1000, train loss: 0.04286, test loss: 0.04581\n",
      "epoch 1500, train loss: 0.03851, test loss: 0.04356\n",
      "epoch 2000, train loss: 0.03644, test loss: 0.04331\n",
      "epoch 2500, train loss: 0.03482, test loss: 0.04331\n",
      "------------ DIM = 20 -------------\n",
      "epoch 0, train loss: 0.21100, test loss: 0.20450\n",
      "epoch 500, train loss: 0.04908, test loss: 0.04982\n",
      "epoch 1000, train loss: 0.04188, test loss: 0.04469\n",
      "epoch 1500, train loss: 0.03852, test loss: 0.04316\n",
      "epoch 2000, train loss: 0.03579, test loss: 0.04202\n",
      "epoch 2500, train loss: 0.03374, test loss: 0.04083\n",
      "------------ DIM = 30 -------------\n",
      "epoch 0, train loss: 0.19463, test loss: 0.18816\n",
      "epoch 500, train loss: 0.04811, test loss: 0.04889\n",
      "epoch 1000, train loss: 0.04182, test loss: 0.04499\n",
      "epoch 1500, train loss: 0.03761, test loss: 0.04242\n",
      "epoch 2000, train loss: 0.03524, test loss: 0.04123\n",
      "epoch 2500, train loss: 0.03348, test loss: 0.04017\n",
      "------------ DIM = 50 -------------\n",
      "epoch 0, train loss: 0.20379, test loss: 0.19796\n",
      "epoch 500, train loss: 0.05001, test loss: 0.05062\n",
      "epoch 1000, train loss: 0.04315, test loss: 0.04653\n",
      "epoch 1500, train loss: 0.03785, test loss: 0.04229\n",
      "epoch 2000, train loss: 0.03494, test loss: 0.04068\n",
      "epoch 2500, train loss: 0.03294, test loss: 0.03997\n",
      "epoch 2999\r"
     ]
    }
   ],
   "source": [
    "dims = np.array([1,2,3,4,5,7,10,15, 20, 30 , 50])\n",
    "ae_bins_loss = np.ones(len(dims)) * 100\n",
    "ae_rates_loss = np.ones(len(dims)) * 100\n",
    "ae_bins_var_exp = np.zeros(len(dims))\n",
    "ae_rates_var_exp = np.zeros(len(dims))\n",
    "\n",
    "lr = 1e-3\n",
    "epochs = 3000\n",
    "\n",
    "for i,dim in enumerate(dims):\n",
    "    print(f\"------------ DIM = {dim} -------------\")\n",
    "    ae = autoencoder(m2_train_rates.shape[1], dim, [50]*6)\n",
    "    ae.train()\n",
    "    optimizer = torch.optim.Adam(ae.parameters(), lr=lr)\n",
    "    # scheduler = LinearLR(\n",
    "    #     optimizer, total_iters=epochs, start_factor=1, end_factor=1/50\n",
    "    # )\n",
    "\n",
    "    for epoch in range(epochs):\n",
    "        print(f\"epoch {epoch}\", end=\"\\r\")\n",
    "        x_hat = ae(torch.Tensor(m2_train_rates))\n",
    "        loss = F.mse_loss(x_hat, torch.Tensor(m2_train_rates))\n",
    "\n",
    "        optimizer.zero_grad()\n",
    "        loss.backward()\n",
    "        optimizer.step()\n",
    "\n",
    "        # scheduler.step()\n",
    "\n",
    "        if epoch % 500 == 0:\n",
    "            test_loss = F.mse_loss(ae(torch.Tensor(m2_test_rates)), torch.Tensor(m2_test_rates))\n",
    "            print(f\"epoch {epoch}, train loss: {loss.item():.5f}, test loss: {test_loss.item():.5f}\")\n",
    "\n",
    "            if test_loss < ae_bins_loss[i]:\n",
    "                ae_bins_loss[i] = test_loss.item()\n",
    "\n",
    "                s1 = torch.var(torch.Tensor(m2_test_bins), dim=0).mean()\n",
    "                s2 = torch.var(torch.Tensor(m2_test_bins) - ae(torch.Tensor(m2_test_bins)), dim=0).mean()\n",
    "                ae_bins_var_exp[i] =  1- s2/s1"
   ]
  },
  {
   "cell_type": "code",
   "execution_count": 19,
   "metadata": {},
   "outputs": [
    {
     "data": {
      "text/plain": [
       "autoencoder(\n",
       "  (encoder): encoder(\n",
       "    (layers): ModuleList(\n",
       "      (0): Linear(in_features=149, out_features=50, bias=True)\n",
       "      (1-10): 10 x Linear(in_features=50, out_features=50, bias=True)\n",
       "    )\n",
       "  )\n",
       "  (decoder): decoder(\n",
       "    (layers): ModuleList(\n",
       "      (0-9): 10 x Linear(in_features=50, out_features=50, bias=True)\n",
       "      (10): Linear(in_features=50, out_features=149, bias=True)\n",
       "    )\n",
       "  )\n",
       ")"
      ]
     },
     "execution_count": 19,
     "metadata": {},
     "output_type": "execute_result"
    }
   ],
   "source": [
    "ae"
   ]
  },
  {
   "cell_type": "code",
   "execution_count": null,
   "metadata": {},
   "outputs": [],
   "source": []
  },
  {
   "cell_type": "markdown",
   "metadata": {},
   "source": [
    "## MNIST sanity check"
   ]
  },
  {
   "cell_type": "markdown",
   "metadata": {},
   "source": [
    "### Load data"
   ]
  },
  {
   "cell_type": "code",
   "execution_count": 2,
   "metadata": {},
   "outputs": [],
   "source": [
    "mnist, mnist_labels = fetch_openml(\n",
    "        \"mnist_784\", version=1, return_X_y=True, as_frame=False, parser=\"auto\"\n",
    "    )"
   ]
  },
  {
   "cell_type": "code",
   "execution_count": 3,
   "metadata": {},
   "outputs": [],
   "source": [
    "test_inds = np.arange(0, mnist.shape[0], 8)\n",
    "train_inds = np.array([ind for ind in np.arange(0, mnist.shape[0]) if (ind not in test_inds)])"
   ]
  },
  {
   "cell_type": "code",
   "execution_count": 45,
   "metadata": {},
   "outputs": [],
   "source": [
    "mnist_train = mnist[train_inds]/255\n",
    "mnist_test = mnist[test_inds]/255"
   ]
  },
  {
   "cell_type": "markdown",
   "metadata": {},
   "source": [
    "### PCA"
   ]
  },
  {
   "cell_type": "code",
   "execution_count": 46,
   "metadata": {},
   "outputs": [],
   "source": [
    "dims = np.array([1,2,3,4,5,7,10,15, 20, 30 , 50])\n",
    "pca_loss = np.zeros(len(dims))"
   ]
  },
  {
   "cell_type": "code",
   "execution_count": 48,
   "metadata": {},
   "outputs": [],
   "source": [
    "for i,dim in enumerate(dims):\n",
    "    pca = PCA(n_components=dim)\n",
    "    pca.fit(mnist_train)\n",
    "    pca_loss[i] = F.mse_loss(torch.Tensor(pca.inverse_transform(pca.transform(mnist_test))), torch.Tensor(mnist_test), reduction=\"mean\")"
   ]
  },
  {
   "cell_type": "code",
   "execution_count": 49,
   "metadata": {},
   "outputs": [
    {
     "data": {
      "text/plain": [
       "[<matplotlib.lines.Line2D at 0x219088f4fd0>]"
      ]
     },
     "execution_count": 49,
     "metadata": {},
     "output_type": "execute_result"
    },
    {
     "data": {
      "image/png": "[encoded data removed]",
      "text/plain": [
       "<Figure size 640x480 with 1 Axes>"
      ]
     },
     "metadata": {},
     "output_type": "display_data"
    }
   ],
   "source": [
    "plt.plot(dims, pca_loss, marker='o')\n",
    "plt.plot(dims, ae_loss, marker='o')"
   ]
  },
  {
   "cell_type": "code",
   "execution_count": 30,
   "metadata": {},
   "outputs": [
    {
     "data": {
      "text/plain": [
       "[<matplotlib.lines.Line2D at 0x21902842f90>]"
      ]
     },
     "execution_count": 30,
     "metadata": {},
     "output_type": "execute_result"
    },
    {
     "data": {
      "image/png": "[encoded data removed]",
      "text/plain": [
       "<Figure size 640x480 with 1 Axes>"
      ]
     },
     "metadata": {},
     "output_type": "display_data"
    }
   ],
   "source": [
    "plt.plot(dims, pca_loss, marker='o')\n",
    "plt.plot(dims, ae_loss, marker='o')"
   ]
  },
  {
   "cell_type": "markdown",
   "metadata": {},
   "source": [
    "### Autoencoder"
   ]
  },
  {
   "cell_type": "code",
   "execution_count": 38,
   "metadata": {},
   "outputs": [],
   "source": [
    "class autoencoder(nn.Module):\n",
    "    def __init__(self, input_dim, bottleneck_dim, layers):\n",
    "        super(autoencoder, self).__init__()\n",
    "        self.encoder = encoder(input_dim, bottleneck_dim, layers)\n",
    "        self.decoder = decoder(bottleneck_dim, input_dim, layers[::-1])\n",
    "\n",
    "    def forward(self, x):\n",
    "        x = self.encoder(x)\n",
    "        x = self.decoder(x)\n",
    "        return x"
   ]
  },
  {
   "cell_type": "code",
   "execution_count": 41,
   "metadata": {},
   "outputs": [],
   "source": [
    "mnist_train = torch.Tensor(mnist[train_inds]/255).to(device)\n",
    "mnist_test = torch.Tensor(mnist[test_inds]/255).to(device)"
   ]
  },
  {
   "cell_type": "code",
   "execution_count": 42,
   "metadata": {},
   "outputs": [
    {
     "name": "stdout",
     "output_type": "stream",
     "text": [
      "------------ DIM = 1 -------------\n",
      "epoch 0, train loss: 0.05117, test loss: 0.05935\n",
      "epoch 1, train loss: 0.04909, test loss: 0.05666\n",
      "epoch 2, train loss: 0.04988, test loss: 0.05746\n",
      "epoch 3, train loss: 0.04783, test loss: 0.05605\n",
      "epoch 4, train loss: 0.04806, test loss: 0.05456\n",
      "epoch 5, train loss: 0.04941, test loss: 0.05601\n",
      "epoch 6, train loss: 0.04871, test loss: 0.05718\n",
      "epoch 7, train loss: 0.04896, test loss: 0.05515\n",
      "epoch 8, train loss: 0.04791, test loss: 0.05480\n",
      "epoch 9, train loss: 0.04925, test loss: 0.05391\n",
      "epoch 10, train loss: 0.04831, test loss: 0.05628\n",
      "epoch 11, train loss: 0.04792, test loss: 0.05439\n",
      "epoch 12, train loss: 0.04803, test loss: 0.05462\n",
      "epoch 13, train loss: 0.04740, test loss: 0.05395\n",
      "epoch 14, train loss: 0.04683, test loss: 0.05223\n",
      "epoch 15, train loss: 0.04727, test loss: 0.05336\n",
      "epoch 16, train loss: 0.04761, test loss: 0.05270\n",
      "epoch 17, train loss: 0.04785, test loss: 0.05170\n",
      "epoch 18, train loss: 0.04820, test loss: 0.05259\n",
      "epoch 19, train loss: 0.04759, test loss: 0.05273\n",
      "epoch 20, train loss: 0.04885, test loss: 0.05373\n",
      "epoch 21, train loss: 0.04661, test loss: 0.05192\n",
      "epoch 22, train loss: 0.04658, test loss: 0.05153\n",
      "epoch 23, train loss: 0.04567, test loss: 0.05232\n",
      "epoch 24, train loss: 0.04630, test loss: 0.05238\n",
      "epoch 25, train loss: 0.04564, test loss: 0.05142\n",
      "epoch 26, train loss: 0.04549, test loss: 0.05168\n",
      "epoch 27, train loss: 0.04549, test loss: 0.05234\n",
      "epoch 28, train loss: 0.04517, test loss: 0.05171\n",
      "epoch 29, train loss: 0.04573, test loss: 0.05154\n",
      "epoch 30, train loss: 0.04533, test loss: 0.05049\n",
      "epoch 31, train loss: 0.04628, test loss: 0.05088\n",
      "epoch 32, train loss: 0.04397, test loss: 0.05002\n",
      "epoch 33, train loss: 0.04479, test loss: 0.05130\n",
      "epoch 34, train loss: 0.04601, test loss: 0.05541\n",
      "epoch 35, train loss: 0.04551, test loss: 0.05194\n",
      "epoch 36, train loss: 0.04699, test loss: 0.05134\n",
      "epoch 37, train loss: 0.04483, test loss: 0.05158\n",
      "epoch 38, train loss: 0.04459, test loss: 0.05102\n",
      "epoch 39, train loss: 0.04518, test loss: 0.05057\n",
      "epoch 40, train loss: 0.04657, test loss: 0.05027\n",
      "epoch 41, train loss: 0.04466, test loss: 0.04986\n",
      "epoch 42, train loss: 0.04562, test loss: 0.05092\n",
      "epoch 43, train loss: 0.04403, test loss: 0.04976\n",
      "epoch 44, train loss: 0.04490, test loss: 0.05220\n",
      "epoch 45, train loss: 0.04440, test loss: 0.05097\n",
      "epoch 46, train loss: 0.04682, test loss: 0.05084\n",
      "epoch 47, train loss: 0.04875, test loss: 0.05226\n",
      "epoch 48, train loss: 0.04619, test loss: 0.05160\n",
      "epoch 49, train loss: 0.04400, test loss: 0.05117\n",
      "------------ DIM = 2 -------------\n",
      "epoch 0, train loss: 0.04677, test loss: 0.05295\n",
      "epoch 1, train loss: 0.04448, test loss: 0.05119\n",
      "epoch 2, train loss: 0.04379, test loss: 0.05032\n",
      "epoch 3, train loss: 0.04127, test loss: 0.04682\n",
      "epoch 4, train loss: 0.03980, test loss: 0.04648\n",
      "epoch 5, train loss: 0.03999, test loss: 0.04523\n",
      "epoch 6, train loss: 0.03966, test loss: 0.04308\n",
      "epoch 7, train loss: 0.03910, test loss: 0.04285\n",
      "epoch 8, train loss: 0.03960, test loss: 0.04341\n",
      "epoch 9, train loss: 0.03875, test loss: 0.04202\n",
      "epoch 10, train loss: 0.03826, test loss: 0.04225\n",
      "epoch 11, train loss: 0.03805, test loss: 0.04226\n",
      "epoch 12, train loss: 0.03825, test loss: 0.04153\n",
      "epoch 13, train loss: 0.03866, test loss: 0.04173\n",
      "epoch 14, train loss: 0.03768, test loss: 0.04349\n",
      "epoch 15, train loss: 0.03861, test loss: 0.04110\n",
      "epoch 16, train loss: 0.03880, test loss: 0.04111\n",
      "epoch 17, train loss: 0.03673, test loss: 0.04087\n",
      "epoch 18, train loss: 0.03757, test loss: 0.04036\n",
      "epoch 19, train loss: 0.03624, test loss: 0.04014\n",
      "epoch 20, train loss: 0.03672, test loss: 0.04052\n",
      "epoch 21, train loss: 0.03671, test loss: 0.04021\n",
      "epoch 22, train loss: 0.03621, test loss: 0.03990\n",
      "epoch 23, train loss: 0.03628, test loss: 0.03992\n",
      "epoch 24, train loss: 0.03770, test loss: 0.04063\n",
      "epoch 25, train loss: 0.03618, test loss: 0.03997\n",
      "epoch 26, train loss: 0.03664, test loss: 0.04045\n",
      "epoch 27, train loss: 0.03632, test loss: 0.03984\n",
      "epoch 28, train loss: 0.03571, test loss: 0.03948\n",
      "epoch 29, train loss: 0.03577, test loss: 0.03991\n",
      "epoch 30, train loss: 0.03635, test loss: 0.03967\n",
      "epoch 31, train loss: 0.03611, test loss: 0.04078\n",
      "epoch 32, train loss: 0.03656, test loss: 0.03982\n",
      "epoch 33, train loss: 0.03566, test loss: 0.03941\n",
      "epoch 34, train loss: 0.03571, test loss: 0.03957\n",
      "epoch 35, train loss: 0.03580, test loss: 0.03987\n",
      "epoch 36, train loss: 0.03569, test loss: 0.04000\n",
      "epoch 37, train loss: 0.03597, test loss: 0.03986\n",
      "epoch 38, train loss: 0.03615, test loss: 0.03933\n",
      "epoch 39, train loss: 0.03726, test loss: 0.03976\n",
      "epoch 40, train loss: 0.03573, test loss: 0.03932\n",
      "epoch 41, train loss: 0.03663, test loss: 0.04062\n",
      "epoch 42, train loss: 0.03538, test loss: 0.03977\n",
      "epoch 43, train loss: 0.03556, test loss: 0.03980\n",
      "epoch 44, train loss: 0.03551, test loss: 0.03922\n",
      "epoch 45, train loss: 0.03516, test loss: 0.03873\n",
      "epoch 46, train loss: 0.03475, test loss: 0.03957\n",
      "epoch 47, train loss: 0.03511, test loss: 0.04077\n",
      "epoch 48, train loss: 0.03512, test loss: 0.03867\n",
      "epoch 49, train loss: 0.03620, test loss: 0.03960\n",
      "------------ DIM = 3 -------------\n",
      "epoch 0, train loss: 0.04239, test loss: 0.04834\n",
      "epoch 1, train loss: 0.03966, test loss: 0.04493\n",
      "epoch 2, train loss: 0.03725, test loss: 0.04327\n",
      "epoch 3, train loss: 0.03632, test loss: 0.04289\n",
      "epoch 4, train loss: 0.03519, test loss: 0.04058\n",
      "epoch 5, train loss: 0.03458, test loss: 0.03993\n",
      "epoch 6, train loss: 0.03411, test loss: 0.03920\n",
      "epoch 7, train loss: 0.03384, test loss: 0.03799\n",
      "epoch 8, train loss: 0.03326, test loss: 0.03761\n",
      "epoch 9, train loss: 0.03249, test loss: 0.03697\n",
      "epoch 10, train loss: 0.03181, test loss: 0.03604\n",
      "epoch 11, train loss: 0.03140, test loss: 0.03586\n",
      "epoch 12, train loss: 0.03154, test loss: 0.03577\n",
      "epoch 13, train loss: 0.03080, test loss: 0.03543\n",
      "epoch 14, train loss: 0.03080, test loss: 0.03527\n",
      "epoch 15, train loss: 0.03066, test loss: 0.03491\n",
      "epoch 16, train loss: 0.03045, test loss: 0.03486\n",
      "epoch 17, train loss: 0.03049, test loss: 0.03468\n",
      "epoch 18, train loss: 0.03044, test loss: 0.03450\n",
      "epoch 19, train loss: 0.03023, test loss: 0.03428\n",
      "epoch 20, train loss: 0.02990, test loss: 0.03436\n",
      "epoch 21, train loss: 0.03014, test loss: 0.03429\n",
      "epoch 22, train loss: 0.03080, test loss: 0.03418\n",
      "epoch 23, train loss: 0.03007, test loss: 0.03413\n",
      "epoch 24, train loss: 0.02959, test loss: 0.03409\n",
      "epoch 25, train loss: 0.02964, test loss: 0.03367\n",
      "epoch 26, train loss: 0.02933, test loss: 0.03366\n",
      "epoch 27, train loss: 0.02951, test loss: 0.03371\n",
      "epoch 28, train loss: 0.02959, test loss: 0.03382\n",
      "epoch 29, train loss: 0.02885, test loss: 0.03339\n",
      "epoch 30, train loss: 0.02886, test loss: 0.03344\n",
      "epoch 31, train loss: 0.02930, test loss: 0.03334\n",
      "epoch 32, train loss: 0.02882, test loss: 0.03322\n",
      "epoch 33, train loss: 0.02929, test loss: 0.03305\n",
      "epoch 34, train loss: 0.02853, test loss: 0.03323\n",
      "epoch 35, train loss: 0.02849, test loss: 0.03397\n",
      "epoch 36, train loss: 0.02842, test loss: 0.03321\n",
      "epoch 37, train loss: 0.02851, test loss: 0.03320\n",
      "epoch 38, train loss: 0.02987, test loss: 0.03369\n",
      "epoch 39, train loss: 0.02882, test loss: 0.03278\n",
      "epoch 40, train loss: 0.02890, test loss: 0.03300\n",
      "epoch 41, train loss: 0.02830, test loss: 0.03286\n",
      "epoch 42, train loss: 0.02796, test loss: 0.03292\n",
      "epoch 43, train loss: 0.02812, test loss: 0.03269\n",
      "epoch 44, train loss: 0.02842, test loss: 0.03287\n",
      "epoch 45, train loss: 0.02838, test loss: 0.03277\n",
      "epoch 46, train loss: 0.02821, test loss: 0.03274\n",
      "epoch 47, train loss: 0.02757, test loss: 0.03258\n",
      "epoch 48, train loss: 0.02796, test loss: 0.03261\n",
      "epoch 49, train loss: 0.02792, test loss: 0.03288\n",
      "------------ DIM = 4 -------------\n",
      "epoch 0, train loss: 0.03801, test loss: 0.04511\n",
      "epoch 1, train loss: 0.03478, test loss: 0.04024\n",
      "epoch 2, train loss: 0.03313, test loss: 0.03741\n",
      "epoch 3, train loss: 0.03222, test loss: 0.03605\n",
      "epoch 4, train loss: 0.03150, test loss: 0.03517\n",
      "epoch 5, train loss: 0.03090, test loss: 0.03470\n",
      "epoch 6, train loss: 0.03047, test loss: 0.03435\n",
      "epoch 7, train loss: 0.02974, test loss: 0.03353\n",
      "epoch 8, train loss: 0.02925, test loss: 0.03251\n",
      "epoch 9, train loss: 0.02889, test loss: 0.03189\n",
      "epoch 10, train loss: 0.02851, test loss: 0.03138\n",
      "epoch 11, train loss: 0.02832, test loss: 0.03106\n",
      "epoch 12, train loss: 0.02812, test loss: 0.03083\n",
      "epoch 13, train loss: 0.02774, test loss: 0.03061\n",
      "epoch 14, train loss: 0.02743, test loss: 0.03043\n",
      "epoch 15, train loss: 0.02713, test loss: 0.03024\n",
      "epoch 16, train loss: 0.02680, test loss: 0.03009\n",
      "epoch 17, train loss: 0.02643, test loss: 0.03001\n",
      "epoch 18, train loss: 0.02620, test loss: 0.02969\n",
      "epoch 19, train loss: 0.02602, test loss: 0.02960\n",
      "epoch 20, train loss: 0.02596, test loss: 0.02980\n",
      "epoch 21, train loss: 0.02559, test loss: 0.02929\n",
      "epoch 22, train loss: 0.02567, test loss: 0.02928\n",
      "epoch 23, train loss: 0.02549, test loss: 0.02920\n",
      "epoch 24, train loss: 0.02524, test loss: 0.02902\n",
      "epoch 25, train loss: 0.02500, test loss: 0.02893\n",
      "epoch 26, train loss: 0.02496, test loss: 0.02903\n",
      "epoch 27, train loss: 0.02495, test loss: 0.02901\n",
      "epoch 28, train loss: 0.02481, test loss: 0.02927\n",
      "epoch 29, train loss: 0.02462, test loss: 0.02914\n",
      "epoch 30, train loss: 0.02455, test loss: 0.02873\n",
      "epoch 31, train loss: 0.02434, test loss: 0.02862\n",
      "epoch 32, train loss: 0.02428, test loss: 0.02879\n",
      "epoch 33, train loss: 0.02419, test loss: 0.02898\n",
      "epoch 34, train loss: 0.02396, test loss: 0.02872\n",
      "epoch 35, train loss: 0.02393, test loss: 0.02858\n",
      "epoch 36, train loss: 0.02376, test loss: 0.02861\n",
      "epoch 37, train loss: 0.02372, test loss: 0.02852\n",
      "epoch 38, train loss: 0.02372, test loss: 0.02864\n",
      "epoch 39, train loss: 0.02369, test loss: 0.02847\n",
      "epoch 40, train loss: 0.02360, test loss: 0.02856\n",
      "epoch 41, train loss: 0.02361, test loss: 0.02873\n",
      "epoch 42, train loss: 0.02363, test loss: 0.02849\n",
      "epoch 43, train loss: 0.02349, test loss: 0.02841\n",
      "epoch 44, train loss: 0.02346, test loss: 0.02829\n",
      "epoch 45, train loss: 0.02326, test loss: 0.02802\n",
      "epoch 46, train loss: 0.02337, test loss: 0.02829\n",
      "epoch 47, train loss: 0.02323, test loss: 0.02802\n",
      "epoch 48, train loss: 0.02325, test loss: 0.02829\n",
      "epoch 49, train loss: 0.02328, test loss: 0.02844\n",
      "------------ DIM = 5 -------------\n",
      "epoch 0, train loss: 0.03603, test loss: 0.04200\n",
      "epoch 1, train loss: 0.03321, test loss: 0.03845\n",
      "epoch 2, train loss: 0.03091, test loss: 0.03721\n",
      "epoch 3, train loss: 0.02953, test loss: 0.03532\n",
      "epoch 4, train loss: 0.02866, test loss: 0.03353\n",
      "epoch 5, train loss: 0.02802, test loss: 0.03296\n",
      "epoch 6, train loss: 0.02726, test loss: 0.03246\n",
      "epoch 7, train loss: 0.02654, test loss: 0.03184\n",
      "epoch 8, train loss: 0.02589, test loss: 0.03119\n",
      "epoch 9, train loss: 0.02531, test loss: 0.03066\n",
      "epoch 10, train loss: 0.02483, test loss: 0.03019\n",
      "epoch 11, train loss: 0.02448, test loss: 0.02983\n",
      "epoch 12, train loss: 0.02423, test loss: 0.02954\n",
      "epoch 13, train loss: 0.02407, test loss: 0.02945\n",
      "epoch 14, train loss: 0.02386, test loss: 0.02916\n",
      "epoch 15, train loss: 0.02367, test loss: 0.02903\n",
      "epoch 16, train loss: 0.02341, test loss: 0.02865\n",
      "epoch 17, train loss: 0.02323, test loss: 0.02850\n",
      "epoch 18, train loss: 0.02301, test loss: 0.02830\n",
      "epoch 19, train loss: 0.02287, test loss: 0.02819\n",
      "epoch 20, train loss: 0.02261, test loss: 0.02774\n",
      "epoch 21, train loss: 0.02247, test loss: 0.02768\n",
      "epoch 22, train loss: 0.02228, test loss: 0.02742\n",
      "epoch 23, train loss: 0.02217, test loss: 0.02721\n",
      "epoch 24, train loss: 0.02211, test loss: 0.02751\n",
      "epoch 25, train loss: 0.02199, test loss: 0.02737\n",
      "epoch 26, train loss: 0.02195, test loss: 0.02715\n",
      "epoch 27, train loss: 0.02187, test loss: 0.02728\n",
      "epoch 28, train loss: 0.02199, test loss: 0.02753\n",
      "epoch 29, train loss: 0.02204, test loss: 0.02699\n",
      "epoch 30, train loss: 0.02165, test loss: 0.02712\n",
      "epoch 31, train loss: 0.02139, test loss: 0.02636\n",
      "epoch 32, train loss: 0.02148, test loss: 0.02696\n",
      "epoch 33, train loss: 0.02172, test loss: 0.02655\n",
      "epoch 34, train loss: 0.02122, test loss: 0.02625\n",
      "epoch 35, train loss: 0.02109, test loss: 0.02648\n",
      "epoch 36, train loss: 0.02109, test loss: 0.02630\n",
      "epoch 37, train loss: 0.02108, test loss: 0.02657\n",
      "epoch 38, train loss: 0.02096, test loss: 0.02628\n",
      "epoch 39, train loss: 0.02084, test loss: 0.02630\n",
      "epoch 40, train loss: 0.02087, test loss: 0.02620\n",
      "epoch 41, train loss: 0.02078, test loss: 0.02625\n",
      "epoch 42, train loss: 0.02072, test loss: 0.02587\n",
      "epoch 43, train loss: 0.02069, test loss: 0.02572\n",
      "epoch 44, train loss: 0.02068, test loss: 0.02611\n",
      "epoch 45, train loss: 0.02058, test loss: 0.02590\n",
      "epoch 46, train loss: 0.02062, test loss: 0.02581\n",
      "epoch 47, train loss: 0.02052, test loss: 0.02586\n",
      "epoch 48, train loss: 0.02059, test loss: 0.02615\n",
      "epoch 49, train loss: 0.02050, test loss: 0.02592\n",
      "------------ DIM = 7 -------------\n",
      "epoch 0, train loss: 0.03311, test loss: 0.03946\n",
      "epoch 1, train loss: 0.03003, test loss: 0.03480\n",
      "epoch 2, train loss: 0.02765, test loss: 0.03231\n",
      "epoch 3, train loss: 0.02628, test loss: 0.03058\n",
      "epoch 4, train loss: 0.02524, test loss: 0.02934\n",
      "epoch 5, train loss: 0.02430, test loss: 0.02867\n",
      "epoch 6, train loss: 0.02345, test loss: 0.02777\n",
      "epoch 7, train loss: 0.02278, test loss: 0.02705\n",
      "epoch 8, train loss: 0.02222, test loss: 0.02629\n",
      "epoch 9, train loss: 0.02162, test loss: 0.02554\n",
      "epoch 10, train loss: 0.02114, test loss: 0.02504\n",
      "epoch 11, train loss: 0.02078, test loss: 0.02469\n",
      "epoch 12, train loss: 0.02047, test loss: 0.02440\n",
      "epoch 13, train loss: 0.02018, test loss: 0.02414\n",
      "epoch 14, train loss: 0.01992, test loss: 0.02393\n",
      "epoch 15, train loss: 0.01970, test loss: 0.02372\n",
      "epoch 16, train loss: 0.01950, test loss: 0.02351\n",
      "epoch 17, train loss: 0.01932, test loss: 0.02330\n",
      "epoch 18, train loss: 0.01916, test loss: 0.02308\n",
      "epoch 19, train loss: 0.01900, test loss: 0.02286\n",
      "epoch 20, train loss: 0.01885, test loss: 0.02267\n",
      "epoch 21, train loss: 0.01871, test loss: 0.02250\n",
      "epoch 22, train loss: 0.01858, test loss: 0.02236\n",
      "epoch 23, train loss: 0.01846, test loss: 0.02225\n",
      "epoch 24, train loss: 0.01836, test loss: 0.02216\n",
      "epoch 25, train loss: 0.01826, test loss: 0.02208\n",
      "epoch 26, train loss: 0.01817, test loss: 0.02203\n",
      "epoch 27, train loss: 0.01809, test loss: 0.02194\n",
      "epoch 28, train loss: 0.01800, test loss: 0.02191\n",
      "epoch 29, train loss: 0.01795, test loss: 0.02185\n",
      "epoch 30, train loss: 0.01786, test loss: 0.02179\n",
      "epoch 31, train loss: 0.01782, test loss: 0.02180\n",
      "epoch 32, train loss: 0.01779, test loss: 0.02174\n",
      "epoch 33, train loss: 0.01775, test loss: 0.02174\n",
      "epoch 34, train loss: 0.01769, test loss: 0.02162\n",
      "epoch 35, train loss: 0.01765, test loss: 0.02160\n",
      "epoch 36, train loss: 0.01754, test loss: 0.02150\n",
      "epoch 37, train loss: 0.01748, test loss: 0.02147\n",
      "epoch 38, train loss: 0.01741, test loss: 0.02147\n",
      "epoch 39, train loss: 0.01729, test loss: 0.02143\n",
      "epoch 40, train loss: 0.01718, test loss: 0.02148\n",
      "epoch 41, train loss: 0.01711, test loss: 0.02143\n",
      "epoch 42, train loss: 0.01698, test loss: 0.02141\n",
      "epoch 43, train loss: 0.01693, test loss: 0.02138\n",
      "epoch 44, train loss: 0.01684, test loss: 0.02137\n",
      "epoch 45, train loss: 0.01681, test loss: 0.02138\n",
      "epoch 46, train loss: 0.01673, test loss: 0.02137\n",
      "epoch 47, train loss: 0.01668, test loss: 0.02131\n",
      "epoch 48, train loss: 0.01665, test loss: 0.02137\n",
      "epoch 49, train loss: 0.01660, test loss: 0.02129\n",
      "------------ DIM = 10 -------------\n",
      "epoch 0, train loss: 0.03017, test loss: 0.03517\n",
      "epoch 1, train loss: 0.02650, test loss: 0.02971\n",
      "epoch 2, train loss: 0.02526, test loss: 0.02748\n",
      "epoch 3, train loss: 0.02280, test loss: 0.02609\n",
      "epoch 4, train loss: 0.02204, test loss: 0.02489\n",
      "epoch 5, train loss: 0.02131, test loss: 0.02432\n",
      "epoch 6, train loss: 0.02064, test loss: 0.02371\n",
      "epoch 7, train loss: 0.02000, test loss: 0.02289\n",
      "epoch 8, train loss: 0.01941, test loss: 0.02227\n",
      "epoch 9, train loss: 0.01890, test loss: 0.02179\n",
      "epoch 10, train loss: 0.01843, test loss: 0.02137\n",
      "epoch 11, train loss: 0.01802, test loss: 0.02102\n",
      "epoch 12, train loss: 0.01767, test loss: 0.02073\n",
      "epoch 13, train loss: 0.01735, test loss: 0.02046\n",
      "epoch 14, train loss: 0.01708, test loss: 0.02021\n",
      "epoch 15, train loss: 0.01683, test loss: 0.01999\n",
      "epoch 16, train loss: 0.01659, test loss: 0.01978\n",
      "epoch 17, train loss: 0.01637, test loss: 0.01963\n",
      "epoch 18, train loss: 0.01617, test loss: 0.01951\n",
      "epoch 19, train loss: 0.01600, test loss: 0.01941\n",
      "epoch 20, train loss: 0.01584, test loss: 0.01931\n",
      "epoch 21, train loss: 0.01569, test loss: 0.01919\n",
      "epoch 22, train loss: 0.01554, test loss: 0.01907\n",
      "epoch 23, train loss: 0.01540, test loss: 0.01893\n",
      "epoch 24, train loss: 0.01527, test loss: 0.01880\n",
      "epoch 25, train loss: 0.01515, test loss: 0.01868\n",
      "epoch 26, train loss: 0.01504, test loss: 0.01856\n",
      "epoch 27, train loss: 0.01492, test loss: 0.01846\n",
      "epoch 28, train loss: 0.01481, test loss: 0.01836\n",
      "epoch 29, train loss: 0.01470, test loss: 0.01826\n",
      "epoch 30, train loss: 0.01460, test loss: 0.01818\n",
      "epoch 31, train loss: 0.01449, test loss: 0.01810\n",
      "epoch 32, train loss: 0.01440, test loss: 0.01803\n",
      "epoch 33, train loss: 0.01430, test loss: 0.01796\n",
      "epoch 34, train loss: 0.01422, test loss: 0.01790\n",
      "epoch 35, train loss: 0.01414, test loss: 0.01784\n",
      "epoch 36, train loss: 0.01406, test loss: 0.01779\n",
      "epoch 37, train loss: 0.01398, test loss: 0.01774\n",
      "epoch 38, train loss: 0.01391, test loss: 0.01771\n",
      "epoch 39, train loss: 0.01384, test loss: 0.01768\n",
      "epoch 40, train loss: 0.01379, test loss: 0.01769\n",
      "epoch 41, train loss: 0.01375, test loss: 0.01770\n",
      "epoch 42, train loss: 0.01372, test loss: 0.01769\n",
      "epoch 43, train loss: 0.01364, test loss: 0.01777\n",
      "epoch 44, train loss: 0.01355, test loss: 0.01771\n",
      "epoch 45, train loss: 0.01345, test loss: 0.01754\n",
      "epoch 46, train loss: 0.01337, test loss: 0.01738\n",
      "epoch 47, train loss: 0.01331, test loss: 0.01727\n",
      "epoch 48, train loss: 0.01328, test loss: 0.01724\n",
      "epoch 49, train loss: 0.01324, test loss: 0.01724\n",
      "------------ DIM = 15 -------------\n",
      "epoch 0, train loss: 0.02796, test loss: 0.03260\n",
      "epoch 1, train loss: 0.02429, test loss: 0.02877\n",
      "epoch 2, train loss: 0.02082, test loss: 0.02513\n",
      "epoch 3, train loss: 0.01949, test loss: 0.02370\n",
      "epoch 4, train loss: 0.01884, test loss: 0.02353\n",
      "epoch 5, train loss: 0.01793, test loss: 0.02258\n",
      "epoch 6, train loss: 0.01717, test loss: 0.02116\n",
      "epoch 7, train loss: 0.01673, test loss: 0.02050\n",
      "epoch 8, train loss: 0.01634, test loss: 0.02006\n",
      "epoch 9, train loss: 0.01601, test loss: 0.01973\n",
      "epoch 10, train loss: 0.01565, test loss: 0.01923\n",
      "epoch 11, train loss: 0.01534, test loss: 0.01876\n",
      "epoch 12, train loss: 0.01503, test loss: 0.01832\n",
      "epoch 13, train loss: 0.01474, test loss: 0.01802\n",
      "epoch 14, train loss: 0.01447, test loss: 0.01778\n",
      "epoch 15, train loss: 0.01423, test loss: 0.01754\n",
      "epoch 16, train loss: 0.01404, test loss: 0.01725\n",
      "epoch 17, train loss: 0.01388, test loss: 0.01699\n",
      "epoch 18, train loss: 0.01374, test loss: 0.01678\n",
      "epoch 19, train loss: 0.01360, test loss: 0.01661\n",
      "epoch 20, train loss: 0.01350, test loss: 0.01646\n",
      "epoch 21, train loss: 0.01338, test loss: 0.01631\n",
      "epoch 22, train loss: 0.01324, test loss: 0.01614\n",
      "epoch 23, train loss: 0.01309, test loss: 0.01597\n",
      "epoch 24, train loss: 0.01297, test loss: 0.01582\n",
      "epoch 25, train loss: 0.01285, test loss: 0.01568\n",
      "epoch 26, train loss: 0.01275, test loss: 0.01556\n",
      "epoch 27, train loss: 0.01265, test loss: 0.01544\n",
      "epoch 28, train loss: 0.01257, test loss: 0.01535\n",
      "epoch 29, train loss: 0.01250, test loss: 0.01528\n",
      "epoch 30, train loss: 0.01242, test loss: 0.01525\n",
      "epoch 31, train loss: 0.01231, test loss: 0.01522\n",
      "epoch 32, train loss: 0.01221, test loss: 0.01530\n",
      "epoch 33, train loss: 0.01214, test loss: 0.01533\n",
      "epoch 34, train loss: 0.01207, test loss: 0.01518\n",
      "epoch 35, train loss: 0.01196, test loss: 0.01499\n",
      "epoch 36, train loss: 0.01183, test loss: 0.01486\n",
      "epoch 37, train loss: 0.01171, test loss: 0.01473\n",
      "epoch 38, train loss: 0.01159, test loss: 0.01460\n",
      "epoch 39, train loss: 0.01149, test loss: 0.01447\n",
      "epoch 40, train loss: 0.01142, test loss: 0.01438\n",
      "epoch 41, train loss: 0.01137, test loss: 0.01434\n",
      "epoch 42, train loss: 0.01131, test loss: 0.01431\n",
      "epoch 43, train loss: 0.01126, test loss: 0.01431\n",
      "epoch 44, train loss: 0.01124, test loss: 0.01434\n",
      "epoch 45, train loss: 0.01129, test loss: 0.01450\n",
      "epoch 46, train loss: 0.01147, test loss: 0.01461\n",
      "epoch 47, train loss: 0.01119, test loss: 0.01413\n",
      "epoch 48, train loss: 0.01105, test loss: 0.01406\n",
      "epoch 49, train loss: 0.01098, test loss: 0.01402\n",
      "------------ DIM = 20 -------------\n",
      "epoch 0, train loss: 0.02729, test loss: 0.03101\n",
      "epoch 1, train loss: 0.02573, test loss: 0.03256\n",
      "epoch 2, train loss: 0.01978, test loss: 0.02226\n",
      "epoch 3, train loss: 0.01868, test loss: 0.02071\n",
      "epoch 4, train loss: 0.01767, test loss: 0.01986\n",
      "epoch 5, train loss: 0.01649, test loss: 0.01926\n",
      "epoch 6, train loss: 0.01582, test loss: 0.01873\n",
      "epoch 7, train loss: 0.01545, test loss: 0.01800\n",
      "epoch 8, train loss: 0.01515, test loss: 0.01747\n",
      "epoch 9, train loss: 0.01470, test loss: 0.01700\n",
      "epoch 10, train loss: 0.01433, test loss: 0.01682\n",
      "epoch 11, train loss: 0.01421, test loss: 0.01685\n",
      "epoch 12, train loss: 0.01391, test loss: 0.01668\n",
      "epoch 13, train loss: 0.01354, test loss: 0.01624\n",
      "epoch 14, train loss: 0.01322, test loss: 0.01581\n",
      "epoch 15, train loss: 0.01297, test loss: 0.01547\n",
      "epoch 16, train loss: 0.01272, test loss: 0.01523\n",
      "epoch 17, train loss: 0.01251, test loss: 0.01508\n",
      "epoch 18, train loss: 0.01238, test loss: 0.01496\n",
      "epoch 19, train loss: 0.01226, test loss: 0.01485\n",
      "epoch 20, train loss: 0.01212, test loss: 0.01473\n",
      "epoch 21, train loss: 0.01201, test loss: 0.01468\n",
      "epoch 22, train loss: 0.01206, test loss: 0.01496\n",
      "epoch 23, train loss: 0.01213, test loss: 0.01507\n",
      "epoch 24, train loss: 0.01188, test loss: 0.01469\n",
      "epoch 25, train loss: 0.01173, test loss: 0.01454\n",
      "epoch 26, train loss: 0.01159, test loss: 0.01441\n",
      "epoch 27, train loss: 0.01146, test loss: 0.01428\n",
      "epoch 28, train loss: 0.01134, test loss: 0.01415\n",
      "epoch 29, train loss: 0.01122, test loss: 0.01404\n",
      "epoch 30, train loss: 0.01112, test loss: 0.01394\n",
      "epoch 31, train loss: 0.01103, test loss: 0.01386\n",
      "epoch 32, train loss: 0.01095, test loss: 0.01379\n",
      "epoch 33, train loss: 0.01088, test loss: 0.01373\n",
      "epoch 34, train loss: 0.01082, test loss: 0.01366\n",
      "epoch 35, train loss: 0.01076, test loss: 0.01360\n",
      "epoch 36, train loss: 0.01071, test loss: 0.01354\n",
      "epoch 37, train loss: 0.01066, test loss: 0.01348\n",
      "epoch 38, train loss: 0.01062, test loss: 0.01344\n",
      "epoch 39, train loss: 0.01057, test loss: 0.01340\n",
      "epoch 40, train loss: 0.01053, test loss: 0.01337\n",
      "epoch 41, train loss: 0.01049, test loss: 0.01335\n",
      "epoch 42, train loss: 0.01045, test loss: 0.01331\n",
      "epoch 43, train loss: 0.01039, test loss: 0.01326\n",
      "epoch 44, train loss: 0.01034, test loss: 0.01321\n",
      "epoch 45, train loss: 0.01028, test loss: 0.01316\n",
      "epoch 46, train loss: 0.01023, test loss: 0.01311\n",
      "epoch 47, train loss: 0.01018, test loss: 0.01306\n",
      "epoch 48, train loss: 0.01013, test loss: 0.01302\n",
      "epoch 49, train loss: 0.01009, test loss: 0.01298\n",
      "------------ DIM = 30 -------------\n",
      "epoch 0, train loss: 0.02740, test loss: 0.03065\n",
      "epoch 1, train loss: 0.02775, test loss: 0.03368\n",
      "epoch 2, train loss: 0.01921, test loss: 0.02267\n",
      "epoch 3, train loss: 0.01964, test loss: 0.02228\n",
      "epoch 4, train loss: 0.01700, test loss: 0.02048\n",
      "epoch 5, train loss: 0.01582, test loss: 0.01938\n",
      "epoch 6, train loss: 0.01488, test loss: 0.01736\n",
      "epoch 7, train loss: 0.01424, test loss: 0.01676\n",
      "epoch 8, train loss: 0.01452, test loss: 0.01747\n",
      "epoch 9, train loss: 0.01316, test loss: 0.01634\n",
      "epoch 10, train loss: 0.01303, test loss: 0.01605\n",
      "epoch 11, train loss: 0.01380, test loss: 0.01675\n",
      "epoch 12, train loss: 0.01261, test loss: 0.01599\n",
      "epoch 13, train loss: 0.01209, test loss: 0.01550\n",
      "epoch 14, train loss: 0.01175, test loss: 0.01478\n",
      "epoch 15, train loss: 0.01155, test loss: 0.01453\n",
      "epoch 16, train loss: 0.01143, test loss: 0.01435\n",
      "epoch 17, train loss: 0.01138, test loss: 0.01403\n",
      "epoch 18, train loss: 0.01131, test loss: 0.01371\n",
      "epoch 19, train loss: 0.01123, test loss: 0.01355\n",
      "epoch 20, train loss: 0.01113, test loss: 0.01352\n",
      "epoch 21, train loss: 0.01099, test loss: 0.01328\n",
      "epoch 22, train loss: 0.01083, test loss: 0.01311\n",
      "epoch 23, train loss: 0.01077, test loss: 0.01303\n",
      "epoch 24, train loss: 0.01070, test loss: 0.01305\n",
      "epoch 25, train loss: 0.01066, test loss: 0.01328\n",
      "epoch 26, train loss: 0.01057, test loss: 0.01343\n",
      "epoch 27, train loss: 0.01031, test loss: 0.01302\n",
      "epoch 28, train loss: 0.01019, test loss: 0.01279\n",
      "epoch 29, train loss: 0.01010, test loss: 0.01270\n",
      "epoch 30, train loss: 0.00999, test loss: 0.01259\n",
      "epoch 31, train loss: 0.00987, test loss: 0.01246\n",
      "epoch 32, train loss: 0.00977, test loss: 0.01234\n",
      "epoch 33, train loss: 0.00967, test loss: 0.01224\n",
      "epoch 34, train loss: 0.00959, test loss: 0.01215\n",
      "epoch 35, train loss: 0.00950, test loss: 0.01205\n",
      "epoch 36, train loss: 0.00942, test loss: 0.01196\n",
      "epoch 37, train loss: 0.00934, test loss: 0.01187\n",
      "epoch 38, train loss: 0.00927, test loss: 0.01179\n",
      "epoch 39, train loss: 0.00920, test loss: 0.01171\n",
      "epoch 40, train loss: 0.00914, test loss: 0.01169\n",
      "epoch 41, train loss: 0.00910, test loss: 0.01171\n",
      "epoch 42, train loss: 0.00904, test loss: 0.01165\n",
      "epoch 43, train loss: 0.00898, test loss: 0.01158\n",
      "epoch 44, train loss: 0.00891, test loss: 0.01151\n",
      "epoch 45, train loss: 0.00884, test loss: 0.01145\n",
      "epoch 46, train loss: 0.00876, test loss: 0.01137\n",
      "epoch 47, train loss: 0.00870, test loss: 0.01130\n",
      "epoch 48, train loss: 0.00865, test loss: 0.01124\n",
      "epoch 49, train loss: 0.00860, test loss: 0.01118\n",
      "------------ DIM = 50 -------------\n",
      "epoch 0, train loss: 0.02691, test loss: 0.03253\n",
      "epoch 1, train loss: 0.02071, test loss: 0.02321\n",
      "epoch 2, train loss: 0.02077, test loss: 0.02627\n",
      "epoch 3, train loss: 0.01627, test loss: 0.01917\n",
      "epoch 4, train loss: 0.01555, test loss: 0.01843\n",
      "epoch 5, train loss: 0.01412, test loss: 0.01670\n",
      "epoch 6, train loss: 0.01338, test loss: 0.01592\n",
      "epoch 7, train loss: 0.01315, test loss: 0.01604\n",
      "epoch 8, train loss: 0.01261, test loss: 0.01537\n",
      "epoch 9, train loss: 0.01207, test loss: 0.01438\n",
      "epoch 10, train loss: 0.01179, test loss: 0.01393\n",
      "epoch 11, train loss: 0.01167, test loss: 0.01406\n",
      "epoch 12, train loss: 0.01131, test loss: 0.01357\n",
      "epoch 13, train loss: 0.01107, test loss: 0.01331\n",
      "epoch 14, train loss: 0.01091, test loss: 0.01311\n",
      "epoch 15, train loss: 0.01077, test loss: 0.01296\n",
      "epoch 16, train loss: 0.01060, test loss: 0.01279\n",
      "epoch 17, train loss: 0.01044, test loss: 0.01264\n",
      "epoch 18, train loss: 0.01025, test loss: 0.01244\n",
      "epoch 19, train loss: 0.01006, test loss: 0.01227\n",
      "epoch 20, train loss: 0.00992, test loss: 0.01217\n",
      "epoch 21, train loss: 0.00982, test loss: 0.01209\n",
      "epoch 22, train loss: 0.00974, test loss: 0.01202\n",
      "epoch 23, train loss: 0.00971, test loss: 0.01198\n",
      "epoch 24, train loss: 0.00969, test loss: 0.01214\n",
      "epoch 25, train loss: 0.00957, test loss: 0.01214\n",
      "epoch 26, train loss: 0.00944, test loss: 0.01195\n",
      "epoch 27, train loss: 0.00932, test loss: 0.01176\n",
      "epoch 28, train loss: 0.00921, test loss: 0.01161\n",
      "epoch 29, train loss: 0.00912, test loss: 0.01147\n",
      "epoch 30, train loss: 0.00903, test loss: 0.01136\n",
      "epoch 31, train loss: 0.00895, test loss: 0.01126\n",
      "epoch 32, train loss: 0.00887, test loss: 0.01118\n",
      "epoch 33, train loss: 0.00880, test loss: 0.01111\n",
      "epoch 34, train loss: 0.00873, test loss: 0.01105\n",
      "epoch 35, train loss: 0.00868, test loss: 0.01101\n",
      "epoch 36, train loss: 0.00863, test loss: 0.01098\n",
      "epoch 37, train loss: 0.00860, test loss: 0.01096\n",
      "epoch 38, train loss: 0.00858, test loss: 0.01094\n",
      "epoch 39, train loss: 0.00856, test loss: 0.01094\n",
      "epoch 40, train loss: 0.00853, test loss: 0.01094\n",
      "epoch 41, train loss: 0.00848, test loss: 0.01093\n",
      "epoch 42, train loss: 0.00843, test loss: 0.01090\n",
      "epoch 43, train loss: 0.00838, test loss: 0.01087\n",
      "epoch 44, train loss: 0.00833, test loss: 0.01083\n",
      "epoch 45, train loss: 0.00828, test loss: 0.01080\n",
      "epoch 46, train loss: 0.00823, test loss: 0.01077\n",
      "epoch 47, train loss: 0.00819, test loss: 0.01074\n",
      "epoch 48, train loss: 0.00815, test loss: 0.01072\n",
      "epoch 49, train loss: 0.00811, test loss: 0.01069\n"
     ]
    }
   ],
   "source": [
    "dims = np.array([1,2,3,4,5,7,10,15, 20, 30 , 50])\n",
    "ae_loss = np.ones(len(dims)) * 100\n",
    "\n",
    "lr = 1e-3\n",
    "batch_size = 128\n",
    "epochs = 50\n",
    "\n",
    "for j,dim in enumerate(dims):\n",
    "    print(f\"------------ DIM = {dim} -------------\")\n",
    "    ae = autoencoder(mnist_test.shape[1], dim, [256,128, 64, 32]).to(device)\n",
    "    ae.train()\n",
    "    optimizer = torch.optim.Adam(ae.parameters(), lr=lr)\n",
    "    # scheduler = LinearLR(\n",
    "    #     optimizer, total_iters=epochs, start_factor=1, end_factor=1/50\n",
    "    # )\n",
    "\n",
    "    for epoch in range(epochs):\n",
    "        for i in range(int(len(mnist_train)/batch_size)):\n",
    "            print(i, end=\"\\r\")\n",
    "            x = mnist_train[i*batch_size:(i+1)*batch_size]\n",
    "            y = ae(x)\n",
    "            loss = torch.nn.functional.mse_loss(y, x, reduction=\"mean\")\n",
    "\n",
    "            optimizer.zero_grad()\n",
    "            loss.backward()\n",
    "            optimizer.step()\n",
    "            \n",
    "        test_loss = F.mse_loss(ae(torch.Tensor(mnist_test)), torch.Tensor(mnist_test), reduction=\"mean\")\n",
    "        print(f\"epoch {epoch}, train loss: {loss.item():.5f}, test loss: {test_loss.item():.5f}\")\n",
    "\n",
    "        if test_loss < ae_loss[j]:\n",
    "            ae_loss[j] = test_loss.item()"
   ]
  },
  {
   "cell_type": "markdown",
   "metadata": {},
   "source": [
    "## Uberphys from npz"
   ]
  },
  {
   "cell_type": "code",
   "execution_count": 3,
   "metadata": {},
   "outputs": [],
   "source": [
    "npz = np.load(\"../data/uberphys/A324_2023-07-21.npz\")"
   ]
  },
  {
   "cell_type": "code",
   "execution_count": 8,
   "metadata": {},
   "outputs": [],
   "source": [
    "rates = npz[\"trialRates\"]"
   ]
  },
  {
   "cell_type": "code",
   "execution_count": 11,
   "metadata": {},
   "outputs": [],
   "source": [
    "export_rates = np.zeros((139 * 714, 2565))\n",
    "for neuron in range(2565):\n",
    "    for trial in range(714):\n",
    "        for time in range(139):\n",
    "            export_rates[trial*139 + time, neuron] = rates[trial, neuron, time]"
   ]
  },
  {
   "cell_type": "code",
   "execution_count": 16,
   "metadata": {},
   "outputs": [],
   "source": [
    "rates_no_nan = export_rates[np.argwhere(~np.isnan(export_rates[:,0])).flatten()]"
   ]
  },
  {
   "cell_type": "code",
   "execution_count": 20,
   "metadata": {},
   "outputs": [],
   "source": [
    "x_train = np.vstack((rates_no_nan[:20000], rates_no_nan[25000:]))\n",
    "x_test = rates_no_nan[20000:25000]"
   ]
  },
  {
   "cell_type": "code",
   "execution_count": null,
   "metadata": {},
   "outputs": [],
   "source": []
  }
 ],
 "metadata": {
  "kernelspec": {
   "display_name": "splice",
   "language": "python",
   "name": "python3"
  },
  "language_info": {
   "codemirror_mode": {
    "name": "ipython",
    "version": 3
   },
   "file_extension": ".py",
   "mimetype": "text/x-python",
   "name": "python",
   "nbconvert_exporter": "python",
   "pygments_lexer": "ipython3",
   "version": "3.11.4"
  }
 },
 "nbformat": 4,
 "nbformat_minor": 2
}
