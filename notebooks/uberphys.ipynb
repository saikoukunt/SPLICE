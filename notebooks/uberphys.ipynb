{
 "cells": [
  {
   "cell_type": "code",
   "execution_count": 1,
   "metadata": {},
   "outputs": [],
   "source": [
    "import os\n",
    "import pickle\n",
    "\n",
    "import matplotlib.pyplot as plt\n",
    "import numpy\n",
    "import scipy.io as sio\n",
    "import torch\n",
    "import torch.nn.functional as F\n",
    "from sklearn.datasets import fetch_openml\n",
    "from sklearn.decomposition import PCA\n",
    "from torch.optim.lr_scheduler import LinearLR\n",
    "\n",
    "from splice import splice_model\n",
    "from splice.base import *\n",
    "from splice.loadCellsFile import *\n",
    "from splice.utilities import *\n",
    "\n",
    "device = torch.device(\"cuda\" if torch.cuda.is_available() else \"cpu\")\n"
   ]
  },
  {
   "cell_type": "markdown",
   "metadata": {},
   "source": [
    "## Preprocessing\n",
    "The preprocessing code below is adapted from Carlos' notebook, with minor changes to variable names, using numpy instead of pandas, and slight optimizations"
   ]
  },
  {
   "cell_type": "markdown",
   "metadata": {},
   "source": [
    "### Load the data"
   ]
  },
  {
   "cell_type": "code",
   "execution_count": 54,
   "metadata": {},
   "outputs": [
    {
     "name": "stdout",
     "output_type": "stream",
     "text": [
      "No region found for cell 190, entering 'None'\n",
      "No region found for cell 191, entering 'None'\n",
      "No region found for cell 192, entering 'None'\n",
      "No region found for cell 193, entering 'None'\n",
      "No region found for cell 194, entering 'None'\n",
      "No region found for cell 195, entering 'None'\n",
      "No region found for cell 196, entering 'None'\n",
      "No region found for cell 197, entering 'None'\n",
      "No region found for cell 198, entering 'None'\n",
      "No region found for cell 199, entering 'None'\n",
      "No region found for cell 200, entering 'None'\n",
      "No region found for cell 201, entering 'None'\n",
      "No region found for cell 202, entering 'None'\n",
      "No region found for cell 203, entering 'None'\n",
      "No region found for cell 547, entering 'None'\n",
      "No region found for cell 2202, entering 'None'\n",
      "No region found for cell 2203, entering 'None'\n",
      "No region found for cell 2204, entering 'None'\n",
      "We have 714 non-violation, valid trials\n"
     ]
    }
   ],
   "source": [
    "ratname = \"A324\"\n",
    "sessdate = \"2023_07_21\"\n",
    "\n",
    "session_info = mat2pyCellFileCleanup(\"../data/uberphys/%s_%s.mat\" % (ratname, sessdate))\n",
    "session_data = scipy.io.loadmat(\"../data/uberphys/%s_%s.mat\" % (ratname, sessdate)) \n",
    "\n",
    "included_trials = np.argwhere((session_info[\"Trials\"]['violated'] == 0) & ((~np.isnan(session_info[\"Trials\"][\"pokedR\"])))).squeeze()\n",
    "n_trials = included_trials.shape[0]\n",
    "cpoke_in = session_info[\"Trials\"][\"stateTimes\"][\"cpoke_in\"][included_trials]\n",
    "cpoke_out = session_info[\"Trials\"][\"stateTimes\"][\"cpoke_out\"][included_trials]\n",
    "\n",
    "included_cells = np.argwhere(session_data['standard_inclusion_criteria'].squeeze()).squeeze()\n",
    "brain_region = np.array(session_info['region'])[included_cells]\n",
    "\n",
    "print(f\"We have {n_trials} non-violation, valid trials\")"
   ]
  },
  {
   "cell_type": "markdown",
   "metadata": {},
   "source": [
    "### Bin and smooth firing rates\n",
    "Here we bin spikes into 10 ms bins; then smooth with a 60ms sd Gaussian; then subsample down by 3.\n",
    "\n",
    "We end up with **time_in_session**, a time in session vector, and **smoothed_rates**, an nCells x nTimebins matrix of smoothed firing rates (no trial structure yet)"
   ]
  },
  {
   "cell_type": "code",
   "execution_count": 12,
   "metadata": {},
   "outputs": [
    {
     "name": "stdout",
     "output_type": "stream",
     "text": [
      "We have 2621 cells total\n"
     ]
    }
   ],
   "source": [
    "spike_times= session_data['raw_spike_time_s'].squeeze()[included]\n",
    "n_cells = spike_times.shape[0]\n",
    "print(f\"We have {n_cells} cells total\")"
   ]
  },
  {
   "cell_type": "code",
   "execution_count": 13,
   "metadata": {},
   "outputs": [
    {
     "name": "stdout",
     "output_type": "stream",
     "text": [
      "Min time: 1658.66378, Max time: 14362.02429\n"
     ]
    }
   ],
   "source": [
    "min_time = np.inf\n",
    "max_time = -np.inf\n",
    "\n",
    "for cell in spike_times:\n",
    "    if len(cell) > 0:\n",
    "        min_time = min(min_time, cell[0])\n",
    "        max_time = max(max_time, cell[-1])\n",
    "\n",
    "min_time = min_time[0]\n",
    "max_time = max_time[0]\n",
    "print(f\"Min time: {min_time}, Max time: {max_time}\")\n",
    "    "
   ]
  },
  {
   "cell_type": "code",
   "execution_count": 14,
   "metadata": {},
   "outputs": [
    {
     "name": "stdout",
     "output_type": "stream",
     "text": [
      "Loaded smoothed rates from file\n"
     ]
    }
   ],
   "source": [
    "dt = 0.01\n",
    "bin_times = np.arange(np.floor(min_time), np.ceil(max_time), dt)\n",
    "smooth_sigma = 0.06 # in seconds\n",
    "subsample_factor = 3\n",
    "\n",
    "filepath = f\"../data/uberphys/%s_%s_%.3f_smoothed_rates.npz\" % (ratname, sessdate, smooth_sigma)\n",
    "\n",
    "if(os.path.exists(filepath)):\n",
    "    data = np.load(filepath)\n",
    "    smoothed_rates = data['smoothed_rates']\n",
    "    time_in_session = data['time_in_session']\n",
    "    print(\"Loaded smoothed rates from file\")\n",
    "else:\n",
    "    time_in_session = bin_times[0:-1:subsample_factor]\n",
    "    smoothed_rates = np.zeros((n_cells, len(time_in_session)))\n",
    "\n",
    "    for cell in range(n_cells):\n",
    "        if smooth_sigma == 0:\n",
    "            smoothed_rates[cell] = binEvents(spike_times[cell], bin_times, dt)[0:-1:subsample_factor]/dt\n",
    "        else:\n",
    "            smoothed_rates[cell] = smoothIt(binEvents(spike_times[cell], bin_times, dt), smooth_sigma/dt)[0:-1:subsample_factor]/dt\n",
    "        \n",
    "        print(f\"Done with {cell+1}/{n_cells} cells\", end=\"\\r\")\n",
    "    \n",
    "    np.savez_compressed(filepath, smoothed_rates=smoothed_rates, time_in_session=time_in_session)"
   ]
  },
  {
   "cell_type": "markdown",
   "metadata": {},
   "source": [
    "### Put times into trials"
   ]
  },
  {
   "cell_type": "markdown",
   "metadata": {},
   "source": [
    "We'll make a tensor **trial_rates**, nTrials x nCells x nTimebins, where nTimebins now just runs over `cpoke_in` to `cpoke_out`.\n",
    "\n",
    "Note that different trials are different lengths.  We're timelocked to `cpoke_in`, but some will have `np.nan`s in their last timebins"
   ]
  },
  {
   "cell_type": "code",
   "execution_count": 64,
   "metadata": {},
   "outputs": [],
   "source": [
    "trial_length = 0.5\n",
    "\n",
    "trial_rates = np.zeros((n_trials, n_cells, int(np.ceil(trial_length/(dt*subsample_factor)))))\n",
    "trial_times = list(np.arange(trial_rates.shape[-1])*(dt*subsample_factor))\n",
    "\n",
    "for trial in range(n_trials):\n",
    "    start = cpoke_in[trial]\n",
    "    end = cpoke_out[trial]\n",
    "\n",
    "    rates = smoothed_rates[:, (time_in_session >= start) & (time_in_session < end)]\n",
    "\n",
    "    if rates.shape[1] > trial_rates.shape[-1]:\n",
    "        add_length = rates.shape[1] - trial_rates.shape[-1]\n",
    "        trial_rates = np.concatenate((trial_rates, np.nan * np.zeros((n_trials, n_cells, add_length))), axis=-1)\n",
    "\n",
    "        new_times = list(trial_times[-1] + np.arange(1, (add_length+1))*(dt*subsample_factor))\n",
    "\n",
    "        if new_times:\n",
    "            trial_times.extend(new_times)\n",
    "    \n",
    "    trial_rates[trial, :, :rates.shape[1]] = rates\n",
    "\n",
    "trial_times = np.array(trial_times)"
   ]
  },
  {
   "cell_type": "markdown",
   "metadata": {},
   "source": [
    "### Concatenate all non-NaN timebins across trials"
   ]
  },
  {
   "cell_type": "code",
   "execution_count": 74,
   "metadata": {},
   "outputs": [
    {
     "data": {
      "text/plain": [
       "(40779, 500)"
      ]
     },
     "execution_count": 74,
     "metadata": {},
     "output_type": "execute_result"
    }
   ],
   "source": [
    "concatenated_rates = trial_rates.transpose(0, 2, 1).reshape(-1, n_cells)\n",
    "concatenated_rates = concatenated_rates[~np.isnan(concatenated_rates[:,0]), :500]\n",
    "concatenated_rates.shape"
   ]
  },
  {
   "cell_type": "markdown",
   "metadata": {},
   "source": [
    "## Do things"
   ]
  },
  {
   "cell_type": "markdown",
   "metadata": {},
   "source": [
    "### Pick out cells from a brain region "
   ]
  },
  {
   "cell_type": "code",
   "execution_count": null,
   "metadata": {},
   "outputs": [
    {
     "data": {
      "text/plain": [
       "array(['ADS', 'CC', 'Cg1', 'DGd', 'DGv', 'DS', 'GP', 'M1', 'M2', 'MGB',\n",
       "       'NAc', 'None', 'PrL', 'S1', 'SBN', 'TS'], dtype='<U4')"
      ]
     },
     "metadata": {},
     "output_type": "display_data"
    }
   ],
   "source": [
    "np.unique(brain_region)"
   ]
  },
  {
   "cell_type": "code",
   "execution_count": null,
   "metadata": {},
   "outputs": [
    {
     "name": "stdout",
     "output_type": "stream",
     "text": [
      "We have 305 cells in Cg1\n"
     ]
    }
   ],
   "source": [
    "selected_region = \"Cg1\"\n",
    "selected_cells = np.argwhere(brain_region == selected_region).squeeze()\n",
    "\n",
    "selected_spike_times = spike_times[selected_cells]\n",
    "selected_smoothed_rates = smoothed_rates[selected_cells]\n",
    "print(f\"We have {selected_spike_times.shape[0]} cells in {selected_region}\")"
   ]
  },
  {
   "cell_type": "markdown",
   "metadata": {},
   "source": [
    "## Uberphys"
   ]
  },
  {
   "cell_type": "code",
   "execution_count": 61,
   "metadata": {},
   "outputs": [],
   "source": [
    "npz = np.load(\"../data/uberphys/A324_2023-07-21.npz\")\n",
    "rates = npz[\"trialRates\"]"
   ]
  },
  {
   "cell_type": "code",
   "execution_count": 6,
   "metadata": {},
   "outputs": [
    {
     "data": {
      "text/plain": [
       "array('Firing rates for all 714 trials, all 2565 cells, over 139 timesteps of 0.03 seconds each.\\n\\nEach trial starts at cpoke_in and runs until cpoke_out.\\nNaNs are used to pad the end of trials that are shorter than the longest trial.\\nbrainRegionsList is a vector of strings, indicating which brain region each unit came from.\\n\\nFiring rates were computed by smoothing the spike times with a Gaussian kernel of sigma 0.06 seconds,\\nthen sampling every 30 ms.\\n',\n",
       "      dtype='<U449')"
      ]
     },
     "execution_count": 6,
     "metadata": {},
     "output_type": "execute_result"
    }
   ],
   "source": [
    "npz[\"README\"]"
   ]
  },
  {
   "cell_type": "code",
   "execution_count": 4,
   "metadata": {},
   "outputs": [],
   "source": [
    "export_rates = np.zeros((714*139, 2565))\n",
    "for neuron in range(2565):\n",
    "    for trial in range(714):\n",
    "        for time in range(139):\n",
    "            export_rates[trial*139+time, neuron] = rates[trial, neuron, time]"
   ]
  },
  {
   "cell_type": "code",
   "execution_count": 5,
   "metadata": {},
   "outputs": [],
   "source": [
    "export_rates = export_rates[~np.isnan(export_rates[:,0]), :500]"
   ]
  },
  {
   "cell_type": "code",
   "execution_count": 6,
   "metadata": {},
   "outputs": [
    {
     "data": {
      "text/plain": [
       "(40681, 500)"
      ]
     },
     "execution_count": 6,
     "metadata": {},
     "output_type": "execute_result"
    }
   ],
   "source": [
    "export_rates.shape"
   ]
  },
  {
   "cell_type": "code",
   "execution_count": 7,
   "metadata": {},
   "outputs": [],
   "source": [
    "x_train = np.vstack((export_rates[0:20000], export_rates[25000:]))\n",
    "x_test = export_rates[20000:25000]"
   ]
  },
  {
   "cell_type": "code",
   "execution_count": 8,
   "metadata": {},
   "outputs": [
    {
     "data": {
      "text/plain": [
       "((35681, 500), (5000, 500))"
      ]
     },
     "execution_count": 8,
     "metadata": {},
     "output_type": "execute_result"
    }
   ],
   "source": [
    "x_train.shape, x_test.shape"
   ]
  },
  {
   "cell_type": "markdown",
   "metadata": {},
   "source": [
    "### PCA"
   ]
  },
  {
   "cell_type": "code",
   "execution_count": 9,
   "metadata": {},
   "outputs": [],
   "source": [
    "dims = np.array([1,2,3,4,5,7,10,15, 20, 30 , 50])\n",
    "pca_loss = np.zeros(len(dims))"
   ]
  },
  {
   "cell_type": "code",
   "execution_count": 10,
   "metadata": {},
   "outputs": [],
   "source": [
    "for i,dim in enumerate(dims):\n",
    "    pca = PCA(n_components=dim)\n",
    "    pca.fit(x_train)\n",
    "    pca_loss[i] = F.mse_loss(torch.Tensor(pca.inverse_transform(pca.transform(x_test))), torch.Tensor(x_test), reduction=\"mean\")"
   ]
  },
  {
   "cell_type": "code",
   "execution_count": 11,
   "metadata": {},
   "outputs": [
    {
     "data": {
      "text/plain": [
       "[<matplotlib.lines.Line2D at 0x1cc4f6dd610>]"
      ]
     },
     "execution_count": 11,
     "metadata": {},
     "output_type": "execute_result"
    },
    {
     "data": {
      "image/png": "[encoded data removed]",
      "text/plain": [
       "<Figure size 640x480 with 1 Axes>"
      ]
     },
     "metadata": {},
     "output_type": "display_data"
    }
   ],
   "source": [
    "plt.plot(dims, pca_loss, marker='o')"
   ]
  },
  {
   "cell_type": "markdown",
   "metadata": {},
   "source": [
    "### Autoencoder"
   ]
  },
  {
   "cell_type": "code",
   "execution_count": 12,
   "metadata": {},
   "outputs": [],
   "source": [
    "x_train = torch.Tensor(x_train).to(device)\n",
    "x_test = torch.Tensor(x_test).to(device)"
   ]
  },
  {
   "cell_type": "code",
   "execution_count": 13,
   "metadata": {},
   "outputs": [],
   "source": [
    "class autoencoder(nn.Module):\n",
    "    def __init__(self, input_dim, bottleneck_dim, layers):\n",
    "        super(autoencoder, self).__init__()\n",
    "        self.encoder = encoder(input_dim, bottleneck_dim, layers)\n",
    "        self.decoder = decoder(bottleneck_dim, input_dim, layers[::-1])\n",
    "\n",
    "    def forward(self, x):\n",
    "        x = self.encoder(x)\n",
    "        x = self.decoder(x)\n",
    "        return x"
   ]
  },
  {
   "cell_type": "code",
   "execution_count": 14,
   "metadata": {},
   "outputs": [
    {
     "name": "stdout",
     "output_type": "stream",
     "text": [
      "------------ DIM = 1 -------------\n",
      "epoch 0, train loss: 755.59680, test loss: 167.92265\n",
      "epoch 500, train loss: 58.68704, test loss: 57.71771\n",
      "epoch 1000, train loss: 58.68704, test loss: 57.71771\n",
      "epoch 1500, train loss: 58.68704, test loss: 57.71771\n",
      "epoch 2000, train loss: 58.68704, test loss: 57.71771\n",
      "2317\r"
     ]
    },
    {
     "ename": "KeyboardInterrupt",
     "evalue": "",
     "output_type": "error",
     "traceback": [
      "\u001b[1;31m---------------------------------------------------------------------------\u001b[0m",
      "\u001b[1;31mKeyboardInterrupt\u001b[0m                         Traceback (most recent call last)",
      "Cell \u001b[1;32mIn[14], line 21\u001b[0m\n\u001b[0;32m     19\u001b[0m \u001b[38;5;28;01mfor\u001b[39;00m i \u001b[38;5;129;01min\u001b[39;00m \u001b[38;5;28mrange\u001b[39m(\u001b[38;5;28mint\u001b[39m(\u001b[38;5;28mlen\u001b[39m(x_train)\u001b[38;5;241m/\u001b[39mbatch_size)):\n\u001b[0;32m     20\u001b[0m     x \u001b[38;5;241m=\u001b[39m x_train[i\u001b[38;5;241m*\u001b[39mbatch_size:(i\u001b[38;5;241m+\u001b[39m\u001b[38;5;241m1\u001b[39m)\u001b[38;5;241m*\u001b[39mbatch_size]\n\u001b[1;32m---> 21\u001b[0m     y \u001b[38;5;241m=\u001b[39m ae(x)\n\u001b[0;32m     22\u001b[0m     loss \u001b[38;5;241m=\u001b[39m torch\u001b[38;5;241m.\u001b[39mnn\u001b[38;5;241m.\u001b[39mfunctional\u001b[38;5;241m.\u001b[39mmse_loss(y, x)\n\u001b[0;32m     24\u001b[0m     optimizer\u001b[38;5;241m.\u001b[39mzero_grad()\n",
      "File \u001b[1;32mc:\\Users\\Harris_Lab\\miniconda3\\envs\\splice\\Lib\\site-packages\\torch\\nn\\modules\\module.py:1501\u001b[0m, in \u001b[0;36mModule._call_impl\u001b[1;34m(self, *args, **kwargs)\u001b[0m\n\u001b[0;32m   1496\u001b[0m \u001b[38;5;66;03m# If we don't have any hooks, we want to skip the rest of the logic in\u001b[39;00m\n\u001b[0;32m   1497\u001b[0m \u001b[38;5;66;03m# this function, and just call forward.\u001b[39;00m\n\u001b[0;32m   1498\u001b[0m \u001b[38;5;28;01mif\u001b[39;00m \u001b[38;5;129;01mnot\u001b[39;00m (\u001b[38;5;28mself\u001b[39m\u001b[38;5;241m.\u001b[39m_backward_hooks \u001b[38;5;129;01mor\u001b[39;00m \u001b[38;5;28mself\u001b[39m\u001b[38;5;241m.\u001b[39m_backward_pre_hooks \u001b[38;5;129;01mor\u001b[39;00m \u001b[38;5;28mself\u001b[39m\u001b[38;5;241m.\u001b[39m_forward_hooks \u001b[38;5;129;01mor\u001b[39;00m \u001b[38;5;28mself\u001b[39m\u001b[38;5;241m.\u001b[39m_forward_pre_hooks\n\u001b[0;32m   1499\u001b[0m         \u001b[38;5;129;01mor\u001b[39;00m _global_backward_pre_hooks \u001b[38;5;129;01mor\u001b[39;00m _global_backward_hooks\n\u001b[0;32m   1500\u001b[0m         \u001b[38;5;129;01mor\u001b[39;00m _global_forward_hooks \u001b[38;5;129;01mor\u001b[39;00m _global_forward_pre_hooks):\n\u001b[1;32m-> 1501\u001b[0m     \u001b[38;5;28;01mreturn\u001b[39;00m forward_call(\u001b[38;5;241m*\u001b[39margs, \u001b[38;5;241m*\u001b[39m\u001b[38;5;241m*\u001b[39mkwargs)\n\u001b[0;32m   1502\u001b[0m \u001b[38;5;66;03m# Do not call functions when jit is used\u001b[39;00m\n\u001b[0;32m   1503\u001b[0m full_backward_hooks, non_full_backward_hooks \u001b[38;5;241m=\u001b[39m [], []\n",
      "Cell \u001b[1;32mIn[13], line 8\u001b[0m, in \u001b[0;36mautoencoder.forward\u001b[1;34m(self, x)\u001b[0m\n\u001b[0;32m      7\u001b[0m \u001b[38;5;28;01mdef\u001b[39;00m \u001b[38;5;21mforward\u001b[39m(\u001b[38;5;28mself\u001b[39m, x):\n\u001b[1;32m----> 8\u001b[0m     x \u001b[38;5;241m=\u001b[39m \u001b[38;5;28mself\u001b[39m\u001b[38;5;241m.\u001b[39mencoder(x)\n\u001b[0;32m      9\u001b[0m     x \u001b[38;5;241m=\u001b[39m \u001b[38;5;28mself\u001b[39m\u001b[38;5;241m.\u001b[39mdecoder(x)\n\u001b[0;32m     10\u001b[0m     \u001b[38;5;28;01mreturn\u001b[39;00m x\n",
      "File \u001b[1;32mc:\\Users\\Harris_Lab\\miniconda3\\envs\\splice\\Lib\\site-packages\\torch\\nn\\modules\\module.py:1501\u001b[0m, in \u001b[0;36mModule._call_impl\u001b[1;34m(self, *args, **kwargs)\u001b[0m\n\u001b[0;32m   1496\u001b[0m \u001b[38;5;66;03m# If we don't have any hooks, we want to skip the rest of the logic in\u001b[39;00m\n\u001b[0;32m   1497\u001b[0m \u001b[38;5;66;03m# this function, and just call forward.\u001b[39;00m\n\u001b[0;32m   1498\u001b[0m \u001b[38;5;28;01mif\u001b[39;00m \u001b[38;5;129;01mnot\u001b[39;00m (\u001b[38;5;28mself\u001b[39m\u001b[38;5;241m.\u001b[39m_backward_hooks \u001b[38;5;129;01mor\u001b[39;00m \u001b[38;5;28mself\u001b[39m\u001b[38;5;241m.\u001b[39m_backward_pre_hooks \u001b[38;5;129;01mor\u001b[39;00m \u001b[38;5;28mself\u001b[39m\u001b[38;5;241m.\u001b[39m_forward_hooks \u001b[38;5;129;01mor\u001b[39;00m \u001b[38;5;28mself\u001b[39m\u001b[38;5;241m.\u001b[39m_forward_pre_hooks\n\u001b[0;32m   1499\u001b[0m         \u001b[38;5;129;01mor\u001b[39;00m _global_backward_pre_hooks \u001b[38;5;129;01mor\u001b[39;00m _global_backward_hooks\n\u001b[0;32m   1500\u001b[0m         \u001b[38;5;129;01mor\u001b[39;00m _global_forward_hooks \u001b[38;5;129;01mor\u001b[39;00m _global_forward_pre_hooks):\n\u001b[1;32m-> 1501\u001b[0m     \u001b[38;5;28;01mreturn\u001b[39;00m forward_call(\u001b[38;5;241m*\u001b[39margs, \u001b[38;5;241m*\u001b[39m\u001b[38;5;241m*\u001b[39mkwargs)\n\u001b[0;32m   1502\u001b[0m \u001b[38;5;66;03m# Do not call functions when jit is used\u001b[39;00m\n\u001b[0;32m   1503\u001b[0m full_backward_hooks, non_full_backward_hooks \u001b[38;5;241m=\u001b[39m [], []\n",
      "File \u001b[1;32mc:\\users\\harris_lab\\projects\\splice\\splice\\base.py:74\u001b[0m, in \u001b[0;36mencoder.forward\u001b[1;34m(self, x)\u001b[0m\n\u001b[0;32m     64\u001b[0m \u001b[38;5;250m\u001b[39m\u001b[38;5;124;03m\"\"\"\u001b[39;00m\n\u001b[0;32m     65\u001b[0m \u001b[38;5;124;03mForward pass through the encoder network.\u001b[39;00m\n\u001b[0;32m     66\u001b[0m \n\u001b[1;32m   (...)\u001b[0m\n\u001b[0;32m     71\u001b[0m \u001b[38;5;124;03m    Tensor: Output tensor.\u001b[39;00m\n\u001b[0;32m     72\u001b[0m \u001b[38;5;124;03m\"\"\"\u001b[39;00m\n\u001b[0;32m     73\u001b[0m \u001b[38;5;28;01mfor\u001b[39;00m layer \u001b[38;5;129;01min\u001b[39;00m \u001b[38;5;28mself\u001b[39m\u001b[38;5;241m.\u001b[39mlayers:\n\u001b[1;32m---> 74\u001b[0m     x \u001b[38;5;241m=\u001b[39m carlosPlus(layer(x))\n\u001b[0;32m     75\u001b[0m \u001b[38;5;28;01mreturn\u001b[39;00m x\n",
      "File \u001b[1;32mc:\\users\\harris_lab\\projects\\splice\\splice\\base.py:27\u001b[0m, in \u001b[0;36mcarlosPlus\u001b[1;34m(x)\u001b[0m\n\u001b[0;32m     17\u001b[0m \u001b[38;5;28;01mdef\u001b[39;00m \u001b[38;5;21mcarlosPlus\u001b[39m(x):\n\u001b[0;32m     18\u001b[0m \u001b[38;5;250m    \u001b[39m\u001b[38;5;124;03m\"\"\"\u001b[39;00m\n\u001b[0;32m     19\u001b[0m \u001b[38;5;124;03m    Variant of the softplus activation function.\u001b[39;00m\n\u001b[0;32m     20\u001b[0m \n\u001b[1;32m   (...)\u001b[0m\n\u001b[0;32m     25\u001b[0m \u001b[38;5;124;03m        Tensor: Output tensor.\u001b[39;00m\n\u001b[0;32m     26\u001b[0m \u001b[38;5;124;03m    \"\"\"\u001b[39;00m\n\u001b[1;32m---> 27\u001b[0m     \u001b[38;5;28;01mreturn\u001b[39;00m \u001b[38;5;241m2\u001b[39m \u001b[38;5;241m*\u001b[39m (F\u001b[38;5;241m.\u001b[39msoftplus(x) \u001b[38;5;241m-\u001b[39m np\u001b[38;5;241m.\u001b[39mlog(\u001b[38;5;241m2\u001b[39m))\n",
      "\u001b[1;31mKeyboardInterrupt\u001b[0m: "
     ]
    }
   ],
   "source": [
    "dims = np.array([1,2,3,4,5,7,10,15, 20, 30 , 50])\n",
    "ae_loss = np.ones(len(dims)) * 100\n",
    "\n",
    "lr = 1e-3\n",
    "batch_size = x_train.shape[0]\n",
    "epochs = 10000\n",
    "\n",
    "for j,dim in enumerate(dims):\n",
    "    print(f\"------------ DIM = {dim} -------------\")\n",
    "    ae = autoencoder(x_test.shape[1], dim, [200,200,200,200]).to(device)\n",
    "    ae.train()\n",
    "    optimizer = torch.optim.Adam(ae.parameters(), lr=lr)\n",
    "    scheduler = LinearLR(\n",
    "        optimizer, total_iters=epochs, start_factor=1, end_factor=1/50\n",
    "    )\n",
    "\n",
    "    for epoch in range(epochs):\n",
    "        print(epoch, end=\"\\r\")\n",
    "        for i in range(int(len(x_train)/batch_size)):\n",
    "            x = x_train[i*batch_size:(i+1)*batch_size]\n",
    "            y = ae(x)\n",
    "            loss = torch.nn.functional.mse_loss(y, x)\n",
    "\n",
    "            optimizer.zero_grad()\n",
    "            loss.backward()\n",
    "            optimizer.step()\n",
    "        \n",
    "        scheduler.step()\n",
    "            \n",
    "        if epoch % 500 == 0:\n",
    "            test_loss = F.mse_loss(ae(torch.Tensor(x_test)), torch.Tensor(x_test))\n",
    "            print(f\"epoch {epoch}, train loss: {loss.item():.5f}, test loss: {test_loss.item():.5f}\")\n",
    "\n",
    "            if test_loss < ae_loss[j]:\n",
    "                ae_loss[j] = test_loss.item()"
   ]
  },
  {
   "cell_type": "code",
   "execution_count": null,
   "metadata": {},
   "outputs": [],
   "source": []
  }
 ],
 "metadata": {
  "kernelspec": {
   "display_name": "splice",
   "language": "python",
   "name": "python3"
  },
  "language_info": {
   "codemirror_mode": {
    "name": "ipython",
    "version": 3
   },
   "file_extension": ".py",
   "mimetype": "text/x-python",
   "name": "python",
   "nbconvert_exporter": "python",
   "pygments_lexer": "ipython3",
   "version": "3.11.4"
  }
 },
 "nbformat": 4,
 "nbformat_minor": 2
}
