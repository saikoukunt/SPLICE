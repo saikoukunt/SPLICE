{
 "cells": [
  {
   "cell_type": "code",
   "execution_count": 1,
   "metadata": {},
   "outputs": [],
   "source": [
    "import os\n",
    "import pickle\n",
    "\n",
    "import matplotlib.pyplot as plt\n",
    "import numpy\n",
    "import scipy.io as sio\n",
    "import torch\n",
    "import torch.nn.functional as F\n",
    "from sklearn.datasets import fetch_openml\n",
    "from sklearn.decomposition import PCA\n",
    "from sklearn.model_selection import train_test_split\n",
    "from torch.optim.lr_scheduler import LinearLR\n",
    "\n",
    "from splice import splice_model\n",
    "from splice.base import *\n",
    "from splice.loadCellsFile import *\n",
    "from splice.utilities import *\n",
    "\n",
    "device = torch.device(\"cuda\" if torch.cuda.is_available() else \"cpu\")"
   ]
  },
  {
   "cell_type": "markdown",
   "metadata": {},
   "source": [
    "## Preprocessing\n",
    "The preprocessing code below is adapted from Carlos' notebook, with minor changes to variable names, using numpy instead of pandas, and slight optimizations"
   ]
  },
  {
   "cell_type": "markdown",
   "metadata": {},
   "source": [
    "### Load the data"
   ]
  },
  {
   "cell_type": "code",
   "execution_count": 2,
   "metadata": {},
   "outputs": [
    {
     "name": "stdout",
     "output_type": "stream",
     "text": [
      "No region found for cell 190, entering 'None'\n",
      "No region found for cell 191, entering 'None'\n",
      "No region found for cell 192, entering 'None'\n",
      "No region found for cell 193, entering 'None'\n",
      "No region found for cell 194, entering 'None'\n",
      "No region found for cell 195, entering 'None'\n",
      "No region found for cell 196, entering 'None'\n",
      "No region found for cell 197, entering 'None'\n",
      "No region found for cell 198, entering 'None'\n",
      "No region found for cell 199, entering 'None'\n",
      "No region found for cell 200, entering 'None'\n",
      "No region found for cell 201, entering 'None'\n",
      "No region found for cell 202, entering 'None'\n",
      "No region found for cell 203, entering 'None'\n",
      "No region found for cell 547, entering 'None'\n",
      "No region found for cell 2202, entering 'None'\n",
      "No region found for cell 2203, entering 'None'\n",
      "No region found for cell 2204, entering 'None'\n",
      "We have 714 non-violation, valid trials\n"
     ]
    }
   ],
   "source": [
    "ratname = \"A324\"\n",
    "sessdate = \"2023_07_21\"\n",
    "\n",
    "session_info = mat2pyCellFileCleanup(\"../data/uberphys/%s_%s.mat\" % (ratname, sessdate))\n",
    "session_data = scipy.io.loadmat(\"../data/uberphys/%s_%s.mat\" % (ratname, sessdate)) \n",
    "\n",
    "included_trials = np.argwhere((session_info[\"Trials\"]['violated'] == 0) & ((~np.isnan(session_info[\"Trials\"][\"pokedR\"])))).squeeze()\n",
    "n_trials = included_trials.shape[0]\n",
    "cpoke_in = session_info[\"Trials\"][\"stateTimes\"][\"cpoke_in\"][included_trials]\n",
    "cpoke_out = session_info[\"Trials\"][\"stateTimes\"][\"cpoke_out\"][included_trials]\n",
    "\n",
    "included_cells = np.argwhere(session_data['standard_inclusion_criteria'].squeeze()).squeeze()\n",
    "brain_region = np.array(session_info['region'])[included_cells]\n",
    "\n",
    "print(f\"We have {n_trials} non-violation, valid trials\")"
   ]
  },
  {
   "cell_type": "markdown",
   "metadata": {},
   "source": [
    "### Bin and smooth firing rates\n",
    "Here we bin spikes into 10 ms bins; then smooth with a 60ms sd Gaussian; then subsample down by 3.\n",
    "\n",
    "We end up with **time_in_session**, a time in session vector, and **smoothed_rates**, an nCells x nTimebins matrix of smoothed firing rates (no trial structure yet)"
   ]
  },
  {
   "cell_type": "code",
   "execution_count": 3,
   "metadata": {},
   "outputs": [
    {
     "name": "stdout",
     "output_type": "stream",
     "text": [
      "We have 2621 cells total\n"
     ]
    }
   ],
   "source": [
    "spike_times= session_data['raw_spike_time_s'].squeeze()[included_cells]\n",
    "n_cells = spike_times.shape[0]\n",
    "print(f\"We have {n_cells} cells total\")"
   ]
  },
  {
   "cell_type": "code",
   "execution_count": 4,
   "metadata": {},
   "outputs": [
    {
     "name": "stdout",
     "output_type": "stream",
     "text": [
      "Min time: 1658.66378, Max time: 14362.02429\n"
     ]
    }
   ],
   "source": [
    "min_time = np.inf\n",
    "max_time = -np.inf\n",
    "\n",
    "for cell in spike_times:\n",
    "    if len(cell) > 0:\n",
    "        min_time = min(min_time, cell[0])\n",
    "        max_time = max(max_time, cell[-1])\n",
    "\n",
    "min_time = min_time[0] # type: ignore\n",
    "max_time = max_time[0] # type: ignore\n",
    "print(f\"Min time: {min_time}, Max time: {max_time}\")\n",
    "    "
   ]
  },
  {
   "cell_type": "code",
   "execution_count": 5,
   "metadata": {},
   "outputs": [
    {
     "name": "stdout",
     "output_type": "stream",
     "text": [
      "Loaded smoothed rates from file\n"
     ]
    }
   ],
   "source": [
    "dt = 0.01\n",
    "bin_times = np.arange(np.floor(min_time), np.ceil(max_time), dt)\n",
    "smooth_sigma = 0.06 # in seconds\n",
    "subsample_factor = 3\n",
    "\n",
    "filepath = f\"../data/uberphys/%s_%s_%.3f_smoothed_rates.npz\" % (ratname, sessdate, smooth_sigma)\n",
    "\n",
    "if(os.path.exists(filepath)):\n",
    "    data = np.load(filepath)\n",
    "    smoothed_rates = data['smoothed_rates']\n",
    "    time_in_session = data['time_in_session']\n",
    "    print(\"Loaded smoothed rates from file\")\n",
    "else:\n",
    "    time_in_session = bin_times[0:-1:subsample_factor]\n",
    "    smoothed_rates = np.zeros((n_cells, len(time_in_session)))\n",
    "\n",
    "    for cell in range(n_cells):\n",
    "        if smooth_sigma == 0:\n",
    "            smoothed_rates[cell] = binEvents(spike_times[cell], bin_times, dt)[0:-1:subsample_factor]/dt\n",
    "        else:\n",
    "            smoothed_rates[cell] = smoothIt(binEvents(spike_times[cell], bin_times, dt), smooth_sigma/dt)[0:-1:subsample_factor]/dt\n",
    "        \n",
    "        print(f\"Done with {cell+1}/{n_cells} cells\", end=\"\\r\")\n",
    "    \n",
    "    np.savez_compressed(filepath, smoothed_rates=smoothed_rates, time_in_session=time_in_session)"
   ]
  },
  {
   "cell_type": "markdown",
   "metadata": {},
   "source": [
    "### Put times into trials"
   ]
  },
  {
   "cell_type": "markdown",
   "metadata": {},
   "source": [
    "We'll make a tensor **trial_rates**, nTrials x nCells x nTimebins, where nTimebins now just runs over `cpoke_in` to `cpoke_out`.\n",
    "\n",
    "Note that different trials are different lengths.  We're timelocked to `cpoke_in`, but some will have `np.nan`s in their last timebins"
   ]
  },
  {
   "cell_type": "code",
   "execution_count": 6,
   "metadata": {},
   "outputs": [],
   "source": [
    "trial_length = 0.5\n",
    "\n",
    "trial_rates = np.zeros((n_trials, n_cells, int(np.ceil(trial_length/(dt*subsample_factor)))))\n",
    "trial_times = list(np.arange(trial_rates.shape[-1])*(dt*subsample_factor))\n",
    "\n",
    "for trial in range(n_trials):\n",
    "    start = cpoke_in[trial]\n",
    "    end = cpoke_out[trial]\n",
    "\n",
    "    rates = smoothed_rates[:, (time_in_session >= start) & (time_in_session < end)]\n",
    "\n",
    "    if rates.shape[1] > trial_rates.shape[-1]:\n",
    "        add_length = rates.shape[1] - trial_rates.shape[-1]\n",
    "        trial_rates = np.concatenate((trial_rates, np.nan * np.zeros((n_trials, n_cells, add_length))), axis=-1)\n",
    "\n",
    "        new_times = list(trial_times[-1] + np.arange(1, (add_length+1))*(dt*subsample_factor))\n",
    "\n",
    "        if new_times:\n",
    "            trial_times.extend(new_times)\n",
    "    \n",
    "    trial_rates[trial, :, :rates.shape[1]] = rates\n",
    "\n",
    "trial_times = np.array(trial_times)"
   ]
  },
  {
   "cell_type": "markdown",
   "metadata": {},
   "source": [
    "## Autoencoder vs PCA"
   ]
  },
  {
   "cell_type": "markdown",
   "metadata": {},
   "source": [
    "### Pick out cells from a brain region (Cg1)"
   ]
  },
  {
   "cell_type": "code",
   "execution_count": 7,
   "metadata": {},
   "outputs": [
    {
     "data": {
      "text/plain": [
       "array(['ADS', 'CC', 'Cg1', 'DGd', 'DGv', 'DS', 'GP', 'M1', 'M2', 'MGB',\n",
       "       'NAc', 'None', 'PrL', 'S1', 'SBN', 'TS'], dtype='<U4')"
      ]
     },
     "execution_count": 7,
     "metadata": {},
     "output_type": "execute_result"
    }
   ],
   "source": [
    "np.unique(brain_region)"
   ]
  },
  {
   "cell_type": "code",
   "execution_count": 90,
   "metadata": {},
   "outputs": [
    {
     "name": "stdout",
     "output_type": "stream",
     "text": [
      "We have 305 cells in Cg1\n"
     ]
    }
   ],
   "source": [
    "selected_region = \"Cg1\"\n",
    "selected_cells = np.argwhere(brain_region == selected_region).squeeze()\n",
    "\n",
    "selected_spike_times = spike_times[selected_cells]\n",
    "selected_smoothed_rates = smoothed_rates[selected_cells]\n",
    "n_cells_selected = selected_spike_times.shape[0]\n",
    "print(f\"We have {selected_spike_times.shape[0]} cells in {selected_region}\")"
   ]
  },
  {
   "cell_type": "code",
   "execution_count": 91,
   "metadata": {},
   "outputs": [
    {
     "data": {
      "text/plain": [
       "(34043, 73)"
      ]
     },
     "execution_count": 91,
     "metadata": {},
     "output_type": "execute_result"
    }
   ],
   "source": [
    "train_data.shape"
   ]
  },
  {
   "cell_type": "code",
   "execution_count": 100,
   "metadata": {},
   "outputs": [],
   "source": [
    "train_data, test_data = train_test_split(trial_rates[:, selected_cells, :], test_size=0.15)\n",
    "\n",
    "train_data = train_data.transpose(0, 2, 1).reshape(-1, n_cells_selected)\n",
    "train_data = train_data[~np.isnan(train_data).any(axis=1)]\n",
    "\n",
    "test_data = test_data.transpose(0, 2, 1).reshape(-1, n_cells_selected)\n",
    "test_data = test_data[~np.isnan(test_data).any(axis=1)]"
   ]
  },
  {
   "cell_type": "markdown",
   "metadata": {},
   "source": [
    "### Do PCA"
   ]
  },
  {
   "cell_type": "code",
   "execution_count": 101,
   "metadata": {},
   "outputs": [
    {
     "data": {
      "text/html": [
       "<style>#sk-container-id-6 {color: black;background-color: white;}#sk-container-id-6 pre{padding: 0;}#sk-container-id-6 div.sk-toggleable {background-color: white;}#sk-container-id-6 label.sk-toggleable__label {cursor: pointer;display: block;width: 100%;margin-bottom: 0;padding: 0.3em;box-sizing: border-box;text-align: center;}#sk-container-id-6 label.sk-toggleable__label-arrow:before {content: \"▸\";float: left;margin-right: 0.25em;color: #696969;}#sk-container-id-6 label.sk-toggleable__label-arrow:hover:before {color: black;}#sk-container-id-6 div.sk-estimator:hover label.sk-toggleable__label-arrow:before {color: black;}#sk-container-id-6 div.sk-toggleable__content {max-height: 0;max-width: 0;overflow: hidden;text-align: left;background-color: #f0f8ff;}#sk-container-id-6 div.sk-toggleable__content pre {margin: 0.2em;color: black;border-radius: 0.25em;background-color: #f0f8ff;}#sk-container-id-6 input.sk-toggleable__control:checked~div.sk-toggleable__content {max-height: 200px;max-width: 100%;overflow: auto;}#sk-container-id-6 input.sk-toggleable__control:checked~label.sk-toggleable__label-arrow:before {content: \"▾\";}#sk-container-id-6 div.sk-estimator input.sk-toggleable__control:checked~label.sk-toggleable__label {background-color: #d4ebff;}#sk-container-id-6 div.sk-label input.sk-toggleable__control:checked~label.sk-toggleable__label {background-color: #d4ebff;}#sk-container-id-6 input.sk-hidden--visually {border: 0;clip: rect(1px 1px 1px 1px);clip: rect(1px, 1px, 1px, 1px);height: 1px;margin: -1px;overflow: hidden;padding: 0;position: absolute;width: 1px;}#sk-container-id-6 div.sk-estimator {font-family: monospace;background-color: #f0f8ff;border: 1px dotted black;border-radius: 0.25em;box-sizing: border-box;margin-bottom: 0.5em;}#sk-container-id-6 div.sk-estimator:hover {background-color: #d4ebff;}#sk-container-id-6 div.sk-parallel-item::after {content: \"\";width: 100%;border-bottom: 1px solid gray;flex-grow: 1;}#sk-container-id-6 div.sk-label:hover label.sk-toggleable__label {background-color: #d4ebff;}#sk-container-id-6 div.sk-serial::before {content: \"\";position: absolute;border-left: 1px solid gray;box-sizing: border-box;top: 0;bottom: 0;left: 50%;z-index: 0;}#sk-container-id-6 div.sk-serial {display: flex;flex-direction: column;align-items: center;background-color: white;padding-right: 0.2em;padding-left: 0.2em;position: relative;}#sk-container-id-6 div.sk-item {position: relative;z-index: 1;}#sk-container-id-6 div.sk-parallel {display: flex;align-items: stretch;justify-content: center;background-color: white;position: relative;}#sk-container-id-6 div.sk-item::before, #sk-container-id-6 div.sk-parallel-item::before {content: \"\";position: absolute;border-left: 1px solid gray;box-sizing: border-box;top: 0;bottom: 0;left: 50%;z-index: -1;}#sk-container-id-6 div.sk-parallel-item {display: flex;flex-direction: column;z-index: 1;position: relative;background-color: white;}#sk-container-id-6 div.sk-parallel-item:first-child::after {align-self: flex-end;width: 50%;}#sk-container-id-6 div.sk-parallel-item:last-child::after {align-self: flex-start;width: 50%;}#sk-container-id-6 div.sk-parallel-item:only-child::after {width: 0;}#sk-container-id-6 div.sk-dashed-wrapped {border: 1px dashed gray;margin: 0 0.4em 0.5em 0.4em;box-sizing: border-box;padding-bottom: 0.4em;background-color: white;}#sk-container-id-6 div.sk-label label {font-family: monospace;font-weight: bold;display: inline-block;line-height: 1.2em;}#sk-container-id-6 div.sk-label-container {text-align: center;}#sk-container-id-6 div.sk-container {/* jupyter's `normalize.less` sets `[hidden] { display: none; }` but bootstrap.min.css set `[hidden] { display: none !important; }` so we also need the `!important` here to be able to override the default hidden behavior on the sphinx rendered scikit-learn.org. See: https://github.com/scikit-learn/scikit-learn/issues/21755 */display: inline-block !important;position: relative;}#sk-container-id-6 div.sk-text-repr-fallback {display: none;}</style><div id=\"sk-container-id-6\" class=\"sk-top-container\"><div class=\"sk-text-repr-fallback\"><pre>PCA(n_components=305)</pre><b>In a Jupyter environment, please rerun this cell to show the HTML representation or trust the notebook. <br />On GitHub, the HTML representation is unable to render, please try loading this page with nbviewer.org.</b></div><div class=\"sk-container\" hidden><div class=\"sk-item\"><div class=\"sk-estimator sk-toggleable\"><input class=\"sk-toggleable__control sk-hidden--visually\" id=\"sk-estimator-id-6\" type=\"checkbox\" checked><label for=\"sk-estimator-id-6\" class=\"sk-toggleable__label sk-toggleable__label-arrow\">PCA</label><div class=\"sk-toggleable__content\"><pre>PCA(n_components=305)</pre></div></div></div></div></div>"
      ],
      "text/plain": [
       "PCA(n_components=305)"
      ]
     },
     "execution_count": 101,
     "metadata": {},
     "output_type": "execute_result"
    }
   ],
   "source": [
    "pca = PCA(n_components=n_cells_selected)\n",
    "pca.fit(train_data)"
   ]
  },
  {
   "cell_type": "code",
   "execution_count": 102,
   "metadata": {},
   "outputs": [
    {
     "name": "stdout",
     "output_type": "stream",
     "text": [
      "Variance explained by mean: 0.4813761914665947\n"
     ]
    }
   ],
   "source": [
    "s1 = np.var(test_data - train_data.mean(axis=0))\n",
    "s2 = np.var(test_data)\n",
    "test_var_explained = 1 - s1/s2\n",
    "print(f\"Variance explained by mean: {test_var_explained}\")"
   ]
  },
  {
   "cell_type": "code",
   "execution_count": 103,
   "metadata": {},
   "outputs": [
    {
     "data": {
      "text/plain": [
       "Text(0, 0.5, 'Cumulative Variance Explained')"
      ]
     },
     "execution_count": 103,
     "metadata": {},
     "output_type": "execute_result"
    },
    {
     "data": {
      "image/png": "[encoded data removed]",
      "text/plain": [
       "<Figure size 640x480 with 1 Axes>"
      ]
     },
     "metadata": {},
     "output_type": "display_data"
    }
   ],
   "source": [
    "plt.plot(np.cumsum(pca.explained_variance_ratio_)[:50], marker='o'); \n",
    "plt.xlabel(\"Number of PCs\"); plt.ylabel(\"Cumulative Variance Explained\")"
   ]
  },
  {
   "cell_type": "code",
   "execution_count": 104,
   "metadata": {},
   "outputs": [
    {
     "name": "stdout",
     "output_type": "stream",
     "text": [
      "With 2 PCs, we can explain 0.1190 of the training variance and 0.1181 of the test variance. The MSE is 22.8693\n",
      "With 3 PCs, we can explain 0.1639 of the training variance and 0.1575 of the test variance. The MSE is 21.8492\n",
      "With 5 PCs, we can explain 0.2283 of the training variance and 0.2177 of the test variance. The MSE is 20.2880\n",
      "With 10 PCs, we can explain 0.3349 of the training variance and 0.3252 of the test variance. The MSE is 17.4995\n",
      "With 20 PCs, we can explain 0.4550 of the training variance and 0.4436 of the test variance. The MSE is 14.4298\n",
      "With 50 PCs, we can explain 0.6297 of the training variance and 0.6124 of the test variance. The MSE is 10.0522\n"
     ]
    }
   ],
   "source": [
    "explained_variance = np.cumsum(pca.explained_variance_ratio_)\n",
    "\n",
    "for dim in [2,3,5,10,20, 50]:\n",
    "    test_pcs = pca.transform(test_data)\n",
    "    test_pcs[:, dim:] = 0\n",
    "    test_proj = pca.inverse_transform(test_pcs)\n",
    "\n",
    "    s1 = np.var(test_data-test_proj)\n",
    "    s2 = np.var(test_data - test_data.mean(axis=0))\n",
    "    test_var_explained = 1 - s1/s2\n",
    "\n",
    "    print(f\"With {dim} PCs, we can explain {explained_variance[dim-1]:.4f} of the training variance and {test_var_explained:.4f} of the test variance. The MSE is {F.mse_loss(torch.Tensor(test_proj),torch.Tensor(test_data)):.4f}\")"
   ]
  },
  {
   "cell_type": "markdown",
   "metadata": {},
   "source": [
    "### Do Autoencoder"
   ]
  },
  {
   "cell_type": "code",
   "execution_count": 105,
   "metadata": {},
   "outputs": [],
   "source": [
    "class Encoder(nn.Module):\n",
    "    def __init__(self, nInputCells, nHiddensVector, bottleneckDim,\n",
    "                 nonlinearity = nn.ReLU()):\n",
    "        super(Encoder, self).__init__()\n",
    "\n",
    "        self.nHiddensVector = nHiddensVector\n",
    "        self.nLayers        = len(nHiddensVector)\n",
    "        self.bottleneckDim  = bottleneckDim\n",
    "        self.encoderLayers  = nn.ModuleList()\n",
    "        self.nInputCells    = nInputCells\n",
    "\n",
    "        for i in range(self.nLayers):\n",
    "            if i == 0:\n",
    "                self.encoderLayers.append(nn.Linear(self.nInputCells, nHiddensVector[i]))\n",
    "            else:\n",
    "                self.encoderLayers.append(nn.Linear(nHiddensVector[i-1], nHiddensVector[i]))\n",
    "            self.encoderLayers.append(nonlinearity)\n",
    "\n",
    "        self.encoderLayers.append(nn.Linear(nHiddensVector[-1], bottleneckDim))\n",
    "\n",
    "    def forward(self, x):\n",
    "        for layer in self.encoderLayers:\n",
    "            x = layer(x)\n",
    "        return x\n",
    "    \n",
    "class Decoder(nn.Module):\n",
    "    def __init__(self, bottleneckDim, nHiddensVector, nOutputCells,\n",
    "                 nonlinearity = nn.ReLU()):\n",
    "        super(Decoder, self).__init__()\n",
    "\n",
    "        self.nHiddensVector = nHiddensVector\n",
    "        self.nLayers        = len(nHiddensVector)\n",
    "        self.bottleneckDim  = bottleneckDim\n",
    "        self.decoderLayers  = nn.ModuleList()\n",
    "        self.nOutputCells   = nOutputCells\n",
    "\n",
    "        for i in range(self.nLayers):\n",
    "            if i == 0:\n",
    "                self.decoderLayers.append(nn.Linear(bottleneckDim, nHiddensVector[i]))\n",
    "            else:\n",
    "                self.decoderLayers.append(nn.Linear(nHiddensVector[i-1], nHiddensVector[i]))\n",
    "            self.decoderLayers.append(nonlinearity)\n",
    "\n",
    "        self.decoderLayers.append(nn.Linear(nHiddensVector[-1], nOutputCells))\n",
    "\n",
    "    def forward(self, x):\n",
    "        for layer in self.decoderLayers:\n",
    "            x = layer(x)\n",
    "        return x\n",
    "    \n",
    "class Autoencoder(nn.Module):\n",
    "    def __init__(self, nInputCells, nHiddensVector, bottleneckDim,\n",
    "                 nonlinearity = nn.ReLU()):\n",
    "        super(Autoencoder, self).__init__()\n",
    "\n",
    "        self.encoder = Encoder(nInputCells, nHiddensVector, bottleneckDim, nonlinearity)\n",
    "        self.decoder = Decoder(bottleneckDim, nHiddensVector[::-1], nInputCells, nonlinearity)\n",
    "\n",
    "    def forward(self, x):\n",
    "        x = self.encoder(x)\n",
    "        x = self.decoder(x)\n",
    "        return x\n",
    "    \n",
    "def trainAutoencoderWithValidation(model, data, nEpochs, learningRate, \n",
    "                                   lossFunction, optimizer, validationData,\n",
    "                                   printEvery=100, verbose=True):\n",
    "\n",
    "    for epoch in range(nEpochs):\n",
    "        print(epoch, end=\"\\r\")\n",
    "        optimizer.zero_grad()\n",
    "        output = model(data)\n",
    "        loss = lossFunction(output, data)\n",
    "        loss.backward()\n",
    "        optimizer.step()\n",
    "        \n",
    "        if verbose:\n",
    "            if epoch % printEvery == 0:\n",
    "                output = model(validationData)\n",
    "                validationLoss = lossFunction(output, validationData)\n",
    "                print(\"Epoch %d, Loss: %f, Validation loss: %f\" % (epoch, loss.item(), validationLoss.item()))            \n",
    "    return model"
   ]
  },
  {
   "cell_type": "code",
   "execution_count": 110,
   "metadata": {},
   "outputs": [
    {
     "name": "stdout",
     "output_type": "stream",
     "text": [
      "Epoch 0, Loss: 68.081879, Validation loss: 68.555275\n",
      "Epoch 100, Loss: 25.700527, Validation loss: 25.707458\n",
      "Epoch 200, Loss: 25.651608, Validation loss: 25.654547\n",
      "Epoch 300, Loss: 25.642099, Validation loss: 25.643810\n",
      "Epoch 400, Loss: 25.566570, Validation loss: 25.551111\n",
      "Epoch 500, Loss: 22.528486, Validation loss: 22.450006\n",
      "Epoch 600, Loss: 20.428097, Validation loss: 20.676823\n",
      "Epoch 700, Loss: 19.098831, Validation loss: 19.331100\n",
      "Epoch 800, Loss: 18.624695, Validation loss: 18.955120\n",
      "Epoch 900, Loss: 18.378736, Validation loss: 18.707161\n",
      "Epoch 1000, Loss: 17.990992, Validation loss: 18.378487\n",
      "Epoch 1100, Loss: 17.687544, Validation loss: 18.091293\n",
      "Epoch 1200, Loss: 17.328756, Validation loss: 17.783316\n",
      "Epoch 1300, Loss: 17.316446, Validation loss: 17.693060\n",
      "Epoch 1400, Loss: 16.892323, Validation loss: 17.484331\n",
      "Epoch 1500, Loss: 16.413065, Validation loss: 16.885447\n",
      "Epoch 1600, Loss: 16.278246, Validation loss: 16.771645\n",
      "Epoch 1700, Loss: 16.199982, Validation loss: 16.688881\n",
      "Epoch 1800, Loss: 16.060524, Validation loss: 16.553038\n",
      "Epoch 1900, Loss: 15.978550, Validation loss: 16.477192\n",
      "Epoch 2000, Loss: 15.908187, Validation loss: 16.418377\n",
      "Epoch 2100, Loss: 15.883146, Validation loss: 16.411898\n",
      "Epoch 2200, Loss: 15.787065, Validation loss: 16.312885\n",
      "Epoch 2300, Loss: 15.766480, Validation loss: 16.298538\n",
      "Epoch 2400, Loss: 15.698862, Validation loss: 16.244734\n",
      "Epoch 2500, Loss: 15.650306, Validation loss: 16.203255\n",
      "Epoch 2600, Loss: 15.617303, Validation loss: 16.197781\n",
      "Epoch 2700, Loss: 15.559871, Validation loss: 16.152065\n",
      "Epoch 2800, Loss: 15.562873, Validation loss: 16.163433\n",
      "Epoch 2900, Loss: 15.509080, Validation loss: 16.102098\n",
      "Epoch 3000, Loss: 15.502690, Validation loss: 16.115446\n",
      "Epoch 3100, Loss: 15.465541, Validation loss: 16.078911\n",
      "Epoch 3200, Loss: 15.446569, Validation loss: 16.071058\n",
      "Epoch 3300, Loss: 15.427652, Validation loss: 16.058720\n",
      "Epoch 3400, Loss: 15.421338, Validation loss: 16.059278\n",
      "Epoch 3500, Loss: 15.366459, Validation loss: 16.029942\n",
      "Epoch 3600, Loss: 15.360312, Validation loss: 16.024574\n",
      "Epoch 3700, Loss: 15.323928, Validation loss: 15.999264\n",
      "Epoch 3800, Loss: 15.360740, Validation loss: 16.056221\n",
      "Epoch 3900, Loss: 15.305334, Validation loss: 15.984529\n",
      "Epoch 4000, Loss: 15.284615, Validation loss: 15.971289\n",
      "Epoch 4100, Loss: 15.270287, Validation loss: 15.973122\n",
      "Epoch 4200, Loss: 15.260778, Validation loss: 15.974019\n",
      "Epoch 4300, Loss: 15.264400, Validation loss: 15.969053\n",
      "Epoch 4400, Loss: 15.243789, Validation loss: 15.953222\n",
      "Epoch 4500, Loss: 15.218638, Validation loss: 15.939892\n",
      "Epoch 4600, Loss: 15.257800, Validation loss: 15.975220\n",
      "Epoch 4700, Loss: 15.208712, Validation loss: 15.940220\n",
      "Epoch 4800, Loss: 15.195102, Validation loss: 15.935759\n",
      "Epoch 4900, Loss: 15.190323, Validation loss: 15.933158\n",
      "Epoch 5000, Loss: 15.170446, Validation loss: 15.925661\n",
      "Epoch 5100, Loss: 15.227509, Validation loss: 15.978345\n",
      "Epoch 5200, Loss: 15.173194, Validation loss: 15.918511\n",
      "Epoch 5300, Loss: 15.150312, Validation loss: 15.921546\n",
      "Epoch 5400, Loss: 15.149442, Validation loss: 15.918049\n",
      "Epoch 5500, Loss: 15.170084, Validation loss: 15.931621\n",
      "Epoch 5600, Loss: 15.156161, Validation loss: 15.933558\n",
      "Epoch 5700, Loss: 15.118025, Validation loss: 15.898435\n",
      "Epoch 5800, Loss: 15.120397, Validation loss: 15.909761\n",
      "Epoch 5900, Loss: 15.101405, Validation loss: 15.901755\n",
      "Epoch 6000, Loss: 15.104053, Validation loss: 15.917301\n",
      "Epoch 6100, Loss: 15.090982, Validation loss: 15.924604\n",
      "Epoch 6200, Loss: 15.061172, Validation loss: 15.894028\n",
      "Epoch 6300, Loss: 15.081666, Validation loss: 15.933904\n",
      "Epoch 6400, Loss: 15.050619, Validation loss: 15.888853\n",
      "Epoch 6500, Loss: 15.025553, Validation loss: 15.876434\n",
      "Epoch 6600, Loss: 15.024142, Validation loss: 15.888462\n",
      "Epoch 6700, Loss: 15.005920, Validation loss: 15.869161\n",
      "Epoch 6800, Loss: 15.018835, Validation loss: 15.895775\n",
      "Epoch 6900, Loss: 15.010532, Validation loss: 15.894439\n",
      "Epoch 7000, Loss: 14.985615, Validation loss: 15.869623\n",
      "Epoch 7100, Loss: 14.971686, Validation loss: 15.853939\n",
      "Epoch 7200, Loss: 14.980248, Validation loss: 15.851473\n",
      "Epoch 7300, Loss: 14.969820, Validation loss: 15.860359\n",
      "Epoch 7400, Loss: 14.945389, Validation loss: 15.844942\n",
      "Epoch 7500, Loss: 14.956296, Validation loss: 15.871269\n",
      "Epoch 7600, Loss: 14.933565, Validation loss: 15.836899\n",
      "Epoch 7700, Loss: 14.939891, Validation loss: 15.850877\n",
      "Epoch 7800, Loss: 14.951221, Validation loss: 15.871615\n",
      "Epoch 7900, Loss: 14.954004, Validation loss: 15.863842\n",
      "Epoch 8000, Loss: 14.911146, Validation loss: 15.831578\n",
      "Epoch 8100, Loss: 14.896203, Validation loss: 15.825978\n",
      "Epoch 8200, Loss: 14.944713, Validation loss: 15.901759\n",
      "Epoch 8300, Loss: 14.884111, Validation loss: 15.831900\n",
      "Epoch 8400, Loss: 14.868946, Validation loss: 15.814736\n",
      "Epoch 8500, Loss: 14.888441, Validation loss: 15.842809\n",
      "Epoch 8600, Loss: 14.851754, Validation loss: 15.808452\n",
      "Epoch 8700, Loss: 14.904580, Validation loss: 15.881539\n",
      "Epoch 8800, Loss: 14.855272, Validation loss: 15.809127\n",
      "Epoch 8900, Loss: 14.841599, Validation loss: 15.809430\n",
      "Epoch 9000, Loss: 14.830739, Validation loss: 15.801053\n",
      "Epoch 9100, Loss: 14.827337, Validation loss: 15.807635\n",
      "Epoch 9200, Loss: 14.900784, Validation loss: 15.879371\n",
      "Epoch 9300, Loss: 14.815170, Validation loss: 15.801978\n",
      "Epoch 9400, Loss: 14.818676, Validation loss: 15.814318\n",
      "Epoch 9500, Loss: 14.810296, Validation loss: 15.787646\n",
      "Epoch 9600, Loss: 14.797605, Validation loss: 15.795202\n",
      "Epoch 9700, Loss: 14.807331, Validation loss: 15.793419\n",
      "Epoch 9800, Loss: 14.795463, Validation loss: 15.788373\n",
      "Epoch 9900, Loss: 14.773278, Validation loss: 15.771811\n",
      "9999\r"
     ]
    },
    {
     "data": {
      "text/plain": [
       "Autoencoder(\n",
       "  (encoder): Encoder(\n",
       "    (encoderLayers): ModuleList(\n",
       "      (0): Linear(in_features=305, out_features=100, bias=True)\n",
       "      (1): ReLU()\n",
       "      (2): Linear(in_features=100, out_features=100, bias=True)\n",
       "      (3): ReLU()\n",
       "      (4): Linear(in_features=100, out_features=100, bias=True)\n",
       "      (5): ReLU()\n",
       "      (6): Linear(in_features=100, out_features=10, bias=True)\n",
       "    )\n",
       "  )\n",
       "  (decoder): Decoder(\n",
       "    (decoderLayers): ModuleList(\n",
       "      (0): Linear(in_features=10, out_features=100, bias=True)\n",
       "      (1): ReLU()\n",
       "      (2): Linear(in_features=100, out_features=100, bias=True)\n",
       "      (3): ReLU()\n",
       "      (4): Linear(in_features=100, out_features=100, bias=True)\n",
       "      (5): ReLU()\n",
       "      (6): Linear(in_features=100, out_features=305, bias=True)\n",
       "    )\n",
       "  )\n",
       ")"
      ]
     },
     "execution_count": 110,
     "metadata": {},
     "output_type": "execute_result"
    }
   ],
   "source": [
    "model = Autoencoder(n_cells_selected, [100, 100, 50], 10).to(device)\n",
    "optimizer = torch.optim.Adam(model.parameters(), lr=0.001)\n",
    "lossFunction = nn.MSELoss()\n",
    "\n",
    "train_data_tensor = torch.tensor(train_data, dtype=torch.float32).to(device)\n",
    "test_data_tensor = torch.tensor(test_data, dtype=torch.float32).to(device)\n",
    "\n",
    "trainAutoencoderWithValidation(model, train_data_tensor, 10000, 0.001, lossFunction, optimizer, test_data_tensor, printEvery=100)"
   ]
  },
  {
   "cell_type": "code",
   "execution_count": 112,
   "metadata": {},
   "outputs": [
    {
     "name": "stdout",
     "output_type": "stream",
     "text": [
      "bottleneckDim=2: frac test data variance explained:  0.39313507080078125\n",
      "bottleneckDim=2: frac train data variance explained:  0.4323834180831909\n"
     ]
    }
   ],
   "source": [
    "def explainedVariance(data, model, train_data):\n",
    "    mu = train_data.mean(axis=0).cpu().detach().numpy()\n",
    "    return 1 - np.var((data - model(data)).cpu().detach().numpy())/np.var(data.cpu().detach().numpy()-mu)\n",
    "# remainingVar = np.var((testData-model(testData)).cpu().detach().numpy())\n",
    "# totalVar = np.var(testData.cpu().detach().numpy()-mu)\n",
    "# fracExplainedVar = 1 - remainingVar/totalVar\n",
    "\n",
    "bottleneckDim = 2\n",
    "\n",
    "print(\"bottleneckDim=%d: frac test data variance explained: \" % bottleneckDim, explainedVariance(test_data_tensor, model, train_data_tensor))\n",
    "print(\"bottleneckDim=%d: frac train data variance explained: \" % bottleneckDim, explainedVariance(train_data_tensor, model, train_data_tensor))"
   ]
  },
  {
   "cell_type": "markdown",
   "metadata": {},
   "source": [
    "### Automate PCA-Autoencoder comparison"
   ]
  },
  {
   "cell_type": "code",
   "execution_count": 121,
   "metadata": {},
   "outputs": [],
   "source": [
    "def compare_pca_ae(selected_region, brain_region, trial_rates, ae_dims=[2,3,5,10,20,50]):\n",
    "\n",
    "    # select cells and trials\n",
    "    selected_region = \"DGd\"\n",
    "    selected_cells = np.argwhere(brain_region == selected_region).squeeze()\n",
    "    n_cells_selected = selected_cells.shape[0]\n",
    "    print(f\"We have {selected_cells.shape[0]} cells in {selected_region}\")\n",
    "\n",
    "    train_data, test_data = train_test_split(trial_rates[:, selected_cells, :], test_size=0.15)\n",
    "\n",
    "    train_data = train_data.transpose(0, 2, 1).reshape(-1, n_cells_selected)\n",
    "    train_data = train_data[~np.isnan(train_data).any(axis=1)]\n",
    "\n",
    "    test_data = test_data.transpose(0, 2, 1).reshape(-1, n_cells_selected)\n",
    "    test_data = test_data[~np.isnan(test_data).any(axis=1)]\n",
    "\n",
    "    # Do PCA\n",
    "    pca = PCA(n_components=n_cells_selected)\n",
    "    pca.fit(train_data)\n",
    "\n",
    "    pca_var_explained = np.zeros(min(50, n_cells_selected))\n",
    "    for dim in range(1,min(50, n_cells_selected)+1):\n",
    "        test_pcs = pca.transform(test_data)\n",
    "        test_pcs[:, dim:] = 0\n",
    "        test_proj = pca.inverse_transform(test_pcs)\n",
    "\n",
    "        s1 = np.var(test_data-test_proj)\n",
    "        s2 = np.var(test_data - train_data.mean(axis=0))\n",
    "        pca_var_explained[dim-1] = 1 - s1/s2\n",
    "\n",
    "    # Do AE\n",
    "    ae_var_explained = np.zeros(len(ae_dims))\n",
    "\n",
    "    for i, dim in enumerate(ae_dims):\n",
    "        #train \n",
    "        print(f\"Training {dim}-dimensional autoencoder\")\n",
    "        model = Autoencoder(n_cells_selected, [100, 100, 50], dim).to(device)\n",
    "        optimizer = torch.optim.Adam(model.parameters(), lr=0.001)\n",
    "        lossFunction = nn.MSELoss()\n",
    "\n",
    "        train_data_tensor = torch.tensor(train_data, dtype=torch.float32).to(device)\n",
    "        test_data_tensor = torch.tensor(test_data, dtype=torch.float32).to(device)\n",
    "\n",
    "        trainAutoencoderWithValidation(model, train_data_tensor, 10000, 0.001, lossFunction, optimizer, test_data_tensor, printEvery=100, verbose=False)\n",
    "\n",
    "        ae_var_explained[i] = explainedVariance(test_data_tensor, model, train_data_tensor)\n",
    "\n",
    "    \n",
    "    plt.title(f\"Explained variance in {selected_region}\")\n",
    "    plt.plot(1,min(50, n_cells_selected)+1, pca_var_explained, label=\"PCA\", marker='o')\n",
    "    plt.plot(ae_dims, ae_var_explained, label=\"AE\", marker='o')\n",
    "    plt.legend()\n",
    "    plt.xlabel(\"Number of dimensions\")\n",
    "    plt.ylabel(\"Explained variance\")\n",
    "\n",
    "    plt.savefig(f\"../results/uberphys/pca_ae_comparison/{selected_region}_pca_ae.png\")\n",
    "    np.save(f\"../results/uberphys/pca_ae_comparison/{selected_region}_pca_ae.npy\", (pca_var_explained, ae_var_explained, ae_dims))\n",
    "\n",
    "    return pca_var_explained, ae_var_explained\n",
    "    "
   ]
  },
  {
   "cell_type": "code",
   "execution_count": 122,
   "metadata": {},
   "outputs": [
    {
     "name": "stdout",
     "output_type": "stream",
     "text": [
      "We have 73 cells in DGd\n",
      "Training 2-dimensional autoencoder\n",
      "Training 3-dimensional autoencoder\n",
      "Training 5-dimensional autoencoder\n",
      "8456\r"
     ]
    }
   ],
   "source": [
    "pcave, aeve = compare_pca_ae(selected_region, brain_region, trial_rates)"
   ]
  },
  {
   "cell_type": "code",
   "execution_count": null,
   "metadata": {},
   "outputs": [],
   "source": []
  }
 ],
 "metadata": {
  "kernelspec": {
   "display_name": "splice",
   "language": "python",
   "name": "python3"
  },
  "language_info": {
   "codemirror_mode": {
    "name": "ipython",
    "version": 3
   },
   "file_extension": ".py",
   "mimetype": "text/x-python",
   "name": "python",
   "nbconvert_exporter": "python",
   "pygments_lexer": "ipython3",
   "version": "3.11.4"
  }
 },
 "nbformat": 4,
 "nbformat_minor": 2
}
